{
 "cells": [
  {
   "cell_type": "markdown",
   "metadata": {
    "id": "qXSQt1jpQOmz"
   },
   "source": [
    "# **Desafio Conta Azul**\n",
    "\n",
    "## Sobre a Conta Azul\n",
    "\n",
    "\n",
    "\n",
    "A Conta Azul é movida pela crença que todo empreendedor merece ter sucesso. Apesar do dia a dia cheio de responsabilidades, queremos que todo dono de um pequeno negócio consiga tempo para se dedicar ao que sempre sonhou quando decidiu abrir uma empresa. Por isso, usamos a tecnologia para criar uma plataforma em nuvem, onde o empreendedor juntamente com o seu contador, de forma simples e fácil, podem encontrar tudo o que precisam em tempo real. \n",
    "\n",
    "Para saber mais entre em nosso site: [https://contaazul.com/](https://contaazul.com/)\n",
    "\n",
    "\n",
    "## Contexto do desafio\n",
    "\n",
    "\n",
    "\n",
    "Atualmente o modelo de negocio da Conta Azul depende, em parte, do que chamamos de receita recorrente, isto envolve todos os contratos mensais, trimestrais ou anuais que temos com pequenas e médias empresas que utilizam nosso sistema de ERP. Mesmo que o churn atualmente seja considerado baixo, ele ainda é responsável por uma perda considerável de receita anual.\n",
    "\n",
    "Segue abaixo o fluxo seguido pelos clientes no momento do churn:\n",
    "![Captura de tela de 2021-12-03 11-16-42.png](data:image/png;base64,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)\n",
    "\n",
    "Portanto, muitas vezes quando o cliente chega neste estágio, é difícil reverter o cenário, o cliente já está desengajado. O ideal seria identificarmos o potencial churn com certa antecedência, até mesmo o entendimento a respeito de quais aspectos do comportamento ou das caractarísticas que influenciam o churn podem ser valiosas para o negócio.\n",
    "\n",
    "## Análise exploratória\n",
    "\n",
    "Esta é a etapa onde você consegue compartilhar o seu raciocínio analítico conosco, portanto aproveite este etapa e não esqueça de deixar explícito:\n",
    "*   Os insights e questionamentos que surgirem de sua análise exploratória.\n",
    "*   Para cada gráfico plotado, o que foi observado.\n",
    "*   Como a análise exploratória te ajudou a escolher as variáveis para o seu modelo.\n",
    "\n",
    "## Modelagem e Machine learning\n",
    "\n",
    "Nesta etapa você vai desenhar a modelagem e realizar a construção do seu modelo de machine learning que permita a criação de um produto que dê margem de ação preventiva e proativa para a área de negócios. É muito importante que você deixe bem estruturado e documentado sua linha de raciocínio, com anotações e descrições de cada passo deste processo.\n",
    "\n",
    "## Escolha das métricas\n",
    "\n",
    "Justifique quais métricas você escolheu para avaliar sua solução. Nesta etapa do desafio é importante que você deixe claro qual a criticidade e conceitos que suportam a sua decisão.\n",
    "\n",
    "## Interpretação do output\n",
    "\n",
    "Nesta etapa você deve deixar claro como os outputs da sua solução podem ser interpretados. Aqui também é o espaço para você conseguir trazer insights interessantes que podem ser transmitidos para a área de negócios.\n",
    "\n",
    "## Efeito\n",
    "\n",
    "Nesta etapa do desafio, considere que a sua solução virou um produto que pode ser utilizado pelos times de engajamento e retenção da Conta Azul. Este produto será uma lista de todos os clientes da Conta Azul com a propensão ao churn de cada um. Essa lista independe da data de vencimento do contrato, que é o principal momento onde ocorre o churn, e da probabilidade de chance de churn obtido com o algoritmo que você criou. Essa lista será compartilhada com a área de negócios, que a utilizará para desenhar e implementar ações visando diminuir o churn.\n",
    "\n",
    "Dentro deste contexto, sua tarefa é desenhar dois experimentos que consigam trazer clareza a respeito do impacto da nossa solução. Considere que as tratativas para o churn podem ser, por exemplo, dar um desconto para o cliente, fornecer treinamento sobre a plataforma ou ter um acionamento da equipe de relacionamento com o cliente.\n",
    "\n",
    "\n",
    "**Primeiro experimento**\n",
    "\n",
    "Para este estudo, considere que é possível controlar quais as tratativas serão utilizadas, quando e para quais clientes elas serão direcionadas.\n",
    "\n",
    "\n",
    "**Segundo experimento**\n",
    "\n",
    "Para este estudo, considere que teremos três tipos de tratativas para o churn e a decisão de quando e para quais clientes utilizar cada uma é da área de negócio.\n",
    "\n",
    "Além do cenário de cada experimento, considere que não existem limitações a respeito do que pode ser feito. Deixe registrado e documentado a decisão de cada passo adotado para cada experimento, pois é importante que a sua linha de raciocínio fique clara e que o estudo esteja documentado de forma replicável por outros colegas do seu time.\n",
    "\n"
   ]
  },
  {
   "cell_type": "markdown",
   "metadata": {
    "id": "GvgHZvXFW7VN"
   },
   "source": [
    "## **Bases de dados**\n",
    "\n",
    "https://docs.google.com/spreadsheets/d/1qU9oeYgrrpXGAiqiB9jZ_uQgoXxEuRLVU9iPj83UTkw/edit?usp=sharing"
   ]
  },
  {
   "cell_type": "markdown",
   "metadata": {},
   "source": [
    "### Importando os dados"
   ]
  },
  {
   "cell_type": "code",
   "execution_count": 1,
   "metadata": {},
   "outputs": [],
   "source": [
    "import pandas as pd\n",
    "import numpy as np\n",
    "import matplotlib.pyplot as plt\n",
    "import seaborn as sns\n",
    "import warnings\n",
    "warnings.filterwarnings('ignore')"
   ]
  },
  {
   "cell_type": "code",
   "execution_count": 2,
   "metadata": {},
   "outputs": [],
   "source": [
    "df = pd.read_csv('customer_churn_data - customer_churn_data.csv')"
   ]
  },
  {
   "cell_type": "code",
   "execution_count": 3,
   "metadata": {},
   "outputs": [
    {
     "data": {
      "text/html": [
       "<div>\n",
       "<style scoped>\n",
       "    .dataframe tbody tr th:only-of-type {\n",
       "        vertical-align: middle;\n",
       "    }\n",
       "\n",
       "    .dataframe tbody tr th {\n",
       "        vertical-align: top;\n",
       "    }\n",
       "\n",
       "    .dataframe thead th {\n",
       "        text-align: right;\n",
       "    }\n",
       "</style>\n",
       "<table border=\"1\" class=\"dataframe\">\n",
       "  <thead>\n",
       "    <tr style=\"text-align: right;\">\n",
       "      <th></th>\n",
       "      <th>ID</th>\n",
       "      <th>Tipo de empresa</th>\n",
       "      <th>Fundação da empresa</th>\n",
       "      <th>Possui mais de um sócio</th>\n",
       "      <th>Funcionários</th>\n",
       "      <th>Meses de permanência</th>\n",
       "      <th>Utiliza serviços financeiros</th>\n",
       "      <th>PossuiContador</th>\n",
       "      <th>Faz conciliação bancária</th>\n",
       "      <th>Frequência de utilização de feature do sistema: Módulo financeiro</th>\n",
       "      <th>...</th>\n",
       "      <th>Frequência de utilização de feature do sistema: Módulo de vendas</th>\n",
       "      <th>Frequência de utilização de feature do sistema: Relatórios</th>\n",
       "      <th>Frequência de utilização de feature do sistema: Utilização de APIs de integração</th>\n",
       "      <th>Contrato</th>\n",
       "      <th>Emite boletos</th>\n",
       "      <th>Emite boletos.1</th>\n",
       "      <th>Tipo de pagamento</th>\n",
       "      <th>Receita mensal</th>\n",
       "      <th>Receita total</th>\n",
       "      <th>Churn</th>\n",
       "    </tr>\n",
       "  </thead>\n",
       "  <tbody>\n",
       "    <tr>\n",
       "      <th>0</th>\n",
       "      <td>1</td>\n",
       "      <td>Micro empresa</td>\n",
       "      <td>2016</td>\n",
       "      <td>Sim</td>\n",
       "      <td>até 5 funcionários</td>\n",
       "      <td>1</td>\n",
       "      <td>Não</td>\n",
       "      <td>NaN</td>\n",
       "      <td>automática</td>\n",
       "      <td>Pouco uso</td>\n",
       "      <td>...</td>\n",
       "      <td>Pouco uso</td>\n",
       "      <td>Pouco uso</td>\n",
       "      <td>Pouco uso</td>\n",
       "      <td>Mês-a-mês</td>\n",
       "      <td>1</td>\n",
       "      <td>Yes</td>\n",
       "      <td>Boleto - pagamento único</td>\n",
       "      <td>R$ 29,85</td>\n",
       "      <td>R$ 29,85</td>\n",
       "      <td>Não</td>\n",
       "    </tr>\n",
       "    <tr>\n",
       "      <th>1</th>\n",
       "      <td>2</td>\n",
       "      <td>Pequena empresa</td>\n",
       "      <td>2018</td>\n",
       "      <td>Não</td>\n",
       "      <td>até 5 funcionários</td>\n",
       "      <td>34</td>\n",
       "      <td>Sim</td>\n",
       "      <td>Não</td>\n",
       "      <td>automática</td>\n",
       "      <td>Uso frequente</td>\n",
       "      <td>...</td>\n",
       "      <td>Pouco uso</td>\n",
       "      <td>Pouco uso</td>\n",
       "      <td>Pouco uso</td>\n",
       "      <td>Trimestral</td>\n",
       "      <td>0</td>\n",
       "      <td>No</td>\n",
       "      <td>Boleto - mês a mês</td>\n",
       "      <td>R$ 56,95</td>\n",
       "      <td>R$ 1.889,50</td>\n",
       "      <td>Não</td>\n",
       "    </tr>\n",
       "    <tr>\n",
       "      <th>2</th>\n",
       "      <td>3</td>\n",
       "      <td>Pequena empresa</td>\n",
       "      <td>2021</td>\n",
       "      <td>Não</td>\n",
       "      <td>até 5 funcionários</td>\n",
       "      <td>2</td>\n",
       "      <td>Sim</td>\n",
       "      <td>Não</td>\n",
       "      <td>automática</td>\n",
       "      <td>Uso frequente</td>\n",
       "      <td>...</td>\n",
       "      <td>Pouco uso</td>\n",
       "      <td>Pouco uso</td>\n",
       "      <td>Pouco uso</td>\n",
       "      <td>Mês-a-mês</td>\n",
       "      <td>1</td>\n",
       "      <td>Yes</td>\n",
       "      <td>Boleto - mês a mês</td>\n",
       "      <td>R$ 53,85</td>\n",
       "      <td>R$ 108,15</td>\n",
       "      <td>Sim</td>\n",
       "    </tr>\n",
       "    <tr>\n",
       "      <th>3</th>\n",
       "      <td>4</td>\n",
       "      <td>Pequena empresa</td>\n",
       "      <td>2016</td>\n",
       "      <td>Não</td>\n",
       "      <td>até 5 funcionários</td>\n",
       "      <td>45</td>\n",
       "      <td>Não</td>\n",
       "      <td>NaN</td>\n",
       "      <td>automática</td>\n",
       "      <td>Uso frequente</td>\n",
       "      <td>...</td>\n",
       "      <td>Uso frequente</td>\n",
       "      <td>Pouco uso</td>\n",
       "      <td>Pouco uso</td>\n",
       "      <td>Trimestral</td>\n",
       "      <td>0</td>\n",
       "      <td>No</td>\n",
       "      <td>Cartão de crédito - pagamento único</td>\n",
       "      <td>R$ 42,30</td>\n",
       "      <td>R$ 1.840,75</td>\n",
       "      <td>Não</td>\n",
       "    </tr>\n",
       "    <tr>\n",
       "      <th>4</th>\n",
       "      <td>5</td>\n",
       "      <td>Micro empresa</td>\n",
       "      <td>2017</td>\n",
       "      <td>Não</td>\n",
       "      <td>até 5 funcionários</td>\n",
       "      <td>2</td>\n",
       "      <td>Sim</td>\n",
       "      <td>Não</td>\n",
       "      <td>manual</td>\n",
       "      <td>Pouco uso</td>\n",
       "      <td>...</td>\n",
       "      <td>Pouco uso</td>\n",
       "      <td>Pouco uso</td>\n",
       "      <td>Pouco uso</td>\n",
       "      <td>Mês-a-mês</td>\n",
       "      <td>1</td>\n",
       "      <td>Yes</td>\n",
       "      <td>Boleto - pagamento único</td>\n",
       "      <td>R$ 70,70</td>\n",
       "      <td>R$ 151,65</td>\n",
       "      <td>Sim</td>\n",
       "    </tr>\n",
       "  </tbody>\n",
       "</table>\n",
       "<p>5 rows × 22 columns</p>\n",
       "</div>"
      ],
      "text/plain": [
       "   ID  Tipo de empresa  Fundação da empresa Possui mais de um sócio  \\\n",
       "0   1    Micro empresa                 2016                     Sim   \n",
       "1   2  Pequena empresa                 2018                     Não   \n",
       "2   3  Pequena empresa                 2021                     Não   \n",
       "3   4  Pequena empresa                 2016                     Não   \n",
       "4   5    Micro empresa                 2017                     Não   \n",
       "\n",
       "         Funcionários  Meses de permanência  Utiliza serviços financeiros  \\\n",
       "0  até 5 funcionários                      1                          Não   \n",
       "1  até 5 funcionários                     34                          Sim   \n",
       "2  até 5 funcionários                      2                          Sim   \n",
       "3  até 5 funcionários                     45                          Não   \n",
       "4  até 5 funcionários                      2                          Sim   \n",
       "\n",
       "  PossuiContador Faz conciliação bancária  \\\n",
       "0            NaN               automática   \n",
       "1           Não                automática   \n",
       "2           Não                automática   \n",
       "3            NaN               automática   \n",
       "4           Não                    manual   \n",
       "\n",
       "  Frequência de utilização de feature do sistema: Módulo financeiro  ...  \\\n",
       "0                                          Pouco uso                 ...   \n",
       "1                                      Uso frequente                 ...   \n",
       "2                                      Uso frequente                 ...   \n",
       "3                                      Uso frequente                 ...   \n",
       "4                                          Pouco uso                 ...   \n",
       "\n",
       "  Frequência de utilização de feature do sistema: Módulo de vendas  \\\n",
       "0                                          Pouco uso                 \n",
       "1                                          Pouco uso                 \n",
       "2                                          Pouco uso                 \n",
       "3                                      Uso frequente                 \n",
       "4                                          Pouco uso                 \n",
       "\n",
       "  Frequência de utilização de feature do sistema: Relatórios  \\\n",
       "0                                          Pouco uso           \n",
       "1                                          Pouco uso           \n",
       "2                                          Pouco uso           \n",
       "3                                          Pouco uso           \n",
       "4                                          Pouco uso           \n",
       "\n",
       "  Frequência de utilização de feature do sistema: Utilização de APIs de integração  \\\n",
       "0                                          Pouco uso                                 \n",
       "1                                          Pouco uso                                 \n",
       "2                                          Pouco uso                                 \n",
       "3                                          Pouco uso                                 \n",
       "4                                          Pouco uso                                 \n",
       "\n",
       "     Contrato Emite boletos Emite boletos.1  \\\n",
       "0   Mês-a-mês             1             Yes   \n",
       "1  Trimestral             0              No   \n",
       "2   Mês-a-mês             1             Yes   \n",
       "3  Trimestral             0              No   \n",
       "4   Mês-a-mês             1             Yes   \n",
       "\n",
       "                     Tipo de pagamento Receita mensal Receita total Churn  \n",
       "0             Boleto - pagamento único       R$ 29,85      R$ 29,85   Não  \n",
       "1                   Boleto - mês a mês       R$ 56,95   R$ 1.889,50   Não  \n",
       "2                   Boleto - mês a mês       R$ 53,85     R$ 108,15   Sim  \n",
       "3  Cartão de crédito - pagamento único       R$ 42,30   R$ 1.840,75   Não  \n",
       "4             Boleto - pagamento único       R$ 70,70     R$ 151,65   Sim  \n",
       "\n",
       "[5 rows x 22 columns]"
      ]
     },
     "execution_count": 3,
     "metadata": {},
     "output_type": "execute_result"
    }
   ],
   "source": [
    "df.head()"
   ]
  },
  {
   "cell_type": "code",
   "execution_count": 4,
   "metadata": {},
   "outputs": [
    {
     "data": {
      "text/plain": [
       "(7043, 22)"
      ]
     },
     "execution_count": 4,
     "metadata": {},
     "output_type": "execute_result"
    }
   ],
   "source": [
    "df.shape"
   ]
  },
  {
   "cell_type": "code",
   "execution_count": 5,
   "metadata": {
    "scrolled": false
   },
   "outputs": [
    {
     "name": "stdout",
     "output_type": "stream",
     "text": [
      "<class 'pandas.core.frame.DataFrame'>\n",
      "RangeIndex: 7043 entries, 0 to 7042\n",
      "Data columns (total 22 columns):\n",
      " #   Column                                                                            Non-Null Count  Dtype \n",
      "---  ------                                                                            --------------  ----- \n",
      " 0   ID                                                                                7043 non-null   int64 \n",
      " 1   Tipo de empresa                                                                   7043 non-null   object\n",
      " 2   Fundação da empresa                                                               7043 non-null   int64 \n",
      " 3   Possui mais de um sócio                                                           7043 non-null   object\n",
      " 4   Funcionários                                                                      7043 non-null   object\n",
      " 5   Meses de permanência                                                              7043 non-null   int64 \n",
      " 6   Utiliza serviços financeiros                                                      7043 non-null   object\n",
      " 7   PossuiContador                                                                    6361 non-null   object\n",
      " 8   Faz conciliação bancária                                                          7043 non-null   object\n",
      " 9   Frequência de utilização de feature do sistema: Módulo financeiro                 7043 non-null   object\n",
      " 10  Frequência de utilização de feature do sistema: Emissão de nota fiscal            7043 non-null   object\n",
      " 11  Frequência de utilização de feature do sistema: Integração bancária               7043 non-null   object\n",
      " 12  Frequência de utilização de feature do sistema: Módulo de vendas                  7043 non-null   object\n",
      " 13  Frequência de utilização de feature do sistema: Relatórios                        7043 non-null   object\n",
      " 14  Frequência de utilização de feature do sistema: Utilização de APIs de integração  7043 non-null   object\n",
      " 15  Contrato                                                                          7043 non-null   object\n",
      " 16  Emite boletos                                                                     7043 non-null   int64 \n",
      " 17  Emite boletos.1                                                                   7043 non-null   object\n",
      " 18  Tipo de pagamento                                                                 7043 non-null   object\n",
      " 19  Receita mensal                                                                    7043 non-null   object\n",
      " 20  Receita total                                                                     7032 non-null   object\n",
      " 21  Churn                                                                             7043 non-null   object\n",
      "dtypes: int64(4), object(18)\n",
      "memory usage: 1.2+ MB\n"
     ]
    }
   ],
   "source": [
    "df.info()"
   ]
  },
  {
   "cell_type": "code",
   "execution_count": 6,
   "metadata": {},
   "outputs": [
    {
     "data": {
      "text/html": [
       "<div>\n",
       "<style scoped>\n",
       "    .dataframe tbody tr th:only-of-type {\n",
       "        vertical-align: middle;\n",
       "    }\n",
       "\n",
       "    .dataframe tbody tr th {\n",
       "        vertical-align: top;\n",
       "    }\n",
       "\n",
       "    .dataframe thead th {\n",
       "        text-align: right;\n",
       "    }\n",
       "</style>\n",
       "<table border=\"1\" class=\"dataframe\">\n",
       "  <thead>\n",
       "    <tr style=\"text-align: right;\">\n",
       "      <th></th>\n",
       "      <th>ID</th>\n",
       "      <th>Fundação da empresa</th>\n",
       "      <th>Meses de permanência</th>\n",
       "      <th>Emite boletos</th>\n",
       "    </tr>\n",
       "  </thead>\n",
       "  <tbody>\n",
       "    <tr>\n",
       "      <th>ID</th>\n",
       "      <td>1.000000</td>\n",
       "      <td>-0.013071</td>\n",
       "      <td>0.007150</td>\n",
       "      <td>0.002741</td>\n",
       "    </tr>\n",
       "    <tr>\n",
       "      <th>Fundação da empresa</th>\n",
       "      <td>-0.013071</td>\n",
       "      <td>1.000000</td>\n",
       "      <td>-0.001871</td>\n",
       "      <td>-0.128500</td>\n",
       "    </tr>\n",
       "    <tr>\n",
       "      <th>Meses de permanência</th>\n",
       "      <td>0.007150</td>\n",
       "      <td>-0.001871</td>\n",
       "      <td>1.000000</td>\n",
       "      <td>0.006152</td>\n",
       "    </tr>\n",
       "    <tr>\n",
       "      <th>Emite boletos</th>\n",
       "      <td>0.002741</td>\n",
       "      <td>-0.128500</td>\n",
       "      <td>0.006152</td>\n",
       "      <td>1.000000</td>\n",
       "    </tr>\n",
       "  </tbody>\n",
       "</table>\n",
       "</div>"
      ],
      "text/plain": [
       "                             ID  Fundação da empresa  Meses de permanência   \\\n",
       "ID                     1.000000            -0.013071               0.007150   \n",
       "Fundação da empresa   -0.013071             1.000000              -0.001871   \n",
       "Meses de permanência   0.007150            -0.001871               1.000000   \n",
       "Emite boletos          0.002741            -0.128500               0.006152   \n",
       "\n",
       "                       Emite boletos  \n",
       "ID                          0.002741  \n",
       "Fundação da empresa        -0.128500  \n",
       "Meses de permanência        0.006152  \n",
       "Emite boletos               1.000000  "
      ]
     },
     "execution_count": 6,
     "metadata": {},
     "output_type": "execute_result"
    }
   ],
   "source": [
    "df.corr()"
   ]
  },
  {
   "cell_type": "code",
   "execution_count": 7,
   "metadata": {
    "scrolled": true
   },
   "outputs": [
    {
     "data": {
      "text/html": [
       "<div>\n",
       "<style scoped>\n",
       "    .dataframe tbody tr th:only-of-type {\n",
       "        vertical-align: middle;\n",
       "    }\n",
       "\n",
       "    .dataframe tbody tr th {\n",
       "        vertical-align: top;\n",
       "    }\n",
       "\n",
       "    .dataframe thead th {\n",
       "        text-align: right;\n",
       "    }\n",
       "</style>\n",
       "<table border=\"1\" class=\"dataframe\">\n",
       "  <thead>\n",
       "    <tr style=\"text-align: right;\">\n",
       "      <th></th>\n",
       "      <th>ID</th>\n",
       "      <th>Fundação da empresa</th>\n",
       "      <th>Meses de permanência</th>\n",
       "      <th>Emite boletos</th>\n",
       "    </tr>\n",
       "  </thead>\n",
       "  <tbody>\n",
       "    <tr>\n",
       "      <th>count</th>\n",
       "      <td>7043.000000</td>\n",
       "      <td>7043.000000</td>\n",
       "      <td>7043.000000</td>\n",
       "      <td>7043.000000</td>\n",
       "    </tr>\n",
       "    <tr>\n",
       "      <th>mean</th>\n",
       "      <td>3522.000000</td>\n",
       "      <td>2016.736476</td>\n",
       "      <td>32.371149</td>\n",
       "      <td>0.592219</td>\n",
       "    </tr>\n",
       "    <tr>\n",
       "      <th>std</th>\n",
       "      <td>2033.283305</td>\n",
       "      <td>4.582311</td>\n",
       "      <td>24.559481</td>\n",
       "      <td>0.491457</td>\n",
       "    </tr>\n",
       "    <tr>\n",
       "      <th>min</th>\n",
       "      <td>1.000000</td>\n",
       "      <td>2001.000000</td>\n",
       "      <td>0.000000</td>\n",
       "      <td>0.000000</td>\n",
       "    </tr>\n",
       "    <tr>\n",
       "      <th>25%</th>\n",
       "      <td>1761.500000</td>\n",
       "      <td>2016.000000</td>\n",
       "      <td>9.000000</td>\n",
       "      <td>0.000000</td>\n",
       "    </tr>\n",
       "    <tr>\n",
       "      <th>50%</th>\n",
       "      <td>3522.000000</td>\n",
       "      <td>2018.000000</td>\n",
       "      <td>29.000000</td>\n",
       "      <td>1.000000</td>\n",
       "    </tr>\n",
       "    <tr>\n",
       "      <th>75%</th>\n",
       "      <td>5282.500000</td>\n",
       "      <td>2020.000000</td>\n",
       "      <td>55.000000</td>\n",
       "      <td>1.000000</td>\n",
       "    </tr>\n",
       "    <tr>\n",
       "      <th>max</th>\n",
       "      <td>7043.000000</td>\n",
       "      <td>2021.000000</td>\n",
       "      <td>72.000000</td>\n",
       "      <td>1.000000</td>\n",
       "    </tr>\n",
       "  </tbody>\n",
       "</table>\n",
       "</div>"
      ],
      "text/plain": [
       "                ID  Fundação da empresa  Meses de permanência   Emite boletos\n",
       "count  7043.000000          7043.000000            7043.000000    7043.000000\n",
       "mean   3522.000000          2016.736476              32.371149       0.592219\n",
       "std    2033.283305             4.582311              24.559481       0.491457\n",
       "min       1.000000          2001.000000               0.000000       0.000000\n",
       "25%    1761.500000          2016.000000               9.000000       0.000000\n",
       "50%    3522.000000          2018.000000              29.000000       1.000000\n",
       "75%    5282.500000          2020.000000              55.000000       1.000000\n",
       "max    7043.000000          2021.000000              72.000000       1.000000"
      ]
     },
     "execution_count": 7,
     "metadata": {},
     "output_type": "execute_result"
    }
   ],
   "source": [
    "df.describe()"
   ]
  },
  {
   "cell_type": "code",
   "execution_count": 8,
   "metadata": {},
   "outputs": [
    {
     "data": {
      "text/plain": [
       "ID                                                                                    0\n",
       "Tipo de empresa                                                                       0\n",
       "Fundação da empresa                                                                   0\n",
       "Possui mais de um sócio                                                               0\n",
       "Funcionários                                                                          0\n",
       "Meses de permanência                                                                  0\n",
       "Utiliza serviços financeiros                                                          0\n",
       "PossuiContador                                                                      682\n",
       "Faz conciliação bancária                                                              0\n",
       "Frequência de utilização de feature do sistema: Módulo financeiro                     0\n",
       "Frequência de utilização de feature do sistema: Emissão de nota fiscal                0\n",
       "Frequência de utilização de feature do sistema: Integração bancária                   0\n",
       "Frequência de utilização de feature do sistema: Módulo de vendas                      0\n",
       "Frequência de utilização de feature do sistema: Relatórios                            0\n",
       "Frequência de utilização de feature do sistema: Utilização de APIs de integração      0\n",
       "Contrato                                                                              0\n",
       "Emite boletos                                                                         0\n",
       "Emite boletos.1                                                                       0\n",
       "Tipo de pagamento                                                                     0\n",
       "Receita mensal                                                                        0\n",
       "Receita total                                                                        11\n",
       "Churn                                                                                 0\n",
       "dtype: int64"
      ]
     },
     "execution_count": 8,
     "metadata": {},
     "output_type": "execute_result"
    }
   ],
   "source": [
    "df.isna().sum()"
   ]
  },
  {
   "cell_type": "markdown",
   "metadata": {},
   "source": [
    "### CUIDADO:\n",
    "##### Como tem muito dado faltante em contador tem que tomar cuidado!!"
   ]
  },
  {
   "cell_type": "markdown",
   "metadata": {},
   "source": [
    "# Análise Exploratória\n",
    "\n",
    "## Alterando DataFrame, transformando object em inteiros"
   ]
  },
  {
   "cell_type": "code",
   "execution_count": 9,
   "metadata": {},
   "outputs": [],
   "source": [
    "nomes = ['ID', 'Tipo de empresa', 'Fundação da empresa', 'Possui mais de um sócio', 'Funcionários', 'Meses de permanência ', 'Utiliza serviços financeiros', 'PossuiContador', 'Faz conciliação bancária', 'Frequência de utilização de feature do sistema: Módulo financeiro', 'Frequência de utilização de feature do sistema: Emissão de nota fiscal', 'Frequência de utilização de feature do sistema: Integração bancária', 'Frequência de utilização de feature do sistema: Módulo de vendas', 'Frequência de utilização de feature do sistema: Relatórios', 'Frequência de utilização de feature do sistema: Utilização de APIs de integração', 'Contrato', 'Emite boletos', 'Emite boletos.1', 'Tipo de pagamento', 'Receita mensal', 'Receita total', 'Churn']\n",
    "nomes\n",
    "registros = {}\n",
    "    "
   ]
  },
  {
   "cell_type": "code",
   "execution_count": 10,
   "metadata": {},
   "outputs": [
    {
     "data": {
      "text/plain": [
       "{'ID': array([   1,    2,    3, ..., 7041, 7042, 7043]),\n",
       " 'Tipo de empresa': array(['Micro empresa', 'Pequena empresa'], dtype=object),\n",
       " 'Fundação da empresa': array([2016, 2018, 2021, 2017, 2019, 2011, 2020, 2008, 2005, 2004, 2007,\n",
       "        2012, 2001, 2009, 2013, 2014, 2006, 2010, 2002, 2003, 2015]),\n",
       " 'Possui mais de um sócio': array(['Sim', 'Não'], dtype=object),\n",
       " 'Funcionários': array(['até 5 funcionários', '6 ou mais funcionários'], dtype=object),\n",
       " 'Meses de permanência ': array([ 1, 34,  2, 45,  8, 22, 10, 28, 62, 13, 16, 58, 49, 25, 69, 52, 71,\n",
       "        21, 12, 30, 47, 72, 17, 27,  5, 46, 11, 70, 63, 43, 15, 60, 18, 66,\n",
       "         9,  3, 31, 50, 64, 56,  7, 42, 35, 48, 29, 65, 38, 68, 32, 55, 37,\n",
       "        36, 41,  6,  4, 33, 67, 23, 57, 61, 14, 20, 53, 40, 59, 24, 44, 19,\n",
       "        54, 51, 26,  0, 39]),\n",
       " 'Utiliza serviços financeiros': array(['Não', 'Sim'], dtype=object),\n",
       " 'PossuiContador': array([nan, 'Não ', 'Sim'], dtype=object),\n",
       " 'Faz conciliação bancária': array(['automática', 'manual', 'não faz'], dtype=object),\n",
       " 'Frequência de utilização de feature do sistema: Módulo financeiro': array(['Pouco uso', 'Uso frequente', 'Nunca utilizou'], dtype=object),\n",
       " 'Frequência de utilização de feature do sistema: Emissão de nota fiscal': array(['Uso frequente', 'Pouco uso', 'Nunca utilizou'], dtype=object),\n",
       " 'Frequência de utilização de feature do sistema: Integração bancária': array(['Pouco uso', 'Uso frequente', 'Nunca utilizou'], dtype=object),\n",
       " 'Frequência de utilização de feature do sistema: Módulo de vendas': array(['Pouco uso', 'Uso frequente', 'Nunca utilizou'], dtype=object),\n",
       " 'Frequência de utilização de feature do sistema: Relatórios': array(['Pouco uso', 'Uso frequente', 'Nunca utilizou'], dtype=object),\n",
       " 'Frequência de utilização de feature do sistema: Utilização de APIs de integração': array(['Pouco uso', 'Uso frequente', 'Nunca utilizou'], dtype=object),\n",
       " 'Contrato': array(['Mês-a-mês', 'Trimestral', 'Anual'], dtype=object),\n",
       " 'Emite boletos': array([1, 0]),\n",
       " 'Emite boletos.1': array(['Yes', 'No'], dtype=object),\n",
       " 'Tipo de pagamento': array(['Boleto - pagamento único', 'Boleto - mês a mês',\n",
       "        'Cartão de crédito - pagamento único',\n",
       "        'Cartão de crédito - mês a mês'], dtype=object),\n",
       " 'Receita mensal': array(['R$ 29,85', 'R$ 56,95', 'R$ 53,85', ..., 'R$ 63,10', 'R$ 44,20',\n",
       "        'R$ 78,70'], dtype=object),\n",
       " 'Receita total': array(['R$ 29,85', 'R$ 1.889,50', 'R$ 108,15', ..., 'R$ 346,45',\n",
       "        'R$ 306,60', 'R$ 6.844,50'], dtype=object),\n",
       " 'Churn': array(['Não', 'Sim'], dtype=object)}"
      ]
     },
     "execution_count": 10,
     "metadata": {},
     "output_type": "execute_result"
    }
   ],
   "source": [
    "for nome in nomes:\n",
    "    registros[nome] = df[nome].unique()\n",
    "registros"
   ]
  },
  {
   "cell_type": "markdown",
   "metadata": {},
   "source": [
    "## Mudando as variaveis para:\n",
    "\n",
    "### ID\n",
    "### Tipo de empresa --> tipo_empresa --> 0 (MicroEMpresa), 1 (Pequena Empresa)\n",
    "### Fundação da empresa --> idade_empresa\n",
    "### Possui mais de 1 sócio -->  0(Não), 1 (Sim)\n",
    "### Possui mais de um sócio --> mais_1_socio --> 0(Não), 1 (Sim)\n",
    "### Funcionários --> funcionarios --> 0 (até 5), 1 (mais de 6)\n",
    "### Meses de permanência --> meses_permanencia\n",
    "### Utiliza serviços financeiros --> utiliza_servicos_financeiros --> 0(Não), 1 (Sim)\n",
    "### PossuiContador --> possui_contador --> 0(Não), 1 (Sim), 2(Nan)\n",
    "### Faz conciliação bancária --> conciliacao_banc = 0 (nao faz), 1 (automática), 2 (manual)\n",
    "### Frequência de utilização de feature do sistema: Módulo financeiro --> freq_modulo_financeiro --> 0 (nunca usou), 1 (pouco uso), 2 (uso frequente)\n",
    "### Frequência de utilização de feature do sistema: Emissão de nota fiscal --> freq_modulo_nota --> 0 (nunca usou), 1 (pouco uso), 2 (uso frequente)\n",
    "### Frequência de utilização de feature do sistema: Integração bancária -> freq_modulo_bancario --> 0 (nunca usou), 1 (pouco uso), 2 (uso frequente)\n",
    "### Frequência de utilização de feature do sistema: Módulo de vendas -> freq_modulo_vendas --> 0 (nunca usou), 1 (pouco uso), 2 (uso frequente)\n",
    "### Frequência de utilização de feature do sistema: Relatórios --> freq_modulo_relatorios --> 0 (nunca usou), 1 (pouco uso), 2 (uso frequente)\n",
    "### Frequência de utilização de feature do sistema: Utilização de APIs de integração --> freq_modulo_api -->0 (nunca usou), 1 (pouco uso), 2 (uso frequente)\n",
    "### Contrato --> contrato --> 0 (Mês-a-mês), 1 (Trimestral), 2 (anual)\n",
    "### Emite boletos --> emite_boletos --> 0 (nao), 1 (sim)\n",
    "### Emite boletos.1 --> TIRAR\n",
    "### Tipo de pagamento --> tipo_pagamento --> 0 (Boleto - mês a mês), 1 (Boleto - pagamento único), 2 (Cartão de crédito - mês a mês), 3 (Cartão de crédito - pagamento único)\n",
    "### Receita mensal --> receita_mensal --> tirar cifrão\n",
    "### Receita total --> receita total --> tirar cifrão"
   ]
  },
  {
   "cell_type": "code",
   "execution_count": 11,
   "metadata": {},
   "outputs": [
    {
     "data": {
      "text/plain": [
       "0         29.85\n",
       "1       1889.50\n",
       "2        108.15\n",
       "3       1840.75\n",
       "4        151.65\n",
       "         ...   \n",
       "7038    1990.50\n",
       "7039    7362.90\n",
       "7040     346.45\n",
       "7041     306.60\n",
       "7042    6844.50\n",
       "Name: Receita total, Length: 7043, dtype: object"
      ]
     },
     "execution_count": 11,
     "metadata": {},
     "output_type": "execute_result"
    }
   ],
   "source": [
    "df['Receita total']=df['Receita total'].str.replace('R$ ', '', regex=False)\n",
    "df['Receita total']=df['Receita total'].str.replace('.', '', regex=False)\n",
    "df['Receita total']=df['Receita total'].str.replace(',', '.', regex=False)\n",
    "df['Receita total']"
   ]
  },
  {
   "cell_type": "code",
   "execution_count": 12,
   "metadata": {},
   "outputs": [
    {
     "data": {
      "text/plain": [
       "0    1\n",
       "1    2\n",
       "2    3\n",
       "3    4\n",
       "4    5\n",
       "Name: id, dtype: int64"
      ]
     },
     "execution_count": 12,
     "metadata": {},
     "output_type": "execute_result"
    }
   ],
   "source": [
    "df['id'] = df['ID'].apply(lambda x:x)\n",
    "df['tipo_empresa'] = df['Tipo de empresa'].apply(lambda x: 0 if x == 'Micro empresa' else 1)\n",
    "df['idade_empresa'] = df['Fundação da empresa'].apply(lambda x: -(x - 2022))\n",
    "df['possui_mais_1_socio'] = df['Possui mais de um sócio'].apply(lambda x: 0 if x == 'Não' else 1)\n",
    "df['funcionarios'] = df['Funcionários'].apply(lambda x: 0 if x == 'até 5 funcionários' else 1)\n",
    "df['meses_permanencia'] = df['Meses de permanência '].apply(lambda x: x)\n",
    "df['utiliza_serv_financeiros'] = df['Utiliza serviços financeiros'].apply(lambda x: 0 if x == 'Não' else 1)\n",
    "df['possui_contador'] = df['PossuiContador'].apply(lambda x: 0 if x == 'Não' else (1 if x == 'Sim' else 2))\n",
    "df['faz_conc_banc'] = df['Faz conciliação bancária'].apply(lambda x: 1 if x == 'automática' else (2 if x == 'manual' else 0))\n",
    "df['freq_modulo_financeiro'] = df['Frequência de utilização de feature do sistema: Módulo financeiro'].apply(lambda x: 0 if x == 'Nunca utilizou' else (1 if x == 'Pouco uso' else 2))\n",
    "df['freq_modulo_fiscal'] = df['Frequência de utilização de feature do sistema: Emissão de nota fiscal'].apply(lambda x: 0 if x == 'Nunca utilizou' else (1 if x == 'Pouco uso' else 2))\n",
    "df['freq_modulo_bancario'] = df['Frequência de utilização de feature do sistema: Integração bancária'].apply(lambda x: 0 if x == 'Nunca utilizou' else (1 if x == 'Pouco uso' else 2))\n",
    "df['freq_modulo_vendas'] = df['Frequência de utilização de feature do sistema: Módulo de vendas'].apply(lambda x: 0 if x == 'Nunca utilizou' else (1 if x == 'Pouco uso' else 2))\n",
    "df['freq_modulo_relatorios'] = df['Frequência de utilização de feature do sistema: Relatórios'].apply(lambda x: 0 if x == 'Nunca utilizou' else (1 if x == 'Pouco uso' else 2))\n",
    "df['freq_modulo_api'] = df['Frequência de utilização de feature do sistema: Utilização de APIs de integração'].apply(lambda x: 0 if x == 'Nunca utilizou' else (1 if x == 'Pouco uso' else 2))\n",
    "df['contrato'] = df['Contrato'].apply(lambda x: 0 if x == 'Mês-a-mês' else (1 if x == 'Trimestral' else 2))\n",
    "df['boleto']=df['Emite boletos'].apply(lambda x: x)\n",
    "df['tipo_pagamento'] = df['Tipo de pagamento'].apply(lambda x: 0 if x == 'Boleto - mês a mês' else (1 if x == 'Boleto - pagamento único' else (2 if x =='Cartão de crédito - mês a mês' else 3)))\n",
    "df['receita_mensal'] = df['Receita mensal'].apply(lambda x: float(x.replace('R$ ', '').replace(',','.')))\n",
    "df['receita_total'] = df['Receita total'].apply(lambda x: float(x))\n",
    "df['churn'] = df['Churn'].apply(lambda x: 0 if x == 'Não' else 1)\n",
    "\n",
    "df.id.head()"
   ]
  },
  {
   "cell_type": "code",
   "execution_count": 13,
   "metadata": {},
   "outputs": [
    {
     "data": {
      "text/html": [
       "<div>\n",
       "<style scoped>\n",
       "    .dataframe tbody tr th:only-of-type {\n",
       "        vertical-align: middle;\n",
       "    }\n",
       "\n",
       "    .dataframe tbody tr th {\n",
       "        vertical-align: top;\n",
       "    }\n",
       "\n",
       "    .dataframe thead th {\n",
       "        text-align: right;\n",
       "    }\n",
       "</style>\n",
       "<table border=\"1\" class=\"dataframe\">\n",
       "  <thead>\n",
       "    <tr style=\"text-align: right;\">\n",
       "      <th></th>\n",
       "      <th>id</th>\n",
       "      <th>tipo_empresa</th>\n",
       "      <th>idade_empresa</th>\n",
       "      <th>possui_mais_1_socio</th>\n",
       "      <th>funcionarios</th>\n",
       "      <th>meses_permanencia</th>\n",
       "      <th>utiliza_serv_financeiros</th>\n",
       "      <th>possui_contador</th>\n",
       "      <th>faz_conc_banc</th>\n",
       "      <th>freq_modulo_financeiro</th>\n",
       "      <th>...</th>\n",
       "      <th>freq_modulo_bancario</th>\n",
       "      <th>freq_modulo_vendas</th>\n",
       "      <th>freq_modulo_relatorios</th>\n",
       "      <th>freq_modulo_api</th>\n",
       "      <th>contrato</th>\n",
       "      <th>boleto</th>\n",
       "      <th>tipo_pagamento</th>\n",
       "      <th>receita_mensal</th>\n",
       "      <th>receita_total</th>\n",
       "      <th>churn</th>\n",
       "    </tr>\n",
       "  </thead>\n",
       "  <tbody>\n",
       "    <tr>\n",
       "      <th>0</th>\n",
       "      <td>1</td>\n",
       "      <td>0</td>\n",
       "      <td>6</td>\n",
       "      <td>1</td>\n",
       "      <td>0</td>\n",
       "      <td>1</td>\n",
       "      <td>0</td>\n",
       "      <td>2</td>\n",
       "      <td>1</td>\n",
       "      <td>1</td>\n",
       "      <td>...</td>\n",
       "      <td>1</td>\n",
       "      <td>1</td>\n",
       "      <td>1</td>\n",
       "      <td>1</td>\n",
       "      <td>0</td>\n",
       "      <td>1</td>\n",
       "      <td>1</td>\n",
       "      <td>29.85</td>\n",
       "      <td>29.85</td>\n",
       "      <td>0</td>\n",
       "    </tr>\n",
       "    <tr>\n",
       "      <th>1</th>\n",
       "      <td>2</td>\n",
       "      <td>1</td>\n",
       "      <td>4</td>\n",
       "      <td>0</td>\n",
       "      <td>0</td>\n",
       "      <td>34</td>\n",
       "      <td>1</td>\n",
       "      <td>2</td>\n",
       "      <td>1</td>\n",
       "      <td>2</td>\n",
       "      <td>...</td>\n",
       "      <td>2</td>\n",
       "      <td>1</td>\n",
       "      <td>1</td>\n",
       "      <td>1</td>\n",
       "      <td>1</td>\n",
       "      <td>0</td>\n",
       "      <td>0</td>\n",
       "      <td>56.95</td>\n",
       "      <td>1889.50</td>\n",
       "      <td>0</td>\n",
       "    </tr>\n",
       "    <tr>\n",
       "      <th>2</th>\n",
       "      <td>3</td>\n",
       "      <td>1</td>\n",
       "      <td>1</td>\n",
       "      <td>0</td>\n",
       "      <td>0</td>\n",
       "      <td>2</td>\n",
       "      <td>1</td>\n",
       "      <td>2</td>\n",
       "      <td>1</td>\n",
       "      <td>2</td>\n",
       "      <td>...</td>\n",
       "      <td>1</td>\n",
       "      <td>1</td>\n",
       "      <td>1</td>\n",
       "      <td>1</td>\n",
       "      <td>0</td>\n",
       "      <td>1</td>\n",
       "      <td>0</td>\n",
       "      <td>53.85</td>\n",
       "      <td>108.15</td>\n",
       "      <td>1</td>\n",
       "    </tr>\n",
       "    <tr>\n",
       "      <th>3</th>\n",
       "      <td>4</td>\n",
       "      <td>1</td>\n",
       "      <td>6</td>\n",
       "      <td>0</td>\n",
       "      <td>0</td>\n",
       "      <td>45</td>\n",
       "      <td>0</td>\n",
       "      <td>2</td>\n",
       "      <td>1</td>\n",
       "      <td>2</td>\n",
       "      <td>...</td>\n",
       "      <td>2</td>\n",
       "      <td>2</td>\n",
       "      <td>1</td>\n",
       "      <td>1</td>\n",
       "      <td>1</td>\n",
       "      <td>0</td>\n",
       "      <td>3</td>\n",
       "      <td>42.30</td>\n",
       "      <td>1840.75</td>\n",
       "      <td>0</td>\n",
       "    </tr>\n",
       "    <tr>\n",
       "      <th>4</th>\n",
       "      <td>5</td>\n",
       "      <td>0</td>\n",
       "      <td>5</td>\n",
       "      <td>0</td>\n",
       "      <td>0</td>\n",
       "      <td>2</td>\n",
       "      <td>1</td>\n",
       "      <td>2</td>\n",
       "      <td>2</td>\n",
       "      <td>1</td>\n",
       "      <td>...</td>\n",
       "      <td>1</td>\n",
       "      <td>1</td>\n",
       "      <td>1</td>\n",
       "      <td>1</td>\n",
       "      <td>0</td>\n",
       "      <td>1</td>\n",
       "      <td>1</td>\n",
       "      <td>70.70</td>\n",
       "      <td>151.65</td>\n",
       "      <td>1</td>\n",
       "    </tr>\n",
       "    <tr>\n",
       "      <th>...</th>\n",
       "      <td>...</td>\n",
       "      <td>...</td>\n",
       "      <td>...</td>\n",
       "      <td>...</td>\n",
       "      <td>...</td>\n",
       "      <td>...</td>\n",
       "      <td>...</td>\n",
       "      <td>...</td>\n",
       "      <td>...</td>\n",
       "      <td>...</td>\n",
       "      <td>...</td>\n",
       "      <td>...</td>\n",
       "      <td>...</td>\n",
       "      <td>...</td>\n",
       "      <td>...</td>\n",
       "      <td>...</td>\n",
       "      <td>...</td>\n",
       "      <td>...</td>\n",
       "      <td>...</td>\n",
       "      <td>...</td>\n",
       "      <td>...</td>\n",
       "    </tr>\n",
       "    <tr>\n",
       "      <th>7038</th>\n",
       "      <td>7039</td>\n",
       "      <td>1</td>\n",
       "      <td>4</td>\n",
       "      <td>1</td>\n",
       "      <td>1</td>\n",
       "      <td>24</td>\n",
       "      <td>1</td>\n",
       "      <td>1</td>\n",
       "      <td>1</td>\n",
       "      <td>2</td>\n",
       "      <td>...</td>\n",
       "      <td>2</td>\n",
       "      <td>2</td>\n",
       "      <td>2</td>\n",
       "      <td>2</td>\n",
       "      <td>1</td>\n",
       "      <td>1</td>\n",
       "      <td>0</td>\n",
       "      <td>84.80</td>\n",
       "      <td>1990.50</td>\n",
       "      <td>0</td>\n",
       "    </tr>\n",
       "    <tr>\n",
       "      <th>7039</th>\n",
       "      <td>7040</td>\n",
       "      <td>0</td>\n",
       "      <td>2</td>\n",
       "      <td>1</td>\n",
       "      <td>1</td>\n",
       "      <td>72</td>\n",
       "      <td>1</td>\n",
       "      <td>1</td>\n",
       "      <td>2</td>\n",
       "      <td>1</td>\n",
       "      <td>...</td>\n",
       "      <td>2</td>\n",
       "      <td>1</td>\n",
       "      <td>2</td>\n",
       "      <td>2</td>\n",
       "      <td>1</td>\n",
       "      <td>1</td>\n",
       "      <td>2</td>\n",
       "      <td>103.20</td>\n",
       "      <td>7362.90</td>\n",
       "      <td>0</td>\n",
       "    </tr>\n",
       "    <tr>\n",
       "      <th>7040</th>\n",
       "      <td>7041</td>\n",
       "      <td>0</td>\n",
       "      <td>3</td>\n",
       "      <td>1</td>\n",
       "      <td>1</td>\n",
       "      <td>11</td>\n",
       "      <td>0</td>\n",
       "      <td>2</td>\n",
       "      <td>1</td>\n",
       "      <td>2</td>\n",
       "      <td>...</td>\n",
       "      <td>1</td>\n",
       "      <td>1</td>\n",
       "      <td>1</td>\n",
       "      <td>1</td>\n",
       "      <td>0</td>\n",
       "      <td>1</td>\n",
       "      <td>1</td>\n",
       "      <td>29.60</td>\n",
       "      <td>346.45</td>\n",
       "      <td>0</td>\n",
       "    </tr>\n",
       "    <tr>\n",
       "      <th>7041</th>\n",
       "      <td>7042</td>\n",
       "      <td>1</td>\n",
       "      <td>19</td>\n",
       "      <td>1</td>\n",
       "      <td>0</td>\n",
       "      <td>4</td>\n",
       "      <td>1</td>\n",
       "      <td>1</td>\n",
       "      <td>2</td>\n",
       "      <td>1</td>\n",
       "      <td>...</td>\n",
       "      <td>1</td>\n",
       "      <td>1</td>\n",
       "      <td>1</td>\n",
       "      <td>1</td>\n",
       "      <td>0</td>\n",
       "      <td>1</td>\n",
       "      <td>0</td>\n",
       "      <td>74.40</td>\n",
       "      <td>306.60</td>\n",
       "      <td>1</td>\n",
       "    </tr>\n",
       "    <tr>\n",
       "      <th>7042</th>\n",
       "      <td>7043</td>\n",
       "      <td>1</td>\n",
       "      <td>5</td>\n",
       "      <td>0</td>\n",
       "      <td>0</td>\n",
       "      <td>66</td>\n",
       "      <td>1</td>\n",
       "      <td>2</td>\n",
       "      <td>2</td>\n",
       "      <td>2</td>\n",
       "      <td>...</td>\n",
       "      <td>2</td>\n",
       "      <td>2</td>\n",
       "      <td>2</td>\n",
       "      <td>2</td>\n",
       "      <td>2</td>\n",
       "      <td>1</td>\n",
       "      <td>3</td>\n",
       "      <td>105.65</td>\n",
       "      <td>6844.50</td>\n",
       "      <td>0</td>\n",
       "    </tr>\n",
       "  </tbody>\n",
       "</table>\n",
       "<p>7043 rows × 21 columns</p>\n",
       "</div>"
      ],
      "text/plain": [
       "        id  tipo_empresa  idade_empresa  possui_mais_1_socio  funcionarios  \\\n",
       "0        1             0              6                    1             0   \n",
       "1        2             1              4                    0             0   \n",
       "2        3             1              1                    0             0   \n",
       "3        4             1              6                    0             0   \n",
       "4        5             0              5                    0             0   \n",
       "...    ...           ...            ...                  ...           ...   \n",
       "7038  7039             1              4                    1             1   \n",
       "7039  7040             0              2                    1             1   \n",
       "7040  7041             0              3                    1             1   \n",
       "7041  7042             1             19                    1             0   \n",
       "7042  7043             1              5                    0             0   \n",
       "\n",
       "      meses_permanencia  utiliza_serv_financeiros  possui_contador  \\\n",
       "0                     1                         0                2   \n",
       "1                    34                         1                2   \n",
       "2                     2                         1                2   \n",
       "3                    45                         0                2   \n",
       "4                     2                         1                2   \n",
       "...                 ...                       ...              ...   \n",
       "7038                 24                         1                1   \n",
       "7039                 72                         1                1   \n",
       "7040                 11                         0                2   \n",
       "7041                  4                         1                1   \n",
       "7042                 66                         1                2   \n",
       "\n",
       "      faz_conc_banc  freq_modulo_financeiro  ...  freq_modulo_bancario  \\\n",
       "0                 1                       1  ...                     1   \n",
       "1                 1                       2  ...                     2   \n",
       "2                 1                       2  ...                     1   \n",
       "3                 1                       2  ...                     2   \n",
       "4                 2                       1  ...                     1   \n",
       "...             ...                     ...  ...                   ...   \n",
       "7038              1                       2  ...                     2   \n",
       "7039              2                       1  ...                     2   \n",
       "7040              1                       2  ...                     1   \n",
       "7041              2                       1  ...                     1   \n",
       "7042              2                       2  ...                     2   \n",
       "\n",
       "      freq_modulo_vendas  freq_modulo_relatorios  freq_modulo_api  contrato  \\\n",
       "0                      1                       1                1         0   \n",
       "1                      1                       1                1         1   \n",
       "2                      1                       1                1         0   \n",
       "3                      2                       1                1         1   \n",
       "4                      1                       1                1         0   \n",
       "...                  ...                     ...              ...       ...   \n",
       "7038                   2                       2                2         1   \n",
       "7039                   1                       2                2         1   \n",
       "7040                   1                       1                1         0   \n",
       "7041                   1                       1                1         0   \n",
       "7042                   2                       2                2         2   \n",
       "\n",
       "      boleto  tipo_pagamento  receita_mensal  receita_total  churn  \n",
       "0          1               1           29.85          29.85      0  \n",
       "1          0               0           56.95        1889.50      0  \n",
       "2          1               0           53.85         108.15      1  \n",
       "3          0               3           42.30        1840.75      0  \n",
       "4          1               1           70.70         151.65      1  \n",
       "...      ...             ...             ...            ...    ...  \n",
       "7038       1               0           84.80        1990.50      0  \n",
       "7039       1               2          103.20        7362.90      0  \n",
       "7040       1               1           29.60         346.45      0  \n",
       "7041       1               0           74.40         306.60      1  \n",
       "7042       1               3          105.65        6844.50      0  \n",
       "\n",
       "[7043 rows x 21 columns]"
      ]
     },
     "execution_count": 13,
     "metadata": {},
     "output_type": "execute_result"
    }
   ],
   "source": [
    "df.drop(columns=registros, inplace=True)\n",
    "df"
   ]
  },
  {
   "cell_type": "code",
   "execution_count": 14,
   "metadata": {},
   "outputs": [
    {
     "data": {
      "text/plain": [
       "(7043, 21)"
      ]
     },
     "execution_count": 14,
     "metadata": {},
     "output_type": "execute_result"
    }
   ],
   "source": [
    "df.shape"
   ]
  },
  {
   "cell_type": "code",
   "execution_count": 15,
   "metadata": {},
   "outputs": [
    {
     "name": "stdout",
     "output_type": "stream",
     "text": [
      "<class 'pandas.core.frame.DataFrame'>\n",
      "RangeIndex: 7043 entries, 0 to 7042\n",
      "Data columns (total 21 columns):\n",
      " #   Column                    Non-Null Count  Dtype  \n",
      "---  ------                    --------------  -----  \n",
      " 0   id                        7043 non-null   int64  \n",
      " 1   tipo_empresa              7043 non-null   int64  \n",
      " 2   idade_empresa             7043 non-null   int64  \n",
      " 3   possui_mais_1_socio       7043 non-null   int64  \n",
      " 4   funcionarios              7043 non-null   int64  \n",
      " 5   meses_permanencia         7043 non-null   int64  \n",
      " 6   utiliza_serv_financeiros  7043 non-null   int64  \n",
      " 7   possui_contador           7043 non-null   int64  \n",
      " 8   faz_conc_banc             7043 non-null   int64  \n",
      " 9   freq_modulo_financeiro    7043 non-null   int64  \n",
      " 10  freq_modulo_fiscal        7043 non-null   int64  \n",
      " 11  freq_modulo_bancario      7043 non-null   int64  \n",
      " 12  freq_modulo_vendas        7043 non-null   int64  \n",
      " 13  freq_modulo_relatorios    7043 non-null   int64  \n",
      " 14  freq_modulo_api           7043 non-null   int64  \n",
      " 15  contrato                  7043 non-null   int64  \n",
      " 16  boleto                    7043 non-null   int64  \n",
      " 17  tipo_pagamento            7043 non-null   int64  \n",
      " 18  receita_mensal            7043 non-null   float64\n",
      " 19  receita_total             7032 non-null   float64\n",
      " 20  churn                     7043 non-null   int64  \n",
      "dtypes: float64(2), int64(19)\n",
      "memory usage: 1.1 MB\n"
     ]
    }
   ],
   "source": [
    "df.info()"
   ]
  },
  {
   "cell_type": "markdown",
   "metadata": {},
   "source": [
    "## Estatisticas Descritivas"
   ]
  },
  {
   "cell_type": "code",
   "execution_count": 16,
   "metadata": {},
   "outputs": [
    {
     "data": {
      "text/plain": [
       "count    7043.00\n",
       "mean       32.37\n",
       "std        24.56\n",
       "min         0.00\n",
       "25%         9.00\n",
       "50%        29.00\n",
       "75%        55.00\n",
       "max        72.00\n",
       "Name: meses_permanencia, dtype: float64"
      ]
     },
     "execution_count": 16,
     "metadata": {},
     "output_type": "execute_result"
    }
   ],
   "source": [
    "df.meses_permanencia.describe().round(2)"
   ]
  },
  {
   "cell_type": "code",
   "execution_count": 17,
   "metadata": {},
   "outputs": [
    {
     "data": {
      "text/plain": [
       "count    7043.00\n",
       "mean        5.26\n",
       "std         4.58\n",
       "min         1.00\n",
       "25%         2.00\n",
       "50%         4.00\n",
       "75%         6.00\n",
       "max        21.00\n",
       "Name: idade_empresa, dtype: float64"
      ]
     },
     "execution_count": 17,
     "metadata": {},
     "output_type": "execute_result"
    }
   ],
   "source": [
    "df.idade_empresa.describe().round(2)"
   ]
  },
  {
   "cell_type": "code",
   "execution_count": 18,
   "metadata": {},
   "outputs": [
    {
     "data": {
      "text/plain": [
       "count    7043.00\n",
       "mean       64.76\n",
       "std        30.09\n",
       "min        18.25\n",
       "25%        35.50\n",
       "50%        70.35\n",
       "75%        89.85\n",
       "max       118.75\n",
       "Name: receita_mensal, dtype: float64"
      ]
     },
     "execution_count": 18,
     "metadata": {},
     "output_type": "execute_result"
    }
   ],
   "source": [
    "df.receita_mensal.describe().round(2)"
   ]
  },
  {
   "cell_type": "code",
   "execution_count": 19,
   "metadata": {},
   "outputs": [
    {
     "data": {
      "text/plain": [
       "count    7032.00\n",
       "mean     2283.30\n",
       "std      2266.77\n",
       "min        18.80\n",
       "25%       401.45\n",
       "50%      1397.48\n",
       "75%      3794.74\n",
       "max      8684.80\n",
       "Name: receita_total, dtype: float64"
      ]
     },
     "execution_count": 19,
     "metadata": {},
     "output_type": "execute_result"
    }
   ],
   "source": [
    "df.receita_total.describe().round(2)"
   ]
  },
  {
   "cell_type": "code",
   "execution_count": 20,
   "metadata": {},
   "outputs": [
    {
     "data": {
      "text/plain": [
       "count    7043.00\n",
       "mean        0.27\n",
       "std         0.44\n",
       "min         0.00\n",
       "25%         0.00\n",
       "50%         0.00\n",
       "75%         1.00\n",
       "max         1.00\n",
       "Name: churn, dtype: float64"
      ]
     },
     "execution_count": 20,
     "metadata": {},
     "output_type": "execute_result"
    }
   ],
   "source": [
    "df.churn.describe().round(2)"
   ]
  },
  {
   "cell_type": "code",
   "execution_count": 21,
   "metadata": {},
   "outputs": [
    {
     "data": {
      "text/html": [
       "<div>\n",
       "<style scoped>\n",
       "    .dataframe tbody tr th:only-of-type {\n",
       "        vertical-align: middle;\n",
       "    }\n",
       "\n",
       "    .dataframe tbody tr th {\n",
       "        vertical-align: top;\n",
       "    }\n",
       "\n",
       "    .dataframe thead th {\n",
       "        text-align: right;\n",
       "    }\n",
       "</style>\n",
       "<table border=\"1\" class=\"dataframe\">\n",
       "  <thead>\n",
       "    <tr style=\"text-align: right;\">\n",
       "      <th></th>\n",
       "      <th>id</th>\n",
       "      <th>tipo_empresa</th>\n",
       "      <th>idade_empresa</th>\n",
       "      <th>possui_mais_1_socio</th>\n",
       "      <th>funcionarios</th>\n",
       "      <th>meses_permanencia</th>\n",
       "      <th>utiliza_serv_financeiros</th>\n",
       "      <th>possui_contador</th>\n",
       "      <th>faz_conc_banc</th>\n",
       "      <th>freq_modulo_financeiro</th>\n",
       "      <th>...</th>\n",
       "      <th>freq_modulo_bancario</th>\n",
       "      <th>freq_modulo_vendas</th>\n",
       "      <th>freq_modulo_relatorios</th>\n",
       "      <th>freq_modulo_api</th>\n",
       "      <th>contrato</th>\n",
       "      <th>boleto</th>\n",
       "      <th>tipo_pagamento</th>\n",
       "      <th>receita_mensal</th>\n",
       "      <th>receita_total</th>\n",
       "      <th>churn</th>\n",
       "    </tr>\n",
       "  </thead>\n",
       "  <tbody>\n",
       "    <tr>\n",
       "      <th>id</th>\n",
       "      <td>1.0000</td>\n",
       "      <td>-0.0082</td>\n",
       "      <td>0.0131</td>\n",
       "      <td>-0.0002</td>\n",
       "      <td>-0.0052</td>\n",
       "      <td>0.0071</td>\n",
       "      <td>-0.0270</td>\n",
       "      <td>0.0139</td>\n",
       "      <td>-0.0056</td>\n",
       "      <td>-0.0001</td>\n",
       "      <td>...</td>\n",
       "      <td>-0.0032</td>\n",
       "      <td>0.0064</td>\n",
       "      <td>0.0002</td>\n",
       "      <td>-0.0093</td>\n",
       "      <td>0.0034</td>\n",
       "      <td>0.0027</td>\n",
       "      <td>-0.0209</td>\n",
       "      <td>-0.0126</td>\n",
       "      <td>0.0018</td>\n",
       "      <td>0.0103</td>\n",
       "    </tr>\n",
       "    <tr>\n",
       "      <th>tipo_empresa</th>\n",
       "      <td>-0.0082</td>\n",
       "      <td>1.0000</td>\n",
       "      <td>-0.0072</td>\n",
       "      <td>-0.0018</td>\n",
       "      <td>0.0105</td>\n",
       "      <td>0.0051</td>\n",
       "      <td>-0.0065</td>\n",
       "      <td>0.0084</td>\n",
       "      <td>-0.0104</td>\n",
       "      <td>-0.0144</td>\n",
       "      <td>...</td>\n",
       "      <td>-0.0047</td>\n",
       "      <td>-0.0094</td>\n",
       "      <td>-0.0087</td>\n",
       "      <td>-0.0100</td>\n",
       "      <td>0.0001</td>\n",
       "      <td>-0.0118</td>\n",
       "      <td>-0.0174</td>\n",
       "      <td>-0.0146</td>\n",
       "      <td>0.0000</td>\n",
       "      <td>-0.0086</td>\n",
       "    </tr>\n",
       "    <tr>\n",
       "      <th>idade_empresa</th>\n",
       "      <td>0.0131</td>\n",
       "      <td>-0.0072</td>\n",
       "      <td>1.0000</td>\n",
       "      <td>0.0101</td>\n",
       "      <td>-0.1820</td>\n",
       "      <td>0.0019</td>\n",
       "      <td>0.0053</td>\n",
       "      <td>-0.1134</td>\n",
       "      <td>0.2244</td>\n",
       "      <td>0.0714</td>\n",
       "      <td>...</td>\n",
       "      <td>0.1263</td>\n",
       "      <td>0.0654</td>\n",
       "      <td>0.1445</td>\n",
       "      <td>0.1560</td>\n",
       "      <td>-0.1262</td>\n",
       "      <td>0.1285</td>\n",
       "      <td>0.0241</td>\n",
       "      <td>0.1891</td>\n",
       "      <td>0.0774</td>\n",
       "      <td>0.1419</td>\n",
       "    </tr>\n",
       "    <tr>\n",
       "      <th>possui_mais_1_socio</th>\n",
       "      <td>-0.0002</td>\n",
       "      <td>-0.0018</td>\n",
       "      <td>0.0101</td>\n",
       "      <td>1.0000</td>\n",
       "      <td>0.4527</td>\n",
       "      <td>0.3797</td>\n",
       "      <td>0.0177</td>\n",
       "      <td>-0.1421</td>\n",
       "      <td>-0.0001</td>\n",
       "      <td>0.0913</td>\n",
       "      <td>...</td>\n",
       "      <td>0.0987</td>\n",
       "      <td>0.0766</td>\n",
       "      <td>0.0798</td>\n",
       "      <td>0.0751</td>\n",
       "      <td>0.2948</td>\n",
       "      <td>-0.0149</td>\n",
       "      <td>0.1548</td>\n",
       "      <td>0.0968</td>\n",
       "      <td>0.3191</td>\n",
       "      <td>-0.1504</td>\n",
       "    </tr>\n",
       "    <tr>\n",
       "      <th>funcionarios</th>\n",
       "      <td>-0.0052</td>\n",
       "      <td>0.0105</td>\n",
       "      <td>-0.1820</td>\n",
       "      <td>0.4527</td>\n",
       "      <td>1.0000</td>\n",
       "      <td>0.1597</td>\n",
       "      <td>-0.0018</td>\n",
       "      <td>0.0245</td>\n",
       "      <td>-0.1796</td>\n",
       "      <td>-0.0297</td>\n",
       "      <td>...</td>\n",
       "      <td>-0.0691</td>\n",
       "      <td>-0.0408</td>\n",
       "      <td>-0.0867</td>\n",
       "      <td>-0.1015</td>\n",
       "      <td>0.2432</td>\n",
       "      <td>-0.1114</td>\n",
       "      <td>0.0403</td>\n",
       "      <td>-0.1139</td>\n",
       "      <td>0.0647</td>\n",
       "      <td>-0.1642</td>\n",
       "    </tr>\n",
       "    <tr>\n",
       "      <th>meses_permanencia</th>\n",
       "      <td>0.0071</td>\n",
       "      <td>0.0051</td>\n",
       "      <td>0.0019</td>\n",
       "      <td>0.3797</td>\n",
       "      <td>0.1597</td>\n",
       "      <td>1.0000</td>\n",
       "      <td>0.0084</td>\n",
       "      <td>-0.3319</td>\n",
       "      <td>0.0332</td>\n",
       "      <td>0.2324</td>\n",
       "      <td>...</td>\n",
       "      <td>0.2540</td>\n",
       "      <td>0.2305</td>\n",
       "      <td>0.2011</td>\n",
       "      <td>0.2050</td>\n",
       "      <td>0.6716</td>\n",
       "      <td>0.0062</td>\n",
       "      <td>0.3704</td>\n",
       "      <td>0.2479</td>\n",
       "      <td>0.8259</td>\n",
       "      <td>-0.3522</td>\n",
       "    </tr>\n",
       "    <tr>\n",
       "      <th>utiliza_serv_financeiros</th>\n",
       "      <td>-0.0270</td>\n",
       "      <td>-0.0065</td>\n",
       "      <td>0.0053</td>\n",
       "      <td>0.0177</td>\n",
       "      <td>-0.0018</td>\n",
       "      <td>0.0084</td>\n",
       "      <td>1.0000</td>\n",
       "      <td>-0.2797</td>\n",
       "      <td>0.0937</td>\n",
       "      <td>-0.1600</td>\n",
       "      <td>...</td>\n",
       "      <td>-0.1420</td>\n",
       "      <td>-0.1619</td>\n",
       "      <td>-0.1082</td>\n",
       "      <td>-0.1147</td>\n",
       "      <td>0.0022</td>\n",
       "      <td>0.0165</td>\n",
       "      <td>0.0042</td>\n",
       "      <td>0.2474</td>\n",
       "      <td>0.1130</td>\n",
       "      <td>0.0119</td>\n",
       "    </tr>\n",
       "    <tr>\n",
       "      <th>possui_contador</th>\n",
       "      <td>0.0139</td>\n",
       "      <td>0.0084</td>\n",
       "      <td>-0.1134</td>\n",
       "      <td>-0.1421</td>\n",
       "      <td>0.0245</td>\n",
       "      <td>-0.3319</td>\n",
       "      <td>-0.2797</td>\n",
       "      <td>1.0000</td>\n",
       "      <td>-0.3447</td>\n",
       "      <td>-0.1857</td>\n",
       "      <td>...</td>\n",
       "      <td>-0.2471</td>\n",
       "      <td>-0.1870</td>\n",
       "      <td>-0.2799</td>\n",
       "      <td>-0.2806</td>\n",
       "      <td>-0.1071</td>\n",
       "      <td>-0.1635</td>\n",
       "      <td>-0.1710</td>\n",
       "      <td>-0.4904</td>\n",
       "      <td>-0.4690</td>\n",
       "      <td>-0.0401</td>\n",
       "    </tr>\n",
       "    <tr>\n",
       "      <th>faz_conc_banc</th>\n",
       "      <td>-0.0056</td>\n",
       "      <td>-0.0104</td>\n",
       "      <td>0.2244</td>\n",
       "      <td>-0.0001</td>\n",
       "      <td>-0.1796</td>\n",
       "      <td>0.0332</td>\n",
       "      <td>0.0937</td>\n",
       "      <td>-0.3447</td>\n",
       "      <td>1.0000</td>\n",
       "      <td>0.5823</td>\n",
       "      <td>...</td>\n",
       "      <td>0.6630</td>\n",
       "      <td>0.5861</td>\n",
       "      <td>0.7256</td>\n",
       "      <td>0.7231</td>\n",
       "      <td>-0.2902</td>\n",
       "      <td>0.3781</td>\n",
       "      <td>0.1210</td>\n",
       "      <td>0.9055</td>\n",
       "      <td>0.4282</td>\n",
       "      <td>0.3168</td>\n",
       "    </tr>\n",
       "    <tr>\n",
       "      <th>freq_modulo_financeiro</th>\n",
       "      <td>-0.0001</td>\n",
       "      <td>-0.0144</td>\n",
       "      <td>0.0714</td>\n",
       "      <td>0.0913</td>\n",
       "      <td>-0.0297</td>\n",
       "      <td>0.2324</td>\n",
       "      <td>-0.1600</td>\n",
       "      <td>-0.1857</td>\n",
       "      <td>0.5823</td>\n",
       "      <td>1.0000</td>\n",
       "      <td>...</td>\n",
       "      <td>0.7017</td>\n",
       "      <td>0.7352</td>\n",
       "      <td>0.6622</td>\n",
       "      <td>0.6670</td>\n",
       "      <td>0.0158</td>\n",
       "      <td>0.1850</td>\n",
       "      <td>0.1706</td>\n",
       "      <td>0.6355</td>\n",
       "      <td>0.4832</td>\n",
       "      <td>0.0233</td>\n",
       "    </tr>\n",
       "    <tr>\n",
       "      <th>freq_modulo_fiscal</th>\n",
       "      <td>0.0036</td>\n",
       "      <td>-0.0122</td>\n",
       "      <td>0.1228</td>\n",
       "      <td>0.0908</td>\n",
       "      <td>-0.0628</td>\n",
       "      <td>0.2537</td>\n",
       "      <td>-0.1298</td>\n",
       "      <td>-0.2477</td>\n",
       "      <td>0.6587</td>\n",
       "      <td>0.7052</td>\n",
       "      <td>...</td>\n",
       "      <td>0.7113</td>\n",
       "      <td>0.7092</td>\n",
       "      <td>0.7032</td>\n",
       "      <td>0.7002</td>\n",
       "      <td>-0.0354</td>\n",
       "      <td>0.2607</td>\n",
       "      <td>0.1813</td>\n",
       "      <td>0.7105</td>\n",
       "      <td>0.5377</td>\n",
       "      <td>0.0742</td>\n",
       "    </tr>\n",
       "    <tr>\n",
       "      <th>freq_modulo_bancario</th>\n",
       "      <td>-0.0032</td>\n",
       "      <td>-0.0047</td>\n",
       "      <td>0.1263</td>\n",
       "      <td>0.0987</td>\n",
       "      <td>-0.0691</td>\n",
       "      <td>0.2540</td>\n",
       "      <td>-0.1420</td>\n",
       "      <td>-0.2471</td>\n",
       "      <td>0.6630</td>\n",
       "      <td>0.7017</td>\n",
       "      <td>...</td>\n",
       "      <td>1.0000</td>\n",
       "      <td>0.7253</td>\n",
       "      <td>0.7482</td>\n",
       "      <td>0.7530</td>\n",
       "      <td>0.0058</td>\n",
       "      <td>0.2461</td>\n",
       "      <td>0.1879</td>\n",
       "      <td>0.7371</td>\n",
       "      <td>0.5461</td>\n",
       "      <td>0.0847</td>\n",
       "    </tr>\n",
       "    <tr>\n",
       "      <th>freq_modulo_vendas</th>\n",
       "      <td>0.0064</td>\n",
       "      <td>-0.0094</td>\n",
       "      <td>0.0654</td>\n",
       "      <td>0.0766</td>\n",
       "      <td>-0.0408</td>\n",
       "      <td>0.2305</td>\n",
       "      <td>-0.1619</td>\n",
       "      <td>-0.1870</td>\n",
       "      <td>0.5861</td>\n",
       "      <td>0.7352</td>\n",
       "      <td>...</td>\n",
       "      <td>0.7253</td>\n",
       "      <td>1.0000</td>\n",
       "      <td>0.7039</td>\n",
       "      <td>0.7046</td>\n",
       "      <td>0.0472</td>\n",
       "      <td>0.2110</td>\n",
       "      <td>0.1751</td>\n",
       "      <td>0.6610</td>\n",
       "      <td>0.4956</td>\n",
       "      <td>0.0270</td>\n",
       "    </tr>\n",
       "    <tr>\n",
       "      <th>freq_modulo_relatorios</th>\n",
       "      <td>0.0002</td>\n",
       "      <td>-0.0087</td>\n",
       "      <td>0.1445</td>\n",
       "      <td>0.0798</td>\n",
       "      <td>-0.0867</td>\n",
       "      <td>0.2011</td>\n",
       "      <td>-0.1082</td>\n",
       "      <td>-0.2799</td>\n",
       "      <td>0.7256</td>\n",
       "      <td>0.6622</td>\n",
       "      <td>...</td>\n",
       "      <td>0.7482</td>\n",
       "      <td>0.7039</td>\n",
       "      <td>1.0000</td>\n",
       "      <td>0.8072</td>\n",
       "      <td>-0.0651</td>\n",
       "      <td>0.3186</td>\n",
       "      <td>0.1651</td>\n",
       "      <td>0.8202</td>\n",
       "      <td>0.5356</td>\n",
       "      <td>0.1647</td>\n",
       "    </tr>\n",
       "    <tr>\n",
       "      <th>freq_modulo_api</th>\n",
       "      <td>-0.0093</td>\n",
       "      <td>-0.0100</td>\n",
       "      <td>0.1560</td>\n",
       "      <td>0.0751</td>\n",
       "      <td>-0.1015</td>\n",
       "      <td>0.2050</td>\n",
       "      <td>-0.1147</td>\n",
       "      <td>-0.2806</td>\n",
       "      <td>0.7231</td>\n",
       "      <td>0.6670</td>\n",
       "      <td>...</td>\n",
       "      <td>0.7530</td>\n",
       "      <td>0.7046</td>\n",
       "      <td>0.8072</td>\n",
       "      <td>1.0000</td>\n",
       "      <td>-0.0626</td>\n",
       "      <td>0.3104</td>\n",
       "      <td>0.1689</td>\n",
       "      <td>0.8178</td>\n",
       "      <td>0.5377</td>\n",
       "      <td>0.1632</td>\n",
       "    </tr>\n",
       "    <tr>\n",
       "      <th>contrato</th>\n",
       "      <td>0.0034</td>\n",
       "      <td>0.0001</td>\n",
       "      <td>-0.1262</td>\n",
       "      <td>0.2948</td>\n",
       "      <td>0.2432</td>\n",
       "      <td>0.6716</td>\n",
       "      <td>0.0022</td>\n",
       "      <td>-0.1071</td>\n",
       "      <td>-0.2902</td>\n",
       "      <td>0.0158</td>\n",
       "      <td>...</td>\n",
       "      <td>0.0058</td>\n",
       "      <td>0.0472</td>\n",
       "      <td>-0.0651</td>\n",
       "      <td>-0.0626</td>\n",
       "      <td>1.0000</td>\n",
       "      <td>-0.1767</td>\n",
       "      <td>0.2275</td>\n",
       "      <td>-0.0742</td>\n",
       "      <td>0.4503</td>\n",
       "      <td>-0.3967</td>\n",
       "    </tr>\n",
       "    <tr>\n",
       "      <th>boleto</th>\n",
       "      <td>0.0027</td>\n",
       "      <td>-0.0118</td>\n",
       "      <td>0.1285</td>\n",
       "      <td>-0.0149</td>\n",
       "      <td>-0.1114</td>\n",
       "      <td>0.0062</td>\n",
       "      <td>0.0165</td>\n",
       "      <td>-0.1635</td>\n",
       "      <td>0.3781</td>\n",
       "      <td>0.1850</td>\n",
       "      <td>...</td>\n",
       "      <td>0.2461</td>\n",
       "      <td>0.2110</td>\n",
       "      <td>0.3186</td>\n",
       "      <td>0.3104</td>\n",
       "      <td>-0.1767</td>\n",
       "      <td>1.0000</td>\n",
       "      <td>0.0629</td>\n",
       "      <td>0.3521</td>\n",
       "      <td>0.1578</td>\n",
       "      <td>0.1918</td>\n",
       "    </tr>\n",
       "    <tr>\n",
       "      <th>tipo_pagamento</th>\n",
       "      <td>-0.0209</td>\n",
       "      <td>-0.0174</td>\n",
       "      <td>0.0241</td>\n",
       "      <td>0.1548</td>\n",
       "      <td>0.0403</td>\n",
       "      <td>0.3704</td>\n",
       "      <td>0.0042</td>\n",
       "      <td>-0.1710</td>\n",
       "      <td>0.1210</td>\n",
       "      <td>0.1706</td>\n",
       "      <td>...</td>\n",
       "      <td>0.1879</td>\n",
       "      <td>0.1751</td>\n",
       "      <td>0.1651</td>\n",
       "      <td>0.1689</td>\n",
       "      <td>0.2275</td>\n",
       "      <td>0.0629</td>\n",
       "      <td>1.0000</td>\n",
       "      <td>0.1934</td>\n",
       "      <td>0.3306</td>\n",
       "      <td>-0.1071</td>\n",
       "    </tr>\n",
       "    <tr>\n",
       "      <th>receita_mensal</th>\n",
       "      <td>-0.0126</td>\n",
       "      <td>-0.0146</td>\n",
       "      <td>0.1891</td>\n",
       "      <td>0.0968</td>\n",
       "      <td>-0.1139</td>\n",
       "      <td>0.2479</td>\n",
       "      <td>0.2474</td>\n",
       "      <td>-0.4904</td>\n",
       "      <td>0.9055</td>\n",
       "      <td>0.6355</td>\n",
       "      <td>...</td>\n",
       "      <td>0.7371</td>\n",
       "      <td>0.6610</td>\n",
       "      <td>0.8202</td>\n",
       "      <td>0.8178</td>\n",
       "      <td>-0.0742</td>\n",
       "      <td>0.3521</td>\n",
       "      <td>0.1934</td>\n",
       "      <td>1.0000</td>\n",
       "      <td>0.6511</td>\n",
       "      <td>0.1934</td>\n",
       "    </tr>\n",
       "    <tr>\n",
       "      <th>receita_total</th>\n",
       "      <td>0.0018</td>\n",
       "      <td>0.0000</td>\n",
       "      <td>0.0774</td>\n",
       "      <td>0.3191</td>\n",
       "      <td>0.0647</td>\n",
       "      <td>0.8259</td>\n",
       "      <td>0.1130</td>\n",
       "      <td>-0.4690</td>\n",
       "      <td>0.4282</td>\n",
       "      <td>0.4832</td>\n",
       "      <td>...</td>\n",
       "      <td>0.5461</td>\n",
       "      <td>0.4956</td>\n",
       "      <td>0.5356</td>\n",
       "      <td>0.5377</td>\n",
       "      <td>0.4503</td>\n",
       "      <td>0.1578</td>\n",
       "      <td>0.3306</td>\n",
       "      <td>0.6511</td>\n",
       "      <td>1.0000</td>\n",
       "      <td>-0.1995</td>\n",
       "    </tr>\n",
       "    <tr>\n",
       "      <th>churn</th>\n",
       "      <td>0.0103</td>\n",
       "      <td>-0.0086</td>\n",
       "      <td>0.1419</td>\n",
       "      <td>-0.1504</td>\n",
       "      <td>-0.1642</td>\n",
       "      <td>-0.3522</td>\n",
       "      <td>0.0119</td>\n",
       "      <td>-0.0401</td>\n",
       "      <td>0.3168</td>\n",
       "      <td>0.0233</td>\n",
       "      <td>...</td>\n",
       "      <td>0.0847</td>\n",
       "      <td>0.0270</td>\n",
       "      <td>0.1647</td>\n",
       "      <td>0.1632</td>\n",
       "      <td>-0.3967</td>\n",
       "      <td>0.1918</td>\n",
       "      <td>-0.1071</td>\n",
       "      <td>0.1934</td>\n",
       "      <td>-0.1995</td>\n",
       "      <td>1.0000</td>\n",
       "    </tr>\n",
       "  </tbody>\n",
       "</table>\n",
       "<p>21 rows × 21 columns</p>\n",
       "</div>"
      ],
      "text/plain": [
       "                              id  tipo_empresa  idade_empresa  \\\n",
       "id                        1.0000       -0.0082         0.0131   \n",
       "tipo_empresa             -0.0082        1.0000        -0.0072   \n",
       "idade_empresa             0.0131       -0.0072         1.0000   \n",
       "possui_mais_1_socio      -0.0002       -0.0018         0.0101   \n",
       "funcionarios             -0.0052        0.0105        -0.1820   \n",
       "meses_permanencia         0.0071        0.0051         0.0019   \n",
       "utiliza_serv_financeiros -0.0270       -0.0065         0.0053   \n",
       "possui_contador           0.0139        0.0084        -0.1134   \n",
       "faz_conc_banc            -0.0056       -0.0104         0.2244   \n",
       "freq_modulo_financeiro   -0.0001       -0.0144         0.0714   \n",
       "freq_modulo_fiscal        0.0036       -0.0122         0.1228   \n",
       "freq_modulo_bancario     -0.0032       -0.0047         0.1263   \n",
       "freq_modulo_vendas        0.0064       -0.0094         0.0654   \n",
       "freq_modulo_relatorios    0.0002       -0.0087         0.1445   \n",
       "freq_modulo_api          -0.0093       -0.0100         0.1560   \n",
       "contrato                  0.0034        0.0001        -0.1262   \n",
       "boleto                    0.0027       -0.0118         0.1285   \n",
       "tipo_pagamento           -0.0209       -0.0174         0.0241   \n",
       "receita_mensal           -0.0126       -0.0146         0.1891   \n",
       "receita_total             0.0018        0.0000         0.0774   \n",
       "churn                     0.0103       -0.0086         0.1419   \n",
       "\n",
       "                          possui_mais_1_socio  funcionarios  \\\n",
       "id                                    -0.0002       -0.0052   \n",
       "tipo_empresa                          -0.0018        0.0105   \n",
       "idade_empresa                          0.0101       -0.1820   \n",
       "possui_mais_1_socio                    1.0000        0.4527   \n",
       "funcionarios                           0.4527        1.0000   \n",
       "meses_permanencia                      0.3797        0.1597   \n",
       "utiliza_serv_financeiros               0.0177       -0.0018   \n",
       "possui_contador                       -0.1421        0.0245   \n",
       "faz_conc_banc                         -0.0001       -0.1796   \n",
       "freq_modulo_financeiro                 0.0913       -0.0297   \n",
       "freq_modulo_fiscal                     0.0908       -0.0628   \n",
       "freq_modulo_bancario                   0.0987       -0.0691   \n",
       "freq_modulo_vendas                     0.0766       -0.0408   \n",
       "freq_modulo_relatorios                 0.0798       -0.0867   \n",
       "freq_modulo_api                        0.0751       -0.1015   \n",
       "contrato                               0.2948        0.2432   \n",
       "boleto                                -0.0149       -0.1114   \n",
       "tipo_pagamento                         0.1548        0.0403   \n",
       "receita_mensal                         0.0968       -0.1139   \n",
       "receita_total                          0.3191        0.0647   \n",
       "churn                                 -0.1504       -0.1642   \n",
       "\n",
       "                          meses_permanencia  utiliza_serv_financeiros  \\\n",
       "id                                   0.0071                   -0.0270   \n",
       "tipo_empresa                         0.0051                   -0.0065   \n",
       "idade_empresa                        0.0019                    0.0053   \n",
       "possui_mais_1_socio                  0.3797                    0.0177   \n",
       "funcionarios                         0.1597                   -0.0018   \n",
       "meses_permanencia                    1.0000                    0.0084   \n",
       "utiliza_serv_financeiros             0.0084                    1.0000   \n",
       "possui_contador                     -0.3319                   -0.2797   \n",
       "faz_conc_banc                        0.0332                    0.0937   \n",
       "freq_modulo_financeiro               0.2324                   -0.1600   \n",
       "freq_modulo_fiscal                   0.2537                   -0.1298   \n",
       "freq_modulo_bancario                 0.2540                   -0.1420   \n",
       "freq_modulo_vendas                   0.2305                   -0.1619   \n",
       "freq_modulo_relatorios               0.2011                   -0.1082   \n",
       "freq_modulo_api                      0.2050                   -0.1147   \n",
       "contrato                             0.6716                    0.0022   \n",
       "boleto                               0.0062                    0.0165   \n",
       "tipo_pagamento                       0.3704                    0.0042   \n",
       "receita_mensal                       0.2479                    0.2474   \n",
       "receita_total                        0.8259                    0.1130   \n",
       "churn                               -0.3522                    0.0119   \n",
       "\n",
       "                          possui_contador  faz_conc_banc  \\\n",
       "id                                 0.0139        -0.0056   \n",
       "tipo_empresa                       0.0084        -0.0104   \n",
       "idade_empresa                     -0.1134         0.2244   \n",
       "possui_mais_1_socio               -0.1421        -0.0001   \n",
       "funcionarios                       0.0245        -0.1796   \n",
       "meses_permanencia                 -0.3319         0.0332   \n",
       "utiliza_serv_financeiros          -0.2797         0.0937   \n",
       "possui_contador                    1.0000        -0.3447   \n",
       "faz_conc_banc                     -0.3447         1.0000   \n",
       "freq_modulo_financeiro            -0.1857         0.5823   \n",
       "freq_modulo_fiscal                -0.2477         0.6587   \n",
       "freq_modulo_bancario              -0.2471         0.6630   \n",
       "freq_modulo_vendas                -0.1870         0.5861   \n",
       "freq_modulo_relatorios            -0.2799         0.7256   \n",
       "freq_modulo_api                   -0.2806         0.7231   \n",
       "contrato                          -0.1071        -0.2902   \n",
       "boleto                            -0.1635         0.3781   \n",
       "tipo_pagamento                    -0.1710         0.1210   \n",
       "receita_mensal                    -0.4904         0.9055   \n",
       "receita_total                     -0.4690         0.4282   \n",
       "churn                             -0.0401         0.3168   \n",
       "\n",
       "                          freq_modulo_financeiro  ...  freq_modulo_bancario  \\\n",
       "id                                       -0.0001  ...               -0.0032   \n",
       "tipo_empresa                             -0.0144  ...               -0.0047   \n",
       "idade_empresa                             0.0714  ...                0.1263   \n",
       "possui_mais_1_socio                       0.0913  ...                0.0987   \n",
       "funcionarios                             -0.0297  ...               -0.0691   \n",
       "meses_permanencia                         0.2324  ...                0.2540   \n",
       "utiliza_serv_financeiros                 -0.1600  ...               -0.1420   \n",
       "possui_contador                          -0.1857  ...               -0.2471   \n",
       "faz_conc_banc                             0.5823  ...                0.6630   \n",
       "freq_modulo_financeiro                    1.0000  ...                0.7017   \n",
       "freq_modulo_fiscal                        0.7052  ...                0.7113   \n",
       "freq_modulo_bancario                      0.7017  ...                1.0000   \n",
       "freq_modulo_vendas                        0.7352  ...                0.7253   \n",
       "freq_modulo_relatorios                    0.6622  ...                0.7482   \n",
       "freq_modulo_api                           0.6670  ...                0.7530   \n",
       "contrato                                  0.0158  ...                0.0058   \n",
       "boleto                                    0.1850  ...                0.2461   \n",
       "tipo_pagamento                            0.1706  ...                0.1879   \n",
       "receita_mensal                            0.6355  ...                0.7371   \n",
       "receita_total                             0.4832  ...                0.5461   \n",
       "churn                                     0.0233  ...                0.0847   \n",
       "\n",
       "                          freq_modulo_vendas  freq_modulo_relatorios  \\\n",
       "id                                    0.0064                  0.0002   \n",
       "tipo_empresa                         -0.0094                 -0.0087   \n",
       "idade_empresa                         0.0654                  0.1445   \n",
       "possui_mais_1_socio                   0.0766                  0.0798   \n",
       "funcionarios                         -0.0408                 -0.0867   \n",
       "meses_permanencia                     0.2305                  0.2011   \n",
       "utiliza_serv_financeiros             -0.1619                 -0.1082   \n",
       "possui_contador                      -0.1870                 -0.2799   \n",
       "faz_conc_banc                         0.5861                  0.7256   \n",
       "freq_modulo_financeiro                0.7352                  0.6622   \n",
       "freq_modulo_fiscal                    0.7092                  0.7032   \n",
       "freq_modulo_bancario                  0.7253                  0.7482   \n",
       "freq_modulo_vendas                    1.0000                  0.7039   \n",
       "freq_modulo_relatorios                0.7039                  1.0000   \n",
       "freq_modulo_api                       0.7046                  0.8072   \n",
       "contrato                              0.0472                 -0.0651   \n",
       "boleto                                0.2110                  0.3186   \n",
       "tipo_pagamento                        0.1751                  0.1651   \n",
       "receita_mensal                        0.6610                  0.8202   \n",
       "receita_total                         0.4956                  0.5356   \n",
       "churn                                 0.0270                  0.1647   \n",
       "\n",
       "                          freq_modulo_api  contrato  boleto  tipo_pagamento  \\\n",
       "id                                -0.0093    0.0034  0.0027         -0.0209   \n",
       "tipo_empresa                      -0.0100    0.0001 -0.0118         -0.0174   \n",
       "idade_empresa                      0.1560   -0.1262  0.1285          0.0241   \n",
       "possui_mais_1_socio                0.0751    0.2948 -0.0149          0.1548   \n",
       "funcionarios                      -0.1015    0.2432 -0.1114          0.0403   \n",
       "meses_permanencia                  0.2050    0.6716  0.0062          0.3704   \n",
       "utiliza_serv_financeiros          -0.1147    0.0022  0.0165          0.0042   \n",
       "possui_contador                   -0.2806   -0.1071 -0.1635         -0.1710   \n",
       "faz_conc_banc                      0.7231   -0.2902  0.3781          0.1210   \n",
       "freq_modulo_financeiro             0.6670    0.0158  0.1850          0.1706   \n",
       "freq_modulo_fiscal                 0.7002   -0.0354  0.2607          0.1813   \n",
       "freq_modulo_bancario               0.7530    0.0058  0.2461          0.1879   \n",
       "freq_modulo_vendas                 0.7046    0.0472  0.2110          0.1751   \n",
       "freq_modulo_relatorios             0.8072   -0.0651  0.3186          0.1651   \n",
       "freq_modulo_api                    1.0000   -0.0626  0.3104          0.1689   \n",
       "contrato                          -0.0626    1.0000 -0.1767          0.2275   \n",
       "boleto                             0.3104   -0.1767  1.0000          0.0629   \n",
       "tipo_pagamento                     0.1689    0.2275  0.0629          1.0000   \n",
       "receita_mensal                     0.8178   -0.0742  0.3521          0.1934   \n",
       "receita_total                      0.5377    0.4503  0.1578          0.3306   \n",
       "churn                              0.1632   -0.3967  0.1918         -0.1071   \n",
       "\n",
       "                          receita_mensal  receita_total   churn  \n",
       "id                               -0.0126         0.0018  0.0103  \n",
       "tipo_empresa                     -0.0146         0.0000 -0.0086  \n",
       "idade_empresa                     0.1891         0.0774  0.1419  \n",
       "possui_mais_1_socio               0.0968         0.3191 -0.1504  \n",
       "funcionarios                     -0.1139         0.0647 -0.1642  \n",
       "meses_permanencia                 0.2479         0.8259 -0.3522  \n",
       "utiliza_serv_financeiros          0.2474         0.1130  0.0119  \n",
       "possui_contador                  -0.4904        -0.4690 -0.0401  \n",
       "faz_conc_banc                     0.9055         0.4282  0.3168  \n",
       "freq_modulo_financeiro            0.6355         0.4832  0.0233  \n",
       "freq_modulo_fiscal                0.7105         0.5377  0.0742  \n",
       "freq_modulo_bancario              0.7371         0.5461  0.0847  \n",
       "freq_modulo_vendas                0.6610         0.4956  0.0270  \n",
       "freq_modulo_relatorios            0.8202         0.5356  0.1647  \n",
       "freq_modulo_api                   0.8178         0.5377  0.1632  \n",
       "contrato                         -0.0742         0.4503 -0.3967  \n",
       "boleto                            0.3521         0.1578  0.1918  \n",
       "tipo_pagamento                    0.1934         0.3306 -0.1071  \n",
       "receita_mensal                    1.0000         0.6511  0.1934  \n",
       "receita_total                     0.6511         1.0000 -0.1995  \n",
       "churn                             0.1934        -0.1995  1.0000  \n",
       "\n",
       "[21 rows x 21 columns]"
      ]
     },
     "execution_count": 21,
     "metadata": {},
     "output_type": "execute_result"
    }
   ],
   "source": [
    "df.corr().round(4)"
   ]
  },
  {
   "cell_type": "code",
   "execution_count": 22,
   "metadata": {},
   "outputs": [
    {
     "data": {
      "text/html": [
       "<div>\n",
       "<style scoped>\n",
       "    .dataframe tbody tr th:only-of-type {\n",
       "        vertical-align: middle;\n",
       "    }\n",
       "\n",
       "    .dataframe tbody tr th {\n",
       "        vertical-align: top;\n",
       "    }\n",
       "\n",
       "    .dataframe thead th {\n",
       "        text-align: right;\n",
       "    }\n",
       "</style>\n",
       "<table border=\"1\" class=\"dataframe\">\n",
       "  <thead>\n",
       "    <tr style=\"text-align: right;\">\n",
       "      <th></th>\n",
       "      <th>id</th>\n",
       "      <th>tipo_empresa</th>\n",
       "      <th>idade_empresa</th>\n",
       "      <th>possui_mais_1_socio</th>\n",
       "      <th>funcionarios</th>\n",
       "      <th>meses_permanencia</th>\n",
       "      <th>utiliza_serv_financeiros</th>\n",
       "      <th>possui_contador</th>\n",
       "      <th>faz_conc_banc</th>\n",
       "      <th>freq_modulo_financeiro</th>\n",
       "      <th>...</th>\n",
       "      <th>freq_modulo_bancario</th>\n",
       "      <th>freq_modulo_vendas</th>\n",
       "      <th>freq_modulo_relatorios</th>\n",
       "      <th>freq_modulo_api</th>\n",
       "      <th>contrato</th>\n",
       "      <th>boleto</th>\n",
       "      <th>tipo_pagamento</th>\n",
       "      <th>receita_mensal</th>\n",
       "      <th>receita_total</th>\n",
       "      <th>churn</th>\n",
       "    </tr>\n",
       "  </thead>\n",
       "  <tbody>\n",
       "    <tr>\n",
       "      <th>id</th>\n",
       "      <td>1.0000</td>\n",
       "      <td>-0.0082</td>\n",
       "      <td>0.0131</td>\n",
       "      <td>-0.0002</td>\n",
       "      <td>-0.0052</td>\n",
       "      <td>0.0071</td>\n",
       "      <td>-0.0270</td>\n",
       "      <td>0.0139</td>\n",
       "      <td>-0.0056</td>\n",
       "      <td>-0.0001</td>\n",
       "      <td>...</td>\n",
       "      <td>-0.0032</td>\n",
       "      <td>0.0064</td>\n",
       "      <td>0.0002</td>\n",
       "      <td>-0.0093</td>\n",
       "      <td>0.0034</td>\n",
       "      <td>0.0027</td>\n",
       "      <td>-0.0209</td>\n",
       "      <td>-0.0126</td>\n",
       "      <td>0.0018</td>\n",
       "      <td>0.0103</td>\n",
       "    </tr>\n",
       "    <tr>\n",
       "      <th>tipo_empresa</th>\n",
       "      <td>-0.0082</td>\n",
       "      <td>1.0000</td>\n",
       "      <td>-0.0072</td>\n",
       "      <td>-0.0018</td>\n",
       "      <td>0.0105</td>\n",
       "      <td>0.0051</td>\n",
       "      <td>-0.0065</td>\n",
       "      <td>0.0084</td>\n",
       "      <td>-0.0104</td>\n",
       "      <td>-0.0144</td>\n",
       "      <td>...</td>\n",
       "      <td>-0.0047</td>\n",
       "      <td>-0.0094</td>\n",
       "      <td>-0.0087</td>\n",
       "      <td>-0.0100</td>\n",
       "      <td>0.0001</td>\n",
       "      <td>-0.0118</td>\n",
       "      <td>-0.0174</td>\n",
       "      <td>-0.0146</td>\n",
       "      <td>0.0000</td>\n",
       "      <td>-0.0086</td>\n",
       "    </tr>\n",
       "    <tr>\n",
       "      <th>idade_empresa</th>\n",
       "      <td>0.0131</td>\n",
       "      <td>-0.0072</td>\n",
       "      <td>1.0000</td>\n",
       "      <td>0.0101</td>\n",
       "      <td>-0.1820</td>\n",
       "      <td>0.0019</td>\n",
       "      <td>0.0053</td>\n",
       "      <td>-0.1134</td>\n",
       "      <td>0.2244</td>\n",
       "      <td>0.0714</td>\n",
       "      <td>...</td>\n",
       "      <td>0.1263</td>\n",
       "      <td>0.0654</td>\n",
       "      <td>0.1445</td>\n",
       "      <td>0.1560</td>\n",
       "      <td>-0.1262</td>\n",
       "      <td>0.1285</td>\n",
       "      <td>0.0241</td>\n",
       "      <td>0.1891</td>\n",
       "      <td>0.0774</td>\n",
       "      <td>0.1419</td>\n",
       "    </tr>\n",
       "    <tr>\n",
       "      <th>possui_mais_1_socio</th>\n",
       "      <td>-0.0002</td>\n",
       "      <td>-0.0018</td>\n",
       "      <td>0.0101</td>\n",
       "      <td>1.0000</td>\n",
       "      <td>0.4527</td>\n",
       "      <td>0.3797</td>\n",
       "      <td>0.0177</td>\n",
       "      <td>-0.1421</td>\n",
       "      <td>-0.0001</td>\n",
       "      <td>0.0913</td>\n",
       "      <td>...</td>\n",
       "      <td>0.0987</td>\n",
       "      <td>0.0766</td>\n",
       "      <td>0.0798</td>\n",
       "      <td>0.0751</td>\n",
       "      <td>0.2948</td>\n",
       "      <td>-0.0149</td>\n",
       "      <td>0.1548</td>\n",
       "      <td>0.0968</td>\n",
       "      <td>0.3191</td>\n",
       "      <td>-0.1504</td>\n",
       "    </tr>\n",
       "    <tr>\n",
       "      <th>funcionarios</th>\n",
       "      <td>-0.0052</td>\n",
       "      <td>0.0105</td>\n",
       "      <td>-0.1820</td>\n",
       "      <td>0.4527</td>\n",
       "      <td>1.0000</td>\n",
       "      <td>0.1597</td>\n",
       "      <td>-0.0018</td>\n",
       "      <td>0.0245</td>\n",
       "      <td>-0.1796</td>\n",
       "      <td>-0.0297</td>\n",
       "      <td>...</td>\n",
       "      <td>-0.0691</td>\n",
       "      <td>-0.0408</td>\n",
       "      <td>-0.0867</td>\n",
       "      <td>-0.1015</td>\n",
       "      <td>0.2432</td>\n",
       "      <td>-0.1114</td>\n",
       "      <td>0.0403</td>\n",
       "      <td>-0.1139</td>\n",
       "      <td>0.0647</td>\n",
       "      <td>-0.1642</td>\n",
       "    </tr>\n",
       "    <tr>\n",
       "      <th>meses_permanencia</th>\n",
       "      <td>0.0071</td>\n",
       "      <td>0.0051</td>\n",
       "      <td>0.0019</td>\n",
       "      <td>0.3797</td>\n",
       "      <td>0.1597</td>\n",
       "      <td>1.0000</td>\n",
       "      <td>0.0084</td>\n",
       "      <td>-0.3319</td>\n",
       "      <td>0.0332</td>\n",
       "      <td>0.2324</td>\n",
       "      <td>...</td>\n",
       "      <td>0.2540</td>\n",
       "      <td>0.2305</td>\n",
       "      <td>0.2011</td>\n",
       "      <td>0.2050</td>\n",
       "      <td>0.6716</td>\n",
       "      <td>0.0062</td>\n",
       "      <td>0.3704</td>\n",
       "      <td>0.2479</td>\n",
       "      <td>0.8259</td>\n",
       "      <td>-0.3522</td>\n",
       "    </tr>\n",
       "    <tr>\n",
       "      <th>utiliza_serv_financeiros</th>\n",
       "      <td>-0.0270</td>\n",
       "      <td>-0.0065</td>\n",
       "      <td>0.0053</td>\n",
       "      <td>0.0177</td>\n",
       "      <td>-0.0018</td>\n",
       "      <td>0.0084</td>\n",
       "      <td>1.0000</td>\n",
       "      <td>-0.2797</td>\n",
       "      <td>0.0937</td>\n",
       "      <td>-0.1600</td>\n",
       "      <td>...</td>\n",
       "      <td>-0.1420</td>\n",
       "      <td>-0.1619</td>\n",
       "      <td>-0.1082</td>\n",
       "      <td>-0.1147</td>\n",
       "      <td>0.0022</td>\n",
       "      <td>0.0165</td>\n",
       "      <td>0.0042</td>\n",
       "      <td>0.2474</td>\n",
       "      <td>0.1130</td>\n",
       "      <td>0.0119</td>\n",
       "    </tr>\n",
       "    <tr>\n",
       "      <th>possui_contador</th>\n",
       "      <td>0.0139</td>\n",
       "      <td>0.0084</td>\n",
       "      <td>-0.1134</td>\n",
       "      <td>-0.1421</td>\n",
       "      <td>0.0245</td>\n",
       "      <td>-0.3319</td>\n",
       "      <td>-0.2797</td>\n",
       "      <td>1.0000</td>\n",
       "      <td>-0.3447</td>\n",
       "      <td>-0.1857</td>\n",
       "      <td>...</td>\n",
       "      <td>-0.2471</td>\n",
       "      <td>-0.1870</td>\n",
       "      <td>-0.2799</td>\n",
       "      <td>-0.2806</td>\n",
       "      <td>-0.1071</td>\n",
       "      <td>-0.1635</td>\n",
       "      <td>-0.1710</td>\n",
       "      <td>-0.4904</td>\n",
       "      <td>-0.4690</td>\n",
       "      <td>-0.0401</td>\n",
       "    </tr>\n",
       "    <tr>\n",
       "      <th>faz_conc_banc</th>\n",
       "      <td>-0.0056</td>\n",
       "      <td>-0.0104</td>\n",
       "      <td>0.2244</td>\n",
       "      <td>-0.0001</td>\n",
       "      <td>-0.1796</td>\n",
       "      <td>0.0332</td>\n",
       "      <td>0.0937</td>\n",
       "      <td>-0.3447</td>\n",
       "      <td>1.0000</td>\n",
       "      <td>0.5823</td>\n",
       "      <td>...</td>\n",
       "      <td>0.6630</td>\n",
       "      <td>0.5861</td>\n",
       "      <td>0.7256</td>\n",
       "      <td>0.7231</td>\n",
       "      <td>-0.2902</td>\n",
       "      <td>0.3781</td>\n",
       "      <td>0.1210</td>\n",
       "      <td>0.9055</td>\n",
       "      <td>0.4282</td>\n",
       "      <td>0.3168</td>\n",
       "    </tr>\n",
       "    <tr>\n",
       "      <th>freq_modulo_financeiro</th>\n",
       "      <td>-0.0001</td>\n",
       "      <td>-0.0144</td>\n",
       "      <td>0.0714</td>\n",
       "      <td>0.0913</td>\n",
       "      <td>-0.0297</td>\n",
       "      <td>0.2324</td>\n",
       "      <td>-0.1600</td>\n",
       "      <td>-0.1857</td>\n",
       "      <td>0.5823</td>\n",
       "      <td>1.0000</td>\n",
       "      <td>...</td>\n",
       "      <td>0.7017</td>\n",
       "      <td>0.7352</td>\n",
       "      <td>0.6622</td>\n",
       "      <td>0.6670</td>\n",
       "      <td>0.0158</td>\n",
       "      <td>0.1850</td>\n",
       "      <td>0.1706</td>\n",
       "      <td>0.6355</td>\n",
       "      <td>0.4832</td>\n",
       "      <td>0.0233</td>\n",
       "    </tr>\n",
       "    <tr>\n",
       "      <th>freq_modulo_fiscal</th>\n",
       "      <td>0.0036</td>\n",
       "      <td>-0.0122</td>\n",
       "      <td>0.1228</td>\n",
       "      <td>0.0908</td>\n",
       "      <td>-0.0628</td>\n",
       "      <td>0.2537</td>\n",
       "      <td>-0.1298</td>\n",
       "      <td>-0.2477</td>\n",
       "      <td>0.6587</td>\n",
       "      <td>0.7052</td>\n",
       "      <td>...</td>\n",
       "      <td>0.7113</td>\n",
       "      <td>0.7092</td>\n",
       "      <td>0.7032</td>\n",
       "      <td>0.7002</td>\n",
       "      <td>-0.0354</td>\n",
       "      <td>0.2607</td>\n",
       "      <td>0.1813</td>\n",
       "      <td>0.7105</td>\n",
       "      <td>0.5377</td>\n",
       "      <td>0.0742</td>\n",
       "    </tr>\n",
       "    <tr>\n",
       "      <th>freq_modulo_bancario</th>\n",
       "      <td>-0.0032</td>\n",
       "      <td>-0.0047</td>\n",
       "      <td>0.1263</td>\n",
       "      <td>0.0987</td>\n",
       "      <td>-0.0691</td>\n",
       "      <td>0.2540</td>\n",
       "      <td>-0.1420</td>\n",
       "      <td>-0.2471</td>\n",
       "      <td>0.6630</td>\n",
       "      <td>0.7017</td>\n",
       "      <td>...</td>\n",
       "      <td>1.0000</td>\n",
       "      <td>0.7253</td>\n",
       "      <td>0.7482</td>\n",
       "      <td>0.7530</td>\n",
       "      <td>0.0058</td>\n",
       "      <td>0.2461</td>\n",
       "      <td>0.1879</td>\n",
       "      <td>0.7371</td>\n",
       "      <td>0.5461</td>\n",
       "      <td>0.0847</td>\n",
       "    </tr>\n",
       "    <tr>\n",
       "      <th>freq_modulo_vendas</th>\n",
       "      <td>0.0064</td>\n",
       "      <td>-0.0094</td>\n",
       "      <td>0.0654</td>\n",
       "      <td>0.0766</td>\n",
       "      <td>-0.0408</td>\n",
       "      <td>0.2305</td>\n",
       "      <td>-0.1619</td>\n",
       "      <td>-0.1870</td>\n",
       "      <td>0.5861</td>\n",
       "      <td>0.7352</td>\n",
       "      <td>...</td>\n",
       "      <td>0.7253</td>\n",
       "      <td>1.0000</td>\n",
       "      <td>0.7039</td>\n",
       "      <td>0.7046</td>\n",
       "      <td>0.0472</td>\n",
       "      <td>0.2110</td>\n",
       "      <td>0.1751</td>\n",
       "      <td>0.6610</td>\n",
       "      <td>0.4956</td>\n",
       "      <td>0.0270</td>\n",
       "    </tr>\n",
       "    <tr>\n",
       "      <th>freq_modulo_relatorios</th>\n",
       "      <td>0.0002</td>\n",
       "      <td>-0.0087</td>\n",
       "      <td>0.1445</td>\n",
       "      <td>0.0798</td>\n",
       "      <td>-0.0867</td>\n",
       "      <td>0.2011</td>\n",
       "      <td>-0.1082</td>\n",
       "      <td>-0.2799</td>\n",
       "      <td>0.7256</td>\n",
       "      <td>0.6622</td>\n",
       "      <td>...</td>\n",
       "      <td>0.7482</td>\n",
       "      <td>0.7039</td>\n",
       "      <td>1.0000</td>\n",
       "      <td>0.8072</td>\n",
       "      <td>-0.0651</td>\n",
       "      <td>0.3186</td>\n",
       "      <td>0.1651</td>\n",
       "      <td>0.8202</td>\n",
       "      <td>0.5356</td>\n",
       "      <td>0.1647</td>\n",
       "    </tr>\n",
       "    <tr>\n",
       "      <th>freq_modulo_api</th>\n",
       "      <td>-0.0093</td>\n",
       "      <td>-0.0100</td>\n",
       "      <td>0.1560</td>\n",
       "      <td>0.0751</td>\n",
       "      <td>-0.1015</td>\n",
       "      <td>0.2050</td>\n",
       "      <td>-0.1147</td>\n",
       "      <td>-0.2806</td>\n",
       "      <td>0.7231</td>\n",
       "      <td>0.6670</td>\n",
       "      <td>...</td>\n",
       "      <td>0.7530</td>\n",
       "      <td>0.7046</td>\n",
       "      <td>0.8072</td>\n",
       "      <td>1.0000</td>\n",
       "      <td>-0.0626</td>\n",
       "      <td>0.3104</td>\n",
       "      <td>0.1689</td>\n",
       "      <td>0.8178</td>\n",
       "      <td>0.5377</td>\n",
       "      <td>0.1632</td>\n",
       "    </tr>\n",
       "    <tr>\n",
       "      <th>contrato</th>\n",
       "      <td>0.0034</td>\n",
       "      <td>0.0001</td>\n",
       "      <td>-0.1262</td>\n",
       "      <td>0.2948</td>\n",
       "      <td>0.2432</td>\n",
       "      <td>0.6716</td>\n",
       "      <td>0.0022</td>\n",
       "      <td>-0.1071</td>\n",
       "      <td>-0.2902</td>\n",
       "      <td>0.0158</td>\n",
       "      <td>...</td>\n",
       "      <td>0.0058</td>\n",
       "      <td>0.0472</td>\n",
       "      <td>-0.0651</td>\n",
       "      <td>-0.0626</td>\n",
       "      <td>1.0000</td>\n",
       "      <td>-0.1767</td>\n",
       "      <td>0.2275</td>\n",
       "      <td>-0.0742</td>\n",
       "      <td>0.4503</td>\n",
       "      <td>-0.3967</td>\n",
       "    </tr>\n",
       "    <tr>\n",
       "      <th>boleto</th>\n",
       "      <td>0.0027</td>\n",
       "      <td>-0.0118</td>\n",
       "      <td>0.1285</td>\n",
       "      <td>-0.0149</td>\n",
       "      <td>-0.1114</td>\n",
       "      <td>0.0062</td>\n",
       "      <td>0.0165</td>\n",
       "      <td>-0.1635</td>\n",
       "      <td>0.3781</td>\n",
       "      <td>0.1850</td>\n",
       "      <td>...</td>\n",
       "      <td>0.2461</td>\n",
       "      <td>0.2110</td>\n",
       "      <td>0.3186</td>\n",
       "      <td>0.3104</td>\n",
       "      <td>-0.1767</td>\n",
       "      <td>1.0000</td>\n",
       "      <td>0.0629</td>\n",
       "      <td>0.3521</td>\n",
       "      <td>0.1578</td>\n",
       "      <td>0.1918</td>\n",
       "    </tr>\n",
       "    <tr>\n",
       "      <th>tipo_pagamento</th>\n",
       "      <td>-0.0209</td>\n",
       "      <td>-0.0174</td>\n",
       "      <td>0.0241</td>\n",
       "      <td>0.1548</td>\n",
       "      <td>0.0403</td>\n",
       "      <td>0.3704</td>\n",
       "      <td>0.0042</td>\n",
       "      <td>-0.1710</td>\n",
       "      <td>0.1210</td>\n",
       "      <td>0.1706</td>\n",
       "      <td>...</td>\n",
       "      <td>0.1879</td>\n",
       "      <td>0.1751</td>\n",
       "      <td>0.1651</td>\n",
       "      <td>0.1689</td>\n",
       "      <td>0.2275</td>\n",
       "      <td>0.0629</td>\n",
       "      <td>1.0000</td>\n",
       "      <td>0.1934</td>\n",
       "      <td>0.3306</td>\n",
       "      <td>-0.1071</td>\n",
       "    </tr>\n",
       "    <tr>\n",
       "      <th>receita_mensal</th>\n",
       "      <td>-0.0126</td>\n",
       "      <td>-0.0146</td>\n",
       "      <td>0.1891</td>\n",
       "      <td>0.0968</td>\n",
       "      <td>-0.1139</td>\n",
       "      <td>0.2479</td>\n",
       "      <td>0.2474</td>\n",
       "      <td>-0.4904</td>\n",
       "      <td>0.9055</td>\n",
       "      <td>0.6355</td>\n",
       "      <td>...</td>\n",
       "      <td>0.7371</td>\n",
       "      <td>0.6610</td>\n",
       "      <td>0.8202</td>\n",
       "      <td>0.8178</td>\n",
       "      <td>-0.0742</td>\n",
       "      <td>0.3521</td>\n",
       "      <td>0.1934</td>\n",
       "      <td>1.0000</td>\n",
       "      <td>0.6511</td>\n",
       "      <td>0.1934</td>\n",
       "    </tr>\n",
       "    <tr>\n",
       "      <th>receita_total</th>\n",
       "      <td>0.0018</td>\n",
       "      <td>0.0000</td>\n",
       "      <td>0.0774</td>\n",
       "      <td>0.3191</td>\n",
       "      <td>0.0647</td>\n",
       "      <td>0.8259</td>\n",
       "      <td>0.1130</td>\n",
       "      <td>-0.4690</td>\n",
       "      <td>0.4282</td>\n",
       "      <td>0.4832</td>\n",
       "      <td>...</td>\n",
       "      <td>0.5461</td>\n",
       "      <td>0.4956</td>\n",
       "      <td>0.5356</td>\n",
       "      <td>0.5377</td>\n",
       "      <td>0.4503</td>\n",
       "      <td>0.1578</td>\n",
       "      <td>0.3306</td>\n",
       "      <td>0.6511</td>\n",
       "      <td>1.0000</td>\n",
       "      <td>-0.1995</td>\n",
       "    </tr>\n",
       "    <tr>\n",
       "      <th>churn</th>\n",
       "      <td>0.0103</td>\n",
       "      <td>-0.0086</td>\n",
       "      <td>0.1419</td>\n",
       "      <td>-0.1504</td>\n",
       "      <td>-0.1642</td>\n",
       "      <td>-0.3522</td>\n",
       "      <td>0.0119</td>\n",
       "      <td>-0.0401</td>\n",
       "      <td>0.3168</td>\n",
       "      <td>0.0233</td>\n",
       "      <td>...</td>\n",
       "      <td>0.0847</td>\n",
       "      <td>0.0270</td>\n",
       "      <td>0.1647</td>\n",
       "      <td>0.1632</td>\n",
       "      <td>-0.3967</td>\n",
       "      <td>0.1918</td>\n",
       "      <td>-0.1071</td>\n",
       "      <td>0.1934</td>\n",
       "      <td>-0.1995</td>\n",
       "      <td>1.0000</td>\n",
       "    </tr>\n",
       "  </tbody>\n",
       "</table>\n",
       "<p>21 rows × 21 columns</p>\n",
       "</div>"
      ],
      "text/plain": [
       "                              id  tipo_empresa  idade_empresa  \\\n",
       "id                        1.0000       -0.0082         0.0131   \n",
       "tipo_empresa             -0.0082        1.0000        -0.0072   \n",
       "idade_empresa             0.0131       -0.0072         1.0000   \n",
       "possui_mais_1_socio      -0.0002       -0.0018         0.0101   \n",
       "funcionarios             -0.0052        0.0105        -0.1820   \n",
       "meses_permanencia         0.0071        0.0051         0.0019   \n",
       "utiliza_serv_financeiros -0.0270       -0.0065         0.0053   \n",
       "possui_contador           0.0139        0.0084        -0.1134   \n",
       "faz_conc_banc            -0.0056       -0.0104         0.2244   \n",
       "freq_modulo_financeiro   -0.0001       -0.0144         0.0714   \n",
       "freq_modulo_fiscal        0.0036       -0.0122         0.1228   \n",
       "freq_modulo_bancario     -0.0032       -0.0047         0.1263   \n",
       "freq_modulo_vendas        0.0064       -0.0094         0.0654   \n",
       "freq_modulo_relatorios    0.0002       -0.0087         0.1445   \n",
       "freq_modulo_api          -0.0093       -0.0100         0.1560   \n",
       "contrato                  0.0034        0.0001        -0.1262   \n",
       "boleto                    0.0027       -0.0118         0.1285   \n",
       "tipo_pagamento           -0.0209       -0.0174         0.0241   \n",
       "receita_mensal           -0.0126       -0.0146         0.1891   \n",
       "receita_total             0.0018        0.0000         0.0774   \n",
       "churn                     0.0103       -0.0086         0.1419   \n",
       "\n",
       "                          possui_mais_1_socio  funcionarios  \\\n",
       "id                                    -0.0002       -0.0052   \n",
       "tipo_empresa                          -0.0018        0.0105   \n",
       "idade_empresa                          0.0101       -0.1820   \n",
       "possui_mais_1_socio                    1.0000        0.4527   \n",
       "funcionarios                           0.4527        1.0000   \n",
       "meses_permanencia                      0.3797        0.1597   \n",
       "utiliza_serv_financeiros               0.0177       -0.0018   \n",
       "possui_contador                       -0.1421        0.0245   \n",
       "faz_conc_banc                         -0.0001       -0.1796   \n",
       "freq_modulo_financeiro                 0.0913       -0.0297   \n",
       "freq_modulo_fiscal                     0.0908       -0.0628   \n",
       "freq_modulo_bancario                   0.0987       -0.0691   \n",
       "freq_modulo_vendas                     0.0766       -0.0408   \n",
       "freq_modulo_relatorios                 0.0798       -0.0867   \n",
       "freq_modulo_api                        0.0751       -0.1015   \n",
       "contrato                               0.2948        0.2432   \n",
       "boleto                                -0.0149       -0.1114   \n",
       "tipo_pagamento                         0.1548        0.0403   \n",
       "receita_mensal                         0.0968       -0.1139   \n",
       "receita_total                          0.3191        0.0647   \n",
       "churn                                 -0.1504       -0.1642   \n",
       "\n",
       "                          meses_permanencia  utiliza_serv_financeiros  \\\n",
       "id                                   0.0071                   -0.0270   \n",
       "tipo_empresa                         0.0051                   -0.0065   \n",
       "idade_empresa                        0.0019                    0.0053   \n",
       "possui_mais_1_socio                  0.3797                    0.0177   \n",
       "funcionarios                         0.1597                   -0.0018   \n",
       "meses_permanencia                    1.0000                    0.0084   \n",
       "utiliza_serv_financeiros             0.0084                    1.0000   \n",
       "possui_contador                     -0.3319                   -0.2797   \n",
       "faz_conc_banc                        0.0332                    0.0937   \n",
       "freq_modulo_financeiro               0.2324                   -0.1600   \n",
       "freq_modulo_fiscal                   0.2537                   -0.1298   \n",
       "freq_modulo_bancario                 0.2540                   -0.1420   \n",
       "freq_modulo_vendas                   0.2305                   -0.1619   \n",
       "freq_modulo_relatorios               0.2011                   -0.1082   \n",
       "freq_modulo_api                      0.2050                   -0.1147   \n",
       "contrato                             0.6716                    0.0022   \n",
       "boleto                               0.0062                    0.0165   \n",
       "tipo_pagamento                       0.3704                    0.0042   \n",
       "receita_mensal                       0.2479                    0.2474   \n",
       "receita_total                        0.8259                    0.1130   \n",
       "churn                               -0.3522                    0.0119   \n",
       "\n",
       "                          possui_contador  faz_conc_banc  \\\n",
       "id                                 0.0139        -0.0056   \n",
       "tipo_empresa                       0.0084        -0.0104   \n",
       "idade_empresa                     -0.1134         0.2244   \n",
       "possui_mais_1_socio               -0.1421        -0.0001   \n",
       "funcionarios                       0.0245        -0.1796   \n",
       "meses_permanencia                 -0.3319         0.0332   \n",
       "utiliza_serv_financeiros          -0.2797         0.0937   \n",
       "possui_contador                    1.0000        -0.3447   \n",
       "faz_conc_banc                     -0.3447         1.0000   \n",
       "freq_modulo_financeiro            -0.1857         0.5823   \n",
       "freq_modulo_fiscal                -0.2477         0.6587   \n",
       "freq_modulo_bancario              -0.2471         0.6630   \n",
       "freq_modulo_vendas                -0.1870         0.5861   \n",
       "freq_modulo_relatorios            -0.2799         0.7256   \n",
       "freq_modulo_api                   -0.2806         0.7231   \n",
       "contrato                          -0.1071        -0.2902   \n",
       "boleto                            -0.1635         0.3781   \n",
       "tipo_pagamento                    -0.1710         0.1210   \n",
       "receita_mensal                    -0.4904         0.9055   \n",
       "receita_total                     -0.4690         0.4282   \n",
       "churn                             -0.0401         0.3168   \n",
       "\n",
       "                          freq_modulo_financeiro  ...  freq_modulo_bancario  \\\n",
       "id                                       -0.0001  ...               -0.0032   \n",
       "tipo_empresa                             -0.0144  ...               -0.0047   \n",
       "idade_empresa                             0.0714  ...                0.1263   \n",
       "possui_mais_1_socio                       0.0913  ...                0.0987   \n",
       "funcionarios                             -0.0297  ...               -0.0691   \n",
       "meses_permanencia                         0.2324  ...                0.2540   \n",
       "utiliza_serv_financeiros                 -0.1600  ...               -0.1420   \n",
       "possui_contador                          -0.1857  ...               -0.2471   \n",
       "faz_conc_banc                             0.5823  ...                0.6630   \n",
       "freq_modulo_financeiro                    1.0000  ...                0.7017   \n",
       "freq_modulo_fiscal                        0.7052  ...                0.7113   \n",
       "freq_modulo_bancario                      0.7017  ...                1.0000   \n",
       "freq_modulo_vendas                        0.7352  ...                0.7253   \n",
       "freq_modulo_relatorios                    0.6622  ...                0.7482   \n",
       "freq_modulo_api                           0.6670  ...                0.7530   \n",
       "contrato                                  0.0158  ...                0.0058   \n",
       "boleto                                    0.1850  ...                0.2461   \n",
       "tipo_pagamento                            0.1706  ...                0.1879   \n",
       "receita_mensal                            0.6355  ...                0.7371   \n",
       "receita_total                             0.4832  ...                0.5461   \n",
       "churn                                     0.0233  ...                0.0847   \n",
       "\n",
       "                          freq_modulo_vendas  freq_modulo_relatorios  \\\n",
       "id                                    0.0064                  0.0002   \n",
       "tipo_empresa                         -0.0094                 -0.0087   \n",
       "idade_empresa                         0.0654                  0.1445   \n",
       "possui_mais_1_socio                   0.0766                  0.0798   \n",
       "funcionarios                         -0.0408                 -0.0867   \n",
       "meses_permanencia                     0.2305                  0.2011   \n",
       "utiliza_serv_financeiros             -0.1619                 -0.1082   \n",
       "possui_contador                      -0.1870                 -0.2799   \n",
       "faz_conc_banc                         0.5861                  0.7256   \n",
       "freq_modulo_financeiro                0.7352                  0.6622   \n",
       "freq_modulo_fiscal                    0.7092                  0.7032   \n",
       "freq_modulo_bancario                  0.7253                  0.7482   \n",
       "freq_modulo_vendas                    1.0000                  0.7039   \n",
       "freq_modulo_relatorios                0.7039                  1.0000   \n",
       "freq_modulo_api                       0.7046                  0.8072   \n",
       "contrato                              0.0472                 -0.0651   \n",
       "boleto                                0.2110                  0.3186   \n",
       "tipo_pagamento                        0.1751                  0.1651   \n",
       "receita_mensal                        0.6610                  0.8202   \n",
       "receita_total                         0.4956                  0.5356   \n",
       "churn                                 0.0270                  0.1647   \n",
       "\n",
       "                          freq_modulo_api  contrato  boleto  tipo_pagamento  \\\n",
       "id                                -0.0093    0.0034  0.0027         -0.0209   \n",
       "tipo_empresa                      -0.0100    0.0001 -0.0118         -0.0174   \n",
       "idade_empresa                      0.1560   -0.1262  0.1285          0.0241   \n",
       "possui_mais_1_socio                0.0751    0.2948 -0.0149          0.1548   \n",
       "funcionarios                      -0.1015    0.2432 -0.1114          0.0403   \n",
       "meses_permanencia                  0.2050    0.6716  0.0062          0.3704   \n",
       "utiliza_serv_financeiros          -0.1147    0.0022  0.0165          0.0042   \n",
       "possui_contador                   -0.2806   -0.1071 -0.1635         -0.1710   \n",
       "faz_conc_banc                      0.7231   -0.2902  0.3781          0.1210   \n",
       "freq_modulo_financeiro             0.6670    0.0158  0.1850          0.1706   \n",
       "freq_modulo_fiscal                 0.7002   -0.0354  0.2607          0.1813   \n",
       "freq_modulo_bancario               0.7530    0.0058  0.2461          0.1879   \n",
       "freq_modulo_vendas                 0.7046    0.0472  0.2110          0.1751   \n",
       "freq_modulo_relatorios             0.8072   -0.0651  0.3186          0.1651   \n",
       "freq_modulo_api                    1.0000   -0.0626  0.3104          0.1689   \n",
       "contrato                          -0.0626    1.0000 -0.1767          0.2275   \n",
       "boleto                             0.3104   -0.1767  1.0000          0.0629   \n",
       "tipo_pagamento                     0.1689    0.2275  0.0629          1.0000   \n",
       "receita_mensal                     0.8178   -0.0742  0.3521          0.1934   \n",
       "receita_total                      0.5377    0.4503  0.1578          0.3306   \n",
       "churn                              0.1632   -0.3967  0.1918         -0.1071   \n",
       "\n",
       "                          receita_mensal  receita_total   churn  \n",
       "id                               -0.0126         0.0018  0.0103  \n",
       "tipo_empresa                     -0.0146         0.0000 -0.0086  \n",
       "idade_empresa                     0.1891         0.0774  0.1419  \n",
       "possui_mais_1_socio               0.0968         0.3191 -0.1504  \n",
       "funcionarios                     -0.1139         0.0647 -0.1642  \n",
       "meses_permanencia                 0.2479         0.8259 -0.3522  \n",
       "utiliza_serv_financeiros          0.2474         0.1130  0.0119  \n",
       "possui_contador                  -0.4904        -0.4690 -0.0401  \n",
       "faz_conc_banc                     0.9055         0.4282  0.3168  \n",
       "freq_modulo_financeiro            0.6355         0.4832  0.0233  \n",
       "freq_modulo_fiscal                0.7105         0.5377  0.0742  \n",
       "freq_modulo_bancario              0.7371         0.5461  0.0847  \n",
       "freq_modulo_vendas                0.6610         0.4956  0.0270  \n",
       "freq_modulo_relatorios            0.8202         0.5356  0.1647  \n",
       "freq_modulo_api                   0.8178         0.5377  0.1632  \n",
       "contrato                         -0.0742         0.4503 -0.3967  \n",
       "boleto                            0.3521         0.1578  0.1918  \n",
       "tipo_pagamento                    0.1934         0.3306 -0.1071  \n",
       "receita_mensal                    1.0000         0.6511  0.1934  \n",
       "receita_total                     0.6511         1.0000 -0.1995  \n",
       "churn                             0.1934        -0.1995  1.0000  \n",
       "\n",
       "[21 rows x 21 columns]"
      ]
     },
     "execution_count": 22,
     "metadata": {},
     "output_type": "execute_result"
    }
   ],
   "source": [
    "df.corr().round(4)"
   ]
  },
  {
   "cell_type": "markdown",
   "metadata": {},
   "source": [
    "### Analisando as correlações chegamos as conclusões:\n",
    "#### Tipo de empresa não está relacionada com nenhuma variavel\n",
    "\n",
    "#### Idade Empresa:\n",
    "##### Baixa correlação com: funcionarios, contador, consorcio bancario, freq fiscal, bancario, relatorios, apis, contrato, boleto, receita mensal e churn\n",
    "\n",
    "#### Sócio:\n",
    "##### alta correlação: funcionarios, meses permanencia, contrato, receita total\n",
    "##### baixa correlação: contador, tipo pagamento, churn.\n",
    "\n",
    "#### Funcionarios:\n",
    "##### alta correlação:  contrato.\n",
    "##### baixa correlação: meses permanencia, consorcio bancario, freq api, boleto, receita mensal, churn.\n",
    "\n",
    "#### Meses Permanencia: \n",
    "##### alta correlação:  contador, freq financeiro, bancario, vendas, relaorios, apis, contrato, pagamento, receita total, receita mensal, churn.\n",
    "\n",
    "#### Utiliza servicos financeiros:\n",
    "##### alta correlação: contador, receita mensa\n",
    "##### baixa correlação: freq financeiro, bancario, vendas, relaorios, apis, receita total\n",
    "\n",
    "#### Churn:\n",
    "#### alta correlação: meses permanencia, faz conc bancario, contrato\n",
    "##### baixa correlação: idade empresa, socio, funcionarios, boleto, pagamento, receita mensal, receita total, freq api e relatorios"
   ]
  },
  {
   "cell_type": "raw",
   "metadata": {},
   "source": [
    "### Atraves das correlações chegamos que as variaveis importantes para o churn são: \n",
    "-> Meses Permanencia \n",
    "-> conciliação bancaria\n",
    "-> contrato\n",
    "-> idade empresa\n",
    "-> socio\n",
    "-> funcionarios\n",
    "-> boletos\n",
    "-> pagamento\n",
    "-> receita mensal \n",
    "-> total e freq api e relatórios\n",
    "\n",
    "#### Para as variáveis selecionadas, vou analisar a intercorrelação entre elas através dos dados de correlçação, caso sejam muito grandes serão retiradas do modelo.\n",
    "\n",
    "--> ReceitaMensaXReceitaAnual = 0,6511 (Alta) --> Descartar Receita Anual \n",
    "--> MesesXConsBanc = 0,0332 (Baixa)\n",
    "--> MesesXContrato = 0,6716 (Alta) --> Descartar Contrato\n",
    "--> MesesXIdade = 0.0019 (Baixa)\n",
    "--> MesesXSocio = 0.3797 (Alta) --> Não vou descartar, pois nao vejo relação entre as variáveis.\n",
    "--> MesesXFuncionarios = 0.1597 (Baixa)\n",
    "--> MesesXBoleto = 0.0062 (Baixa)\n",
    "--> MesesXPagamento = 0.3704 (Media) --> Vou deixar ambas\n",
    "--> MesesXFreqApi = 0.2050 (Media) --> Vou deixar ambas\n",
    "--> MesesXFreqRel = 0.2011 (Media) --> Vou deixar\n",
    "--> MesesXReceitaMensal = 0.2479 (Media) --> Vou deixar\n",
    "--> Freq RelatorioXapi = 0.8072 (Alta) --> deixar só relatório\n",
    "\n",
    "### Atualizando variáveis:\n",
    "-> Meses Permanencia\n",
    "-> conciliação bancaria\n",
    "-> idade empresa\n",
    "-> socio\n",
    "-> funcionarios\n",
    "-> boletos\n",
    "-> pagamento\n",
    "-> receita mensal\n",
    "-> freq relatórios\n",
    "\n",
    "#### Continuando com as correlações:\n",
    "Avaliando Idade:\n",
    "--> IdadeXConsorcio = 0.2244 (Média)\n",
    "--> IdadeXSócio = 0.0101 (Baixa)\n",
    "--> IdadeXFuncionarios= -0.1820 (Media)\n",
    "--> IdadeXBoletos = 0.1285 (Media)\n",
    "--> IdadeXPagamento = 0.0241 (Baixo)\n",
    "--> IdadeXreceitaMensal = 0.1891 (Medio)\n",
    "--> IdadeXRelatorio = 0.1445 (Medio)\n",
    "\n",
    "Avaliando Sócio:\n",
    "--> SocioXConsorcio = -0.0001 (Baixo)\n",
    "--> SocioXFuncionarios = 0.4527 (alta) --> Vou tirar o sócio das analises\n",
    "\n",
    "Avaliando Funcionários:\n",
    "--> funcionarioXBoletos = -0.1114 (Baixo)\n",
    "--> funcionarioXPagamento = 0.0403 (Baixo)\n",
    "--> funcionarioXreceitaMensal = -0.1139 (Baixo)\n",
    "--> funcionarioXRelatorio = 0.0867 (Baixo)\n",
    "\n",
    "Avaliando Pagamento\n",
    "--> pagamentoXboletos = 0.0629 (Baixo)\n",
    "--> pagamentoXreceitaMensal = 0.1934 (Baixo)\n",
    "--> pagamentoXRelatorio = 0.1651 (Baixo)\n",
    "\n",
    "Avaliando Receita:\n",
    "--> ReceitaMensalXRelatorio = 0.8202 (Alto) --> Tirar o Relatorio\n",
    "\n",
    "## Variaveis para modelo de Machine Learning:\n",
    "-> Meses Permanencia \n",
    "-> conciliação bancaria\n",
    "-> idade empresa\n",
    "-> funcionarios\n",
    "-> boletos, pagamento\n",
    "-> receita mensal"
   ]
  },
  {
   "cell_type": "markdown",
   "metadata": {},
   "source": [
    "## Novo Data Frame somente com Variáveis relevantes:"
   ]
  },
  {
   "cell_type": "code",
   "execution_count": 23,
   "metadata": {},
   "outputs": [],
   "source": [
    "teste = {}\n",
    "teste['churn'] = df.churn\n",
    "teste['idd'] = df.idade_empresa\n",
    "teste['func'] = df.funcionarios\n",
    "teste['mes_perm'] = df.meses_permanencia\n",
    "teste['conci_banc'] = df.faz_conc_banc\n",
    "teste['boleto'] = df.boleto\n",
    "teste['pagamento'] = df.tipo_pagamento\n",
    "teste['receita_mensal'] = df.receita_mensal"
   ]
  },
  {
   "cell_type": "code",
   "execution_count": 24,
   "metadata": {},
   "outputs": [
    {
     "data": {
      "text/html": [
       "<div>\n",
       "<style scoped>\n",
       "    .dataframe tbody tr th:only-of-type {\n",
       "        vertical-align: middle;\n",
       "    }\n",
       "\n",
       "    .dataframe tbody tr th {\n",
       "        vertical-align: top;\n",
       "    }\n",
       "\n",
       "    .dataframe thead th {\n",
       "        text-align: right;\n",
       "    }\n",
       "</style>\n",
       "<table border=\"1\" class=\"dataframe\">\n",
       "  <thead>\n",
       "    <tr style=\"text-align: right;\">\n",
       "      <th></th>\n",
       "      <th>churn</th>\n",
       "      <th>idd</th>\n",
       "      <th>func</th>\n",
       "      <th>mes_perm</th>\n",
       "      <th>conci_banc</th>\n",
       "      <th>boleto</th>\n",
       "      <th>pagamento</th>\n",
       "      <th>receita_mensal</th>\n",
       "    </tr>\n",
       "  </thead>\n",
       "  <tbody>\n",
       "    <tr>\n",
       "      <th>0</th>\n",
       "      <td>0</td>\n",
       "      <td>6</td>\n",
       "      <td>0</td>\n",
       "      <td>1</td>\n",
       "      <td>1</td>\n",
       "      <td>1</td>\n",
       "      <td>1</td>\n",
       "      <td>29.85</td>\n",
       "    </tr>\n",
       "    <tr>\n",
       "      <th>1</th>\n",
       "      <td>0</td>\n",
       "      <td>4</td>\n",
       "      <td>0</td>\n",
       "      <td>34</td>\n",
       "      <td>1</td>\n",
       "      <td>0</td>\n",
       "      <td>0</td>\n",
       "      <td>56.95</td>\n",
       "    </tr>\n",
       "    <tr>\n",
       "      <th>2</th>\n",
       "      <td>1</td>\n",
       "      <td>1</td>\n",
       "      <td>0</td>\n",
       "      <td>2</td>\n",
       "      <td>1</td>\n",
       "      <td>1</td>\n",
       "      <td>0</td>\n",
       "      <td>53.85</td>\n",
       "    </tr>\n",
       "    <tr>\n",
       "      <th>3</th>\n",
       "      <td>0</td>\n",
       "      <td>6</td>\n",
       "      <td>0</td>\n",
       "      <td>45</td>\n",
       "      <td>1</td>\n",
       "      <td>0</td>\n",
       "      <td>3</td>\n",
       "      <td>42.30</td>\n",
       "    </tr>\n",
       "    <tr>\n",
       "      <th>4</th>\n",
       "      <td>1</td>\n",
       "      <td>5</td>\n",
       "      <td>0</td>\n",
       "      <td>2</td>\n",
       "      <td>2</td>\n",
       "      <td>1</td>\n",
       "      <td>1</td>\n",
       "      <td>70.70</td>\n",
       "    </tr>\n",
       "    <tr>\n",
       "      <th>...</th>\n",
       "      <td>...</td>\n",
       "      <td>...</td>\n",
       "      <td>...</td>\n",
       "      <td>...</td>\n",
       "      <td>...</td>\n",
       "      <td>...</td>\n",
       "      <td>...</td>\n",
       "      <td>...</td>\n",
       "    </tr>\n",
       "    <tr>\n",
       "      <th>7038</th>\n",
       "      <td>0</td>\n",
       "      <td>4</td>\n",
       "      <td>1</td>\n",
       "      <td>24</td>\n",
       "      <td>1</td>\n",
       "      <td>1</td>\n",
       "      <td>0</td>\n",
       "      <td>84.80</td>\n",
       "    </tr>\n",
       "    <tr>\n",
       "      <th>7039</th>\n",
       "      <td>0</td>\n",
       "      <td>2</td>\n",
       "      <td>1</td>\n",
       "      <td>72</td>\n",
       "      <td>2</td>\n",
       "      <td>1</td>\n",
       "      <td>2</td>\n",
       "      <td>103.20</td>\n",
       "    </tr>\n",
       "    <tr>\n",
       "      <th>7040</th>\n",
       "      <td>0</td>\n",
       "      <td>3</td>\n",
       "      <td>1</td>\n",
       "      <td>11</td>\n",
       "      <td>1</td>\n",
       "      <td>1</td>\n",
       "      <td>1</td>\n",
       "      <td>29.60</td>\n",
       "    </tr>\n",
       "    <tr>\n",
       "      <th>7041</th>\n",
       "      <td>1</td>\n",
       "      <td>19</td>\n",
       "      <td>0</td>\n",
       "      <td>4</td>\n",
       "      <td>2</td>\n",
       "      <td>1</td>\n",
       "      <td>0</td>\n",
       "      <td>74.40</td>\n",
       "    </tr>\n",
       "    <tr>\n",
       "      <th>7042</th>\n",
       "      <td>0</td>\n",
       "      <td>5</td>\n",
       "      <td>0</td>\n",
       "      <td>66</td>\n",
       "      <td>2</td>\n",
       "      <td>1</td>\n",
       "      <td>3</td>\n",
       "      <td>105.65</td>\n",
       "    </tr>\n",
       "  </tbody>\n",
       "</table>\n",
       "<p>7043 rows × 8 columns</p>\n",
       "</div>"
      ],
      "text/plain": [
       "      churn  idd  func  mes_perm  conci_banc  boleto  pagamento  \\\n",
       "0         0    6     0         1           1       1          1   \n",
       "1         0    4     0        34           1       0          0   \n",
       "2         1    1     0         2           1       1          0   \n",
       "3         0    6     0        45           1       0          3   \n",
       "4         1    5     0         2           2       1          1   \n",
       "...     ...  ...   ...       ...         ...     ...        ...   \n",
       "7038      0    4     1        24           1       1          0   \n",
       "7039      0    2     1        72           2       1          2   \n",
       "7040      0    3     1        11           1       1          1   \n",
       "7041      1   19     0         4           2       1          0   \n",
       "7042      0    5     0        66           2       1          3   \n",
       "\n",
       "      receita_mensal  \n",
       "0              29.85  \n",
       "1              56.95  \n",
       "2              53.85  \n",
       "3              42.30  \n",
       "4              70.70  \n",
       "...              ...  \n",
       "7038           84.80  \n",
       "7039          103.20  \n",
       "7040           29.60  \n",
       "7041           74.40  \n",
       "7042          105.65  \n",
       "\n",
       "[7043 rows x 8 columns]"
      ]
     },
     "execution_count": 24,
     "metadata": {},
     "output_type": "execute_result"
    }
   ],
   "source": [
    "dados = pd.DataFrame(teste)\n",
    "dados"
   ]
  },
  {
   "cell_type": "code",
   "execution_count": 25,
   "metadata": {},
   "outputs": [
    {
     "data": {
      "text/plain": [
       "Text(0.5, 1.1, 'Dispersão do churn em função das variáveis')"
      ]
     },
     "execution_count": 25,
     "metadata": {},
     "output_type": "execute_result"
    },
    {
     "data": {
      "image/png": "[encoded data removed]",
      "text/plain": [
       "<Figure size 1260x180 with 7 Axes>"
      ]
     },
     "metadata": {
      "needs_background": "light"
     },
     "output_type": "display_data"
    }
   ],
   "source": [
    "ax = sns.pairplot(dados, y_vars = \"churn\", x_vars=[\"idd\", \"func\", \"mes_perm\", \"conci_banc\", \"boleto\", 'pagamento', 'receita_mensal'],kind = \"reg\")\n",
    "ax.fig.suptitle(\"Dispersão do churn em função das variáveis\", y = 1.1, fontsize = 20)"
   ]
  },
  {
   "cell_type": "markdown",
   "metadata": {},
   "source": [
    "#### Gráfico de dispersão não mostra nada relevante, só algumas possiveis linearidades, mas de forma bem rudimentar."
   ]
  },
  {
   "cell_type": "code",
   "execution_count": 26,
   "metadata": {
    "scrolled": true
   },
   "outputs": [
    {
     "data": {
      "text/html": [
       "<div>\n",
       "<style scoped>\n",
       "    .dataframe tbody tr th:only-of-type {\n",
       "        vertical-align: middle;\n",
       "    }\n",
       "\n",
       "    .dataframe tbody tr th {\n",
       "        vertical-align: top;\n",
       "    }\n",
       "\n",
       "    .dataframe thead th {\n",
       "        text-align: right;\n",
       "    }\n",
       "</style>\n",
       "<table border=\"1\" class=\"dataframe\">\n",
       "  <thead>\n",
       "    <tr style=\"text-align: right;\">\n",
       "      <th></th>\n",
       "      <th>churn</th>\n",
       "      <th>idd</th>\n",
       "      <th>func</th>\n",
       "      <th>mes_perm</th>\n",
       "      <th>conci_banc</th>\n",
       "      <th>boleto</th>\n",
       "      <th>pagamento</th>\n",
       "      <th>receita_mensal</th>\n",
       "    </tr>\n",
       "  </thead>\n",
       "  <tbody>\n",
       "    <tr>\n",
       "      <th>0</th>\n",
       "      <td>0</td>\n",
       "      <td>4.873</td>\n",
       "      <td>0.345</td>\n",
       "      <td>37.570</td>\n",
       "      <td>1.075</td>\n",
       "      <td>0.536</td>\n",
       "      <td>1.494</td>\n",
       "      <td>61.265</td>\n",
       "    </tr>\n",
       "    <tr>\n",
       "      <th>1</th>\n",
       "      <td>1</td>\n",
       "      <td>6.345</td>\n",
       "      <td>0.174</td>\n",
       "      <td>17.979</td>\n",
       "      <td>1.633</td>\n",
       "      <td>0.749</td>\n",
       "      <td>1.235</td>\n",
       "      <td>74.441</td>\n",
       "    </tr>\n",
       "  </tbody>\n",
       "</table>\n",
       "</div>"
      ],
      "text/plain": [
       "   churn    idd   func  mes_perm  conci_banc  boleto  pagamento  \\\n",
       "0      0  4.873  0.345    37.570       1.075   0.536      1.494   \n",
       "1      1  6.345  0.174    17.979       1.633   0.749      1.235   \n",
       "\n",
       "   receita_mensal  \n",
       "0          61.265  \n",
       "1          74.441  "
      ]
     },
     "execution_count": 26,
     "metadata": {},
     "output_type": "execute_result"
    }
   ],
   "source": [
    "saida = dados.groupby('churn').mean().round(3)\n",
    "saida = saida.reset_index()\n",
    "saida"
   ]
  },
  {
   "cell_type": "code",
   "execution_count": 27,
   "metadata": {},
   "outputs": [
    {
     "data": {
      "image/png": "[encoded data removed]",
      "text/plain": [
       "<Figure size 1200x900 with 10 Axes>"
      ]
     },
     "metadata": {
      "needs_background": "light"
     },
     "output_type": "display_data"
    }
   ],
   "source": [
    "area = plt.figure(figsize = (12,9), dpi = 100)\n",
    "plot_idd = area.add_subplot(4,3,1)\n",
    "plot_idd = sns.barplot(data =df, y='tipo_empresa', x='churn', palette='rocket')\n",
    "plot_func = area.add_subplot(4,3,2)\n",
    "plot_func = sns.barplot(data =df, y='possui_mais_1_socio', x='churn', palette='rocket')\n",
    "plot_meses = area.add_subplot(4,3,3)\n",
    "plot_meses = sns.barplot(data =df, y='utiliza_serv_financeiros', x='churn', palette='rocket')\n",
    "plot_conci = area.add_subplot(4,3,4)\n",
    "plot_conci = sns.barplot(data =df, y='freq_modulo_financeiro', x='churn', palette='rocket')\n",
    "\n",
    "plot_boleto = area.add_subplot(4,3,5)\n",
    "plot_boleto = sns.barplot(data =df, y='freq_modulo_fiscal', x='churn', palette='rocket')\n",
    "\n",
    "plot_pagamento = area.add_subplot(4,3,6)\n",
    "plot_pagamento = sns.barplot(data =df, y='freq_modulo_bancario', x='churn', palette='rocket')\n",
    "\n",
    "plot_receita = area.add_subplot(4,3,7)\n",
    "plot_receita = sns.barplot(data =df, y='freq_modulo_vendas', x='churn', palette='rocket')\n",
    "\n",
    "\n",
    "plot_idd = area.add_subplot(4,3,8)\n",
    "plot_idd = sns.barplot(data =df, y='freq_modulo_relatorios', x='churn', palette='rocket')\n",
    "plot_func = area.add_subplot(4,3,9)\n",
    "plot_func = sns.barplot(data =df, y='freq_modulo_api', x='churn', palette='rocket')\n",
    "plot_meses = area.add_subplot(4,3,10)\n",
    "plot_meses = sns.barplot(data =df, y='contrato', x='churn', palette='rocket')\n"
   ]
  },
  {
   "cell_type": "markdown",
   "metadata": {},
   "source": [
    "##### As variáveis que apresentam praticamente o mesmo tamanho para a situação 0 e 1 se churn não servem para explicar o modelo, e portanto foram retiradas.\n",
    "##### Algumas apresentam uma diferença consideravel, como: possui socio (retirada pela alta correçacao com funcionarios), freq_mod_relatorio (retirada devido a alta correlação com receita mensal) e por ultimo o tipo de contrato (retirada devido a alta correlação com os meses de utilização)"
   ]
  },
  {
   "cell_type": "code",
   "execution_count": 28,
   "metadata": {},
   "outputs": [
    {
     "data": {
      "text/plain": [
       "Text(0, 0.5, 'Receita mensal (R$)')"
      ]
     },
     "execution_count": 28,
     "metadata": {},
     "output_type": "execute_result"
    },
    {
     "data": {
      "image/png": "[encoded data removed]",
      "text/plain": [
       "<Figure size 1200x900 with 7 Axes>"
      ]
     },
     "metadata": {
      "needs_background": "light"
     },
     "output_type": "display_data"
    }
   ],
   "source": [
    "area = plt.figure(figsize = (12,9), dpi = 100)\n",
    "plot_idd = area.add_subplot(4,3,1)\n",
    "plot_idd = sns.barplot(data =dados, y='idd', x='churn', palette='mako')\n",
    "plot_idd.set_ylabel('Idade (anos)')\n",
    "plot_func = area.add_subplot(4,3,2)\n",
    "plot_func = sns.barplot(data =dados, y='func', x='churn', palette='mako')\n",
    "plot_meses = area.add_subplot(4,3,3)\n",
    "plot_meses = sns.barplot(data =dados, y='mes_perm', x='churn', palette='mako')\n",
    "plot_meses.set_ylabel('Meses de permanencia')\n",
    "plot_conci = area.add_subplot(4,3,4)\n",
    "plot_conci = sns.barplot(data =dados, y='conci_banc', x='churn', palette='mako')\n",
    "\n",
    "plot_boleto = area.add_subplot(4,3,5)\n",
    "plot_boleto = sns.barplot(data =dados, y='boleto', x='churn', palette='mako')\n",
    "\n",
    "plot_pagamento = area.add_subplot(4,3,6)\n",
    "plot_pagamento = sns.barplot(data =dados, y='pagamento', x='churn', palette='mako')\n",
    "\n",
    "plot_receita = area.add_subplot(4,3,7)\n",
    "plot_receita = sns.barplot(data =dados, y='receita_mensal', x='churn', palette='mako')\n",
    "plot_receita.set_ylabel('Receita mensal (R$)')\n"
   ]
  },
  {
   "cell_type": "markdown",
   "metadata": {},
   "source": [
    "### Com os graficos dá para notar uma grande variação das grandezas escolhidas para a situação sem e com Churn, reforçando a ideia que as variaveis escolhidas foram boas"
   ]
  },
  {
   "cell_type": "markdown",
   "metadata": {},
   "source": [
    "## Separando os dados de treino e teste"
   ]
  },
  {
   "cell_type": "code",
   "execution_count": 29,
   "metadata": {},
   "outputs": [],
   "source": [
    "from sklearn.model_selection import train_test_split"
   ]
  },
  {
   "cell_type": "code",
   "execution_count": 30,
   "metadata": {},
   "outputs": [],
   "source": [
    "y = dados['churn']\n",
    "X = dados[[\"idd\", \"func\", \"mes_perm\", \"conci_banc\", \"boleto\", 'pagamento', 'receita_mensal']]"
   ]
  },
  {
   "cell_type": "code",
   "execution_count": 31,
   "metadata": {},
   "outputs": [],
   "source": [
    "X_train, X_test,y_train, y_test = train_test_split(X, y, test_size=0.3, random_state = 20)"
   ]
  },
  {
   "cell_type": "markdown",
   "metadata": {},
   "source": [
    "## Importanto LinearRegression e metrics do scikit-learn"
   ]
  },
  {
   "cell_type": "code",
   "execution_count": 32,
   "metadata": {},
   "outputs": [],
   "source": [
    "from sklearn.linear_model import LinearRegression\n",
    "from sklearn import metrics"
   ]
  },
  {
   "cell_type": "code",
   "execution_count": 33,
   "metadata": {},
   "outputs": [],
   "source": [
    "modelo = LinearRegression()"
   ]
  },
  {
   "cell_type": "code",
   "execution_count": 34,
   "metadata": {},
   "outputs": [
    {
     "data": {
      "text/plain": [
       "LinearRegression()"
      ]
     },
     "execution_count": 34,
     "metadata": {},
     "output_type": "execute_result"
    }
   ],
   "source": [
    "modelo.fit(X_train, y_train)"
   ]
  },
  {
   "cell_type": "markdown",
   "metadata": {},
   "source": [
    "## Obtendo o R² do modelo com os dados de TREINO"
   ]
  },
  {
   "cell_type": "code",
   "execution_count": 35,
   "metadata": {},
   "outputs": [
    {
     "name": "stdout",
     "output_type": "stream",
     "text": [
      "R² = 0.24\n"
     ]
    }
   ],
   "source": [
    "print(\"R² = {}\" .format(modelo.score(X_train, y_train,).round(2)))"
   ]
  },
  {
   "cell_type": "markdown",
   "metadata": {},
   "source": [
    "## Gerando previsoes para os dados de TESTE (X_test) utilizando o predict()"
   ]
  },
  {
   "cell_type": "code",
   "execution_count": 36,
   "metadata": {},
   "outputs": [],
   "source": [
    "y_previsto = modelo.predict(X_test)"
   ]
  },
  {
   "cell_type": "code",
   "execution_count": 37,
   "metadata": {},
   "outputs": [
    {
     "name": "stdout",
     "output_type": "stream",
     "text": [
      "R² = %s 0.26\n"
     ]
    }
   ],
   "source": [
    "print(\"R² = %s\", metrics.r2_score(y_test, y_previsto).round(2))"
   ]
  },
  {
   "cell_type": "markdown",
   "metadata": {},
   "source": [
    "### Modelo de LinearRegression não foi boa para esse modelo que tem dados discretos.\n",
    "#### O que era esperado, uma vez que nosso resultado é binário, e portanto pode ser tratado como um problema de classificação. Dessa forma vou utilizar 3 métodos de classificação para avaliar qual se adapta melhor aos dados"
   ]
  },
  {
   "cell_type": "markdown",
   "metadata": {},
   "source": [
    "# Regressão Logística "
   ]
  },
  {
   "cell_type": "code",
   "execution_count": 38,
   "metadata": {},
   "outputs": [],
   "source": [
    "from sklearn.linear_model import LogisticRegression\n",
    "from sklearn.neighbors import KNeighborsClassifier\n",
    "from sklearn.tree import DecisionTreeClassifier\n",
    "from sklearn.metrics import classification_report\n",
    "from sklearn.metrics import confusion_matrix"
   ]
  },
  {
   "cell_type": "code",
   "execution_count": 39,
   "metadata": {},
   "outputs": [],
   "source": [
    "modelo = LogisticRegression()"
   ]
  },
  {
   "cell_type": "code",
   "execution_count": 40,
   "metadata": {},
   "outputs": [
    {
     "data": {
      "text/plain": [
       "LogisticRegression()"
      ]
     },
     "execution_count": 40,
     "metadata": {},
     "output_type": "execute_result"
    }
   ],
   "source": [
    "modelo.fit(X_train, y_train)"
   ]
  },
  {
   "cell_type": "code",
   "execution_count": 41,
   "metadata": {},
   "outputs": [
    {
     "data": {
      "text/plain": [
       "LogisticRegression()"
      ]
     },
     "execution_count": 41,
     "metadata": {},
     "output_type": "execute_result"
    }
   ],
   "source": [
    "modelo.fit(X_train, y_train)"
   ]
  },
  {
   "cell_type": "code",
   "execution_count": 42,
   "metadata": {},
   "outputs": [
    {
     "data": {
      "text/plain": [
       "array([-1.78901158])"
      ]
     },
     "execution_count": 42,
     "metadata": {},
     "output_type": "execute_result"
    }
   ],
   "source": [
    "intercepto = modelo.fit(X_train, y_train).intercept_\n",
    "intercepto"
   ]
  },
  {
   "cell_type": "code",
   "execution_count": 43,
   "metadata": {},
   "outputs": [
    {
     "data": {
      "text/plain": [
       "array([[ 2.90795683e-02, -2.80282436e-01, -4.37527307e-02,\n",
       "         1.16211889e+00,  4.83257904e-01, -3.70380329e-02,\n",
       "         5.35058884e-04]])"
      ]
     },
     "execution_count": 43,
     "metadata": {},
     "output_type": "execute_result"
    }
   ],
   "source": [
    "coeficientes = modelo.fit(X_train, y_train).coef_\n",
    "coeficientes"
   ]
  },
  {
   "cell_type": "code",
   "execution_count": 44,
   "metadata": {},
   "outputs": [
    {
     "data": {
      "text/plain": [
       "array([0, 0, 0, ..., 0, 0, 0])"
      ]
     },
     "execution_count": 44,
     "metadata": {},
     "output_type": "execute_result"
    }
   ],
   "source": [
    "y_previsto = modelo.predict(X_test)\n",
    "y_previsto"
   ]
  },
  {
   "cell_type": "code",
   "execution_count": 45,
   "metadata": {},
   "outputs": [
    {
     "name": "stdout",
     "output_type": "stream",
     "text": [
      "              precision    recall  f1-score   support\n",
      "\n",
      "           0       0.85      0.91      0.88      1580\n",
      "           1       0.65      0.52      0.58       533\n",
      "\n",
      "    accuracy                           0.81      2113\n",
      "   macro avg       0.75      0.71      0.73      2113\n",
      "weighted avg       0.80      0.81      0.80      2113\n",
      "\n"
     ]
    }
   ],
   "source": [
    "print(classification_report(y_test, y_previsto))"
   ]
  },
  {
   "cell_type": "markdown",
   "metadata": {},
   "source": [
    "####  Acurácia – A acurácia é a proporção das observações classificadas corretas dentre o total de observações\n",
    "\n",
    "#### Precisão – A precisão é a proporção das observações positivas classificadas corretamente dentre as observações positivas que foram previstas.\n",
    "\n",
    "#### Recall – O recall é a proporção das observações positivas classificadas corretamente dentre as observações positivas verdadeiras.\n",
    "\n",
    "#### F1 Score – O F1 Score é a média harmônica entre precisão e recall."
   ]
  },
  {
   "cell_type": "code",
   "execution_count": 46,
   "metadata": {},
   "outputs": [],
   "source": [
    "y_previsto_proba = modelo.predict_proba(X_test)[::,1]\n",
    "fpr, tpr, _ = metrics.roc_curve(y_test, y_previsto_proba)"
   ]
  },
  {
   "cell_type": "code",
   "execution_count": 47,
   "metadata": {},
   "outputs": [
    {
     "name": "stdout",
     "output_type": "stream",
     "text": [
      "[[1430  150]\n",
      " [ 257  276]]\n"
     ]
    }
   ],
   "source": [
    "cf_matrix = confusion_matrix(y_test,y_previsto)\n",
    "print(cf_matrix)"
   ]
  },
  {
   "cell_type": "code",
   "execution_count": 48,
   "metadata": {},
   "outputs": [
    {
     "data": {
      "image/png": "[encoded data removed]",
      "text/plain": [
       "<Figure size 432x288 with 2 Axes>"
      ]
     },
     "metadata": {
      "needs_background": "light"
     },
     "output_type": "display_data"
    }
   ],
   "source": [
    "group_names = ['True Neg','False Pos','False Neg','True Pos']\n",
    "\n",
    "group_counts = [\"{0:0.0f}\".format(value) for value in\n",
    "                cf_matrix.flatten()]\n",
    "\n",
    "group_percentages = [\"{0:.2%}\".format(value) for value in\n",
    "                     cf_matrix.flatten()/np.sum(cf_matrix)]\n",
    "\n",
    "labels = [f\"{v1}\\n{v2}\\n{v3}\" for v1, v2, v3 in\n",
    "          zip(group_names,group_counts,group_percentages)]\n",
    "\n",
    "labels = np.asarray(labels).reshape(2,2)\n",
    "\n",
    "ax = sns.heatmap(cf_matrix, annot=labels, fmt='', cmap='Blues')\n",
    "\n",
    "ax.set_title('Matriz Confusão - Regressão Logística \\n');\n",
    "ax.set_xlabel('\\nValores Preditos')\n",
    "ax.set_ylabel('Valores Reais');\n",
    "\n",
    "## Ticket labels - List must be in alphabetical order\n",
    "ax.xaxis.set_ticklabels(['Falso','Verdadeiro'])\n",
    "ax.yaxis.set_ticklabels(['Falso','Verdadeiro'])\n",
    "\n",
    "## Display the visualization of the Confusion Matrix.\n",
    "plt.show()"
   ]
  },
  {
   "cell_type": "code",
   "execution_count": 49,
   "metadata": {},
   "outputs": [
    {
     "data": {
      "image/png": "[encoded data removed]",
      "text/plain": [
       "<Figure size 432x288 with 1 Axes>"
      ]
     },
     "metadata": {
      "needs_background": "light"
     },
     "output_type": "display_data"
    }
   ],
   "source": [
    "plt.plot(fpr,tpr)\n",
    "plt.ylabel('True positive rate')\n",
    "plt.xlabel('False positive rate')\n",
    "plt.show()"
   ]
  },
  {
   "cell_type": "code",
   "execution_count": 50,
   "metadata": {},
   "outputs": [
    {
     "data": {
      "image/png": "[encoded data removed]",
      "text/plain": [
       "<Figure size 432x288 with 1 Axes>"
      ]
     },
     "metadata": {
      "needs_background": "light"
     },
     "output_type": "display_data"
    }
   ],
   "source": [
    "auc = metrics.roc_auc_score(y_test, y_previsto_proba)\n",
    "plt.plot(fpr,tpr,label=\"AUC=\"+str(auc))\n",
    "plt.ylabel('True Positive Rate')\n",
    "plt.xlabel('False Positive Rate')\n",
    "plt.legend(loc=4, fontsize = 15)\n",
    "plt.show()"
   ]
  },
  {
   "cell_type": "code",
   "execution_count": 51,
   "metadata": {},
   "outputs": [],
   "source": [
    "### Nessa análise obtemos uma "
   ]
  },
  {
   "cell_type": "markdown",
   "metadata": {},
   "source": [
    "# KNN = K Nearest Neighbors"
   ]
  },
  {
   "cell_type": "code",
   "execution_count": 52,
   "metadata": {},
   "outputs": [],
   "source": [
    "modelo = KNeighborsClassifier()"
   ]
  },
  {
   "cell_type": "code",
   "execution_count": 53,
   "metadata": {},
   "outputs": [
    {
     "data": {
      "text/plain": [
       "KNeighborsClassifier()"
      ]
     },
     "execution_count": 53,
     "metadata": {},
     "output_type": "execute_result"
    }
   ],
   "source": [
    "modelo.fit(X_train, y_train)"
   ]
  },
  {
   "cell_type": "code",
   "execution_count": 54,
   "metadata": {},
   "outputs": [],
   "source": [
    "y_previsto = modelo.predict(X_test)"
   ]
  },
  {
   "cell_type": "code",
   "execution_count": 55,
   "metadata": {},
   "outputs": [
    {
     "name": "stdout",
     "output_type": "stream",
     "text": [
      "              precision    recall  f1-score   support\n",
      "\n",
      "           0       0.84      0.87      0.85      1580\n",
      "           1       0.57      0.52      0.54       533\n",
      "\n",
      "    accuracy                           0.78      2113\n",
      "   macro avg       0.71      0.69      0.70      2113\n",
      "weighted avg       0.77      0.78      0.78      2113\n",
      "\n"
     ]
    }
   ],
   "source": [
    "print(classification_report(y_test, y_previsto))"
   ]
  },
  {
   "cell_type": "code",
   "execution_count": 56,
   "metadata": {},
   "outputs": [],
   "source": [
    "y_previsto_proba = modelo.predict_proba(X_test)[::,1]\n",
    "fpr, tpr, _ = metrics.roc_curve(y_test, y_previsto_proba)"
   ]
  },
  {
   "cell_type": "code",
   "execution_count": 57,
   "metadata": {},
   "outputs": [
    {
     "name": "stdout",
     "output_type": "stream",
     "text": [
      "[[1370  210]\n",
      " [ 256  277]]\n"
     ]
    }
   ],
   "source": [
    "cf_matrix = confusion_matrix(y_test,y_previsto)\n",
    "print(cf_matrix)"
   ]
  },
  {
   "cell_type": "code",
   "execution_count": 58,
   "metadata": {},
   "outputs": [
    {
     "data": {
      "image/png": "[encoded data removed]",
      "text/plain": [
       "<Figure size 432x288 with 2 Axes>"
      ]
     },
     "metadata": {
      "needs_background": "light"
     },
     "output_type": "display_data"
    }
   ],
   "source": [
    "group_names = ['True Neg','False Pos','False Neg','True Pos']\n",
    "\n",
    "group_counts = [\"{0:0.0f}\".format(value) for value in\n",
    "                cf_matrix.flatten()]\n",
    "\n",
    "group_percentages = [\"{0:.2%}\".format(value) for value in\n",
    "                     cf_matrix.flatten()/np.sum(cf_matrix)]\n",
    "\n",
    "labels = [f\"{v1}\\n{v2}\\n{v3}\" for v1, v2, v3 in\n",
    "          zip(group_names,group_counts,group_percentages)]\n",
    "\n",
    "labels = np.asarray(labels).reshape(2,2)\n",
    "\n",
    "ax = sns.heatmap(cf_matrix, annot=labels, fmt='', cmap='Blues')\n",
    "\n",
    "ax.set_title('Matriz Confusão - KNN \\n');\n",
    "ax.set_xlabel('\\nValores Preditos')\n",
    "ax.set_ylabel('Valores Reais');\n",
    "\n",
    "## Ticket labels - List must be in alphabetical order\n",
    "ax.xaxis.set_ticklabels(['Falso','Verdadeiro'])\n",
    "ax.yaxis.set_ticklabels(['Falso','Verdadeiro'])\n",
    "\n",
    "## Display the visualization of the Confusion Matrix.\n",
    "plt.show()"
   ]
  },
  {
   "cell_type": "code",
   "execution_count": 59,
   "metadata": {},
   "outputs": [
    {
     "data": {
      "image/png": "[encoded data removed]",
      "text/plain": [
       "<Figure size 432x288 with 1 Axes>"
      ]
     },
     "metadata": {
      "needs_background": "light"
     },
     "output_type": "display_data"
    }
   ],
   "source": [
    "plt.plot(fpr,tpr)\n",
    "plt.ylabel('True positive rate')\n",
    "plt.xlabel('False positive rate')\n",
    "plt.show()"
   ]
  },
  {
   "cell_type": "code",
   "execution_count": 60,
   "metadata": {},
   "outputs": [
    {
     "data": {
      "image/png": "[encoded data removed]",
      "text/plain": [
       "<Figure size 432x288 with 1 Axes>"
      ]
     },
     "metadata": {
      "needs_background": "light"
     },
     "output_type": "display_data"
    }
   ],
   "source": [
    "auc = metrics.roc_auc_score(y_test, y_previsto_proba)\n",
    "plt.plot(fpr,tpr,label=\"AUC=\"+str(auc))\n",
    "plt.ylabel('True Positive Rate')\n",
    "plt.xlabel('False Positive Rate')\n",
    "plt.legend(loc=4, fontsize = 15)\n",
    "plt.show()"
   ]
  },
  {
   "cell_type": "markdown",
   "metadata": {},
   "source": [
    "# Arvore de Decisão"
   ]
  },
  {
   "cell_type": "code",
   "execution_count": 61,
   "metadata": {},
   "outputs": [],
   "source": [
    "from sklearn.tree import DecisionTreeClassifier"
   ]
  },
  {
   "cell_type": "code",
   "execution_count": 62,
   "metadata": {},
   "outputs": [],
   "source": [
    "modelo = DecisionTreeClassifier()"
   ]
  },
  {
   "cell_type": "code",
   "execution_count": 63,
   "metadata": {},
   "outputs": [
    {
     "data": {
      "text/plain": [
       "DecisionTreeClassifier()"
      ]
     },
     "execution_count": 63,
     "metadata": {},
     "output_type": "execute_result"
    }
   ],
   "source": [
    "modelo.fit(X_train, y_train)"
   ]
  },
  {
   "cell_type": "code",
   "execution_count": 64,
   "metadata": {},
   "outputs": [],
   "source": [
    "y_previsto = modelo.predict(X_test)"
   ]
  },
  {
   "cell_type": "code",
   "execution_count": 65,
   "metadata": {},
   "outputs": [
    {
     "name": "stdout",
     "output_type": "stream",
     "text": [
      "              precision    recall  f1-score   support\n",
      "\n",
      "           0       0.82      0.79      0.81      1580\n",
      "           1       0.44      0.48      0.46       533\n",
      "\n",
      "    accuracy                           0.71      2113\n",
      "   macro avg       0.63      0.64      0.63      2113\n",
      "weighted avg       0.72      0.71      0.72      2113\n",
      "\n"
     ]
    }
   ],
   "source": [
    "print(classification_report(y_test, y_previsto))"
   ]
  },
  {
   "cell_type": "code",
   "execution_count": 66,
   "metadata": {},
   "outputs": [],
   "source": [
    "y_previsto_proba = modelo.predict_proba(X_test)[::,1]\n",
    "fpr, tpr, _ = metrics.roc_curve(y_test, y_previsto_proba)"
   ]
  },
  {
   "cell_type": "code",
   "execution_count": 67,
   "metadata": {},
   "outputs": [
    {
     "name": "stdout",
     "output_type": "stream",
     "text": [
      "[[1252  328]\n",
      " [ 277  256]]\n"
     ]
    }
   ],
   "source": [
    "cf_matrix = confusion_matrix(y_test,y_previsto)\n",
    "print(cf_matrix)"
   ]
  },
  {
   "cell_type": "code",
   "execution_count": 68,
   "metadata": {},
   "outputs": [
    {
     "data": {
      "image/png": "[encoded data removed]",
      "text/plain": [
       "<Figure size 432x288 with 2 Axes>"
      ]
     },
     "metadata": {
      "needs_background": "light"
     },
     "output_type": "display_data"
    }
   ],
   "source": [
    "group_names = ['True Neg','False Pos','False Neg','True Pos']\n",
    "\n",
    "group_counts = [\"{0:0.0f}\".format(value) for value in\n",
    "                cf_matrix.flatten()]\n",
    "\n",
    "group_percentages = [\"{0:.2%}\".format(value) for value in\n",
    "                     cf_matrix.flatten()/np.sum(cf_matrix)]\n",
    "\n",
    "labels = [f\"{v1}\\n{v2}\\n{v3}\" for v1, v2, v3 in\n",
    "          zip(group_names,group_counts,group_percentages)]\n",
    "\n",
    "labels = np.asarray(labels).reshape(2,2)\n",
    "\n",
    "ax = sns.heatmap(cf_matrix, annot=labels, fmt='', cmap='Blues')\n",
    "\n",
    "ax.set_title('Matriz Confusão - Árvore Decisão \\n');\n",
    "ax.set_xlabel('\\nValores Preditos')\n",
    "ax.set_ylabel('Valores Reais');\n",
    "\n",
    "## Ticket labels - List must be in alphabetical order\n",
    "ax.xaxis.set_ticklabels(['Falso','Verdadeiro'])\n",
    "ax.yaxis.set_ticklabels(['Falso','Verdadeiro'])\n",
    "\n",
    "## Display the visualization of the Confusion Matrix.\n",
    "plt.show()"
   ]
  },
  {
   "cell_type": "code",
   "execution_count": 69,
   "metadata": {},
   "outputs": [
    {
     "data": {
      "image/png": "[encoded data removed]",
      "text/plain": [
       "<Figure size 432x288 with 1 Axes>"
      ]
     },
     "metadata": {
      "needs_background": "light"
     },
     "output_type": "display_data"
    }
   ],
   "source": [
    "plt.plot(fpr,tpr)\n",
    "plt.ylabel('True positive rate')\n",
    "plt.xlabel('False positive rate')\n",
    "plt.show()"
   ]
  },
  {
   "cell_type": "code",
   "execution_count": 70,
   "metadata": {},
   "outputs": [
    {
     "data": {
      "image/png": "[encoded data removed]",
      "text/plain": [
       "<Figure size 432x288 with 1 Axes>"
      ]
     },
     "metadata": {
      "needs_background": "light"
     },
     "output_type": "display_data"
    }
   ],
   "source": [
    "auc = metrics.roc_auc_score(y_test, y_previsto_proba)\n",
    "plt.plot(fpr,tpr,label=\"AUC=\"+str(auc))\n",
    "plt.ylabel('True Positive Rate')\n",
    "plt.xlabel('False Positive Rate')\n",
    "plt.legend(loc=4, fontsize = 15)\n",
    "plt.show()"
   ]
  },
  {
   "cell_type": "markdown",
   "metadata": {},
   "source": [
    "## O melhor modelo foi o de Regressão Logística!\n",
    "## Vou utilizar esse modelo e modificar um pouco os dados de entrada"
   ]
  },
  {
   "cell_type": "markdown",
   "metadata": {},
   "source": [
    "## ------------------------------------------------------------------------------\n",
    "## Testes adicionais no modelo d Regressão Logística\n",
    "### Usando penalidade (L1) e newton-cg (solver)"
   ]
  },
  {
   "cell_type": "code",
   "execution_count": 71,
   "metadata": {},
   "outputs": [],
   "source": [
    "modelo = LogisticRegression(solver='newton-cg', penalty='l2') "
   ]
  },
  {
   "cell_type": "code",
   "execution_count": 72,
   "metadata": {},
   "outputs": [
    {
     "data": {
      "text/plain": [
       "LogisticRegression(solver='newton-cg')"
      ]
     },
     "execution_count": 72,
     "metadata": {},
     "output_type": "execute_result"
    }
   ],
   "source": [
    "modelo.fit(X_train, y_train)"
   ]
  },
  {
   "cell_type": "code",
   "execution_count": 73,
   "metadata": {},
   "outputs": [],
   "source": [
    "y_previsto = modelo.predict(X_test)"
   ]
  },
  {
   "cell_type": "code",
   "execution_count": 74,
   "metadata": {},
   "outputs": [
    {
     "name": "stdout",
     "output_type": "stream",
     "text": [
      "              precision    recall  f1-score   support\n",
      "\n",
      "           0       0.85      0.91      0.88      1580\n",
      "           1       0.65      0.52      0.58       533\n",
      "\n",
      "    accuracy                           0.81      2113\n",
      "   macro avg       0.75      0.71      0.73      2113\n",
      "weighted avg       0.80      0.81      0.80      2113\n",
      "\n"
     ]
    }
   ],
   "source": [
    "print(classification_report(y_test, y_previsto))"
   ]
  },
  {
   "cell_type": "markdown",
   "metadata": {},
   "source": [
    "### Sem mudanças, vou descartar a utlização do solver"
   ]
  },
  {
   "cell_type": "code",
   "execution_count": 75,
   "metadata": {},
   "outputs": [],
   "source": [
    "modelo = LogisticRegression() "
   ]
  },
  {
   "cell_type": "code",
   "execution_count": 76,
   "metadata": {},
   "outputs": [
    {
     "data": {
      "text/plain": [
       "LogisticRegression()"
      ]
     },
     "execution_count": 76,
     "metadata": {},
     "output_type": "execute_result"
    }
   ],
   "source": [
    "modelo.fit(X_train, y_train)"
   ]
  },
  {
   "cell_type": "code",
   "execution_count": 77,
   "metadata": {},
   "outputs": [],
   "source": [
    "y_previsto = modelo.predict(X_test)"
   ]
  },
  {
   "cell_type": "code",
   "execution_count": 78,
   "metadata": {},
   "outputs": [],
   "source": [
    "coeficientes_modelo = modelo.fit(X_train, y_train).coef_.round(3)"
   ]
  },
  {
   "cell_type": "code",
   "execution_count": 79,
   "metadata": {},
   "outputs": [
    {
     "data": {
      "text/plain": [
       "array([-1.789])"
      ]
     },
     "execution_count": 79,
     "metadata": {},
     "output_type": "execute_result"
    }
   ],
   "source": [
    "modelo.fit(X_train, y_train).intercept_.round(3)"
   ]
  },
  {
   "cell_type": "code",
   "execution_count": 80,
   "metadata": {},
   "outputs": [
    {
     "data": {
      "text/html": [
       "<div>\n",
       "<style scoped>\n",
       "    .dataframe tbody tr th:only-of-type {\n",
       "        vertical-align: middle;\n",
       "    }\n",
       "\n",
       "    .dataframe tbody tr th {\n",
       "        vertical-align: top;\n",
       "    }\n",
       "\n",
       "    .dataframe thead th {\n",
       "        text-align: right;\n",
       "    }\n",
       "</style>\n",
       "<table border=\"1\" class=\"dataframe\">\n",
       "  <thead>\n",
       "    <tr style=\"text-align: right;\">\n",
       "      <th></th>\n",
       "      <th>idd</th>\n",
       "      <th>func</th>\n",
       "      <th>mes_perm</th>\n",
       "      <th>conci_banc</th>\n",
       "      <th>boleto</th>\n",
       "      <th>pagamento</th>\n",
       "      <th>receita_mensal</th>\n",
       "    </tr>\n",
       "  </thead>\n",
       "  <tbody>\n",
       "    <tr>\n",
       "      <th>163</th>\n",
       "      <td>5</td>\n",
       "      <td>0</td>\n",
       "      <td>53</td>\n",
       "      <td>1</td>\n",
       "      <td>1</td>\n",
       "      <td>3</td>\n",
       "      <td>73.90</td>\n",
       "    </tr>\n",
       "    <tr>\n",
       "      <th>6946</th>\n",
       "      <td>2</td>\n",
       "      <td>1</td>\n",
       "      <td>48</td>\n",
       "      <td>1</td>\n",
       "      <td>0</td>\n",
       "      <td>2</td>\n",
       "      <td>45.55</td>\n",
       "    </tr>\n",
       "    <tr>\n",
       "      <th>432</th>\n",
       "      <td>1</td>\n",
       "      <td>0</td>\n",
       "      <td>2</td>\n",
       "      <td>1</td>\n",
       "      <td>0</td>\n",
       "      <td>1</td>\n",
       "      <td>53.45</td>\n",
       "    </tr>\n",
       "    <tr>\n",
       "      <th>5723</th>\n",
       "      <td>6</td>\n",
       "      <td>0</td>\n",
       "      <td>58</td>\n",
       "      <td>2</td>\n",
       "      <td>0</td>\n",
       "      <td>3</td>\n",
       "      <td>80.65</td>\n",
       "    </tr>\n",
       "    <tr>\n",
       "      <th>2271</th>\n",
       "      <td>7</td>\n",
       "      <td>0</td>\n",
       "      <td>40</td>\n",
       "      <td>2</td>\n",
       "      <td>1</td>\n",
       "      <td>1</td>\n",
       "      <td>91.55</td>\n",
       "    </tr>\n",
       "    <tr>\n",
       "      <th>...</th>\n",
       "      <td>...</td>\n",
       "      <td>...</td>\n",
       "      <td>...</td>\n",
       "      <td>...</td>\n",
       "      <td>...</td>\n",
       "      <td>...</td>\n",
       "      <td>...</td>\n",
       "    </tr>\n",
       "    <tr>\n",
       "      <th>3915</th>\n",
       "      <td>1</td>\n",
       "      <td>0</td>\n",
       "      <td>59</td>\n",
       "      <td>2</td>\n",
       "      <td>1</td>\n",
       "      <td>2</td>\n",
       "      <td>81.25</td>\n",
       "    </tr>\n",
       "    <tr>\n",
       "      <th>1428</th>\n",
       "      <td>3</td>\n",
       "      <td>0</td>\n",
       "      <td>1</td>\n",
       "      <td>1</td>\n",
       "      <td>1</td>\n",
       "      <td>1</td>\n",
       "      <td>50.45</td>\n",
       "    </tr>\n",
       "    <tr>\n",
       "      <th>6537</th>\n",
       "      <td>1</td>\n",
       "      <td>0</td>\n",
       "      <td>70</td>\n",
       "      <td>2</td>\n",
       "      <td>0</td>\n",
       "      <td>2</td>\n",
       "      <td>115.65</td>\n",
       "    </tr>\n",
       "    <tr>\n",
       "      <th>4367</th>\n",
       "      <td>9</td>\n",
       "      <td>0</td>\n",
       "      <td>36</td>\n",
       "      <td>1</td>\n",
       "      <td>0</td>\n",
       "      <td>2</td>\n",
       "      <td>54.10</td>\n",
       "    </tr>\n",
       "    <tr>\n",
       "      <th>2522</th>\n",
       "      <td>4</td>\n",
       "      <td>1</td>\n",
       "      <td>53</td>\n",
       "      <td>1</td>\n",
       "      <td>1</td>\n",
       "      <td>0</td>\n",
       "      <td>78.75</td>\n",
       "    </tr>\n",
       "  </tbody>\n",
       "</table>\n",
       "<p>4930 rows × 7 columns</p>\n",
       "</div>"
      ],
      "text/plain": [
       "      idd  func  mes_perm  conci_banc  boleto  pagamento  receita_mensal\n",
       "163     5     0        53           1       1          3           73.90\n",
       "6946    2     1        48           1       0          2           45.55\n",
       "432     1     0         2           1       0          1           53.45\n",
       "5723    6     0        58           2       0          3           80.65\n",
       "2271    7     0        40           2       1          1           91.55\n",
       "...   ...   ...       ...         ...     ...        ...             ...\n",
       "3915    1     0        59           2       1          2           81.25\n",
       "1428    3     0         1           1       1          1           50.45\n",
       "6537    1     0        70           2       0          2          115.65\n",
       "4367    9     0        36           1       0          2           54.10\n",
       "2522    4     1        53           1       1          0           78.75\n",
       "\n",
       "[4930 rows x 7 columns]"
      ]
     },
     "execution_count": 80,
     "metadata": {},
     "output_type": "execute_result"
    }
   ],
   "source": [
    "X_train"
   ]
  },
  {
   "cell_type": "markdown",
   "metadata": {},
   "source": [
    "# Obtendo previsoes pontuais"
   ]
  },
  {
   "cell_type": "code",
   "execution_count": 81,
   "metadata": {},
   "outputs": [
    {
     "data": {
      "text/html": [
       "<div>\n",
       "<style scoped>\n",
       "    .dataframe tbody tr th:only-of-type {\n",
       "        vertical-align: middle;\n",
       "    }\n",
       "\n",
       "    .dataframe tbody tr th {\n",
       "        vertical-align: top;\n",
       "    }\n",
       "\n",
       "    .dataframe thead th {\n",
       "        text-align: right;\n",
       "    }\n",
       "</style>\n",
       "<table border=\"1\" class=\"dataframe\">\n",
       "  <thead>\n",
       "    <tr style=\"text-align: right;\">\n",
       "      <th></th>\n",
       "      <th>idd</th>\n",
       "      <th>func</th>\n",
       "      <th>mes_perm</th>\n",
       "      <th>conci_banc</th>\n",
       "      <th>boleto</th>\n",
       "      <th>pagamento</th>\n",
       "      <th>receita_mensal</th>\n",
       "    </tr>\n",
       "  </thead>\n",
       "  <tbody>\n",
       "    <tr>\n",
       "      <th>2263</th>\n",
       "      <td>1</td>\n",
       "      <td>0</td>\n",
       "      <td>6</td>\n",
       "      <td>2</td>\n",
       "      <td>1</td>\n",
       "      <td>3</td>\n",
       "      <td>98.15</td>\n",
       "    </tr>\n",
       "  </tbody>\n",
       "</table>\n",
       "</div>"
      ],
      "text/plain": [
       "      idd  func  mes_perm  conci_banc  boleto  pagamento  receita_mensal\n",
       "2263    1     0         6           2       1          3           98.15"
      ]
     },
     "execution_count": 81,
     "metadata": {},
     "output_type": "execute_result"
    }
   ],
   "source": [
    "entrada = X_test[24:25]\n",
    "entrada"
   ]
  },
  {
   "cell_type": "code",
   "execution_count": 82,
   "metadata": {},
   "outputs": [
    {
     "data": {
      "text/plain": [
       "1"
      ]
     },
     "execution_count": 82,
     "metadata": {},
     "output_type": "execute_result"
    }
   ],
   "source": [
    "modelo.predict(entrada)[0]"
   ]
  },
  {
   "cell_type": "code",
   "execution_count": 83,
   "metadata": {},
   "outputs": [
    {
     "data": {
      "text/plain": [
       "1"
      ]
     },
     "execution_count": 83,
     "metadata": {},
     "output_type": "execute_result"
    }
   ],
   "source": [
    "entrada = X_test[5:6]\n",
    "modelo.predict(entrada)[0]"
   ]
  },
  {
   "cell_type": "markdown",
   "metadata": {},
   "source": [
    "# Salvando Modelo Estimado"
   ]
  },
  {
   "cell_type": "code",
   "execution_count": 84,
   "metadata": {},
   "outputs": [],
   "source": [
    "import pickle"
   ]
  },
  {
   "cell_type": "code",
   "execution_count": 85,
   "metadata": {},
   "outputs": [],
   "source": [
    "output = open('modelo_churn', 'wb')\n",
    "pickle.dump(modelo, output)\n",
    "output.close()"
   ]
  },
  {
   "cell_type": "markdown",
   "metadata": {},
   "source": [
    "## Prevendo a quantidade das variaveis explicativas"
   ]
  },
  {
   "cell_type": "code",
   "execution_count": 86,
   "metadata": {},
   "outputs": [],
   "source": [
    "def entrada():\n",
    "    entrada = []\n",
    "    ano = 2022\n",
    "    \n",
    "    idd = ano - int(input('Digite o ano de fundação da empresa: '))\n",
    "    entrada.append(idd)\n",
    "    \n",
    "    func = int(input('Funcionários \\n 0 - até 5 \\n 1 - 6 ou mais '))\n",
    "    entrada.append(func)\n",
    "\n",
    "    mes = int(input('Digite a quantidade de meses de permanencia com o sistema '))\n",
    "    entrada.append(mes)\n",
    "\n",
    "    conc_banc = int(input('Faz conciliação bancária? \\n 0 - Não faz \\n 1 - Automática \\n 2 - Manual '))\n",
    "    entrada.append(conc_banc)\n",
    "    \n",
    "    boleto = int(input('Emite boletos? \\n 0 - Não \\n 1 - Sim '))\n",
    "    entrada.append(boleto)\n",
    "    \n",
    "    pagamento = int(input('Qual é o tipo de pagamento? \\n 0 - Boleto - mês a mês \\n 1 - Boleto - pagamento único\\n 2 - Cartão de crédito - mês a mês\\n 3 - Cartão de crédito - pagamento único '))\n",
    "    entrada.append(pagamento)\n",
    "    \n",
    "    receita_mensal = float(input('Qual é a receita mensal da empresa? '))\n",
    "    entrada.append(receita_mensal)\n",
    "    \n",
    "    return entrada"
   ]
  },
  {
   "cell_type": "code",
   "execution_count": 87,
   "metadata": {},
   "outputs": [
    {
     "name": "stdout",
     "output_type": "stream",
     "text": [
      "Digite o ano de fundação da empresa: 2018\n",
      "Funcionários \n",
      " 0 - até 5 \n",
      " 1 - 6 ou mais 0\n",
      "Digite a quantidade de meses de permanencia com o sistema 4\n",
      "Faz conciliação bancária? \n",
      " 0 - Não faz \n",
      " 1 - Automática \n",
      " 2 - Manual 0\n",
      "Emite boletos? \n",
      " 0 - Não \n",
      " 1 - Sim 0\n",
      "Qual é o tipo de pagamento? \n",
      " 0 - Boleto - mês a mês \n",
      " 1 - Boleto - pagamento único\n",
      " 2 - Cartão de crédito - mês a mês\n",
      " 3 - Cartão de crédito - pagamento único 0\n",
      "Qual é a receita mensal da empresa? 200\n"
     ]
    }
   ],
   "source": [
    "entrada = entrada()\n",
    "entrada2 = []\n",
    "entrada2.append(entrada)"
   ]
  },
  {
   "cell_type": "code",
   "execution_count": 88,
   "metadata": {},
   "outputs": [
    {
     "data": {
      "text/html": [
       "<div>\n",
       "<style scoped>\n",
       "    .dataframe tbody tr th:only-of-type {\n",
       "        vertical-align: middle;\n",
       "    }\n",
       "\n",
       "    .dataframe tbody tr th {\n",
       "        vertical-align: top;\n",
       "    }\n",
       "\n",
       "    .dataframe thead th {\n",
       "        text-align: right;\n",
       "    }\n",
       "</style>\n",
       "<table border=\"1\" class=\"dataframe\">\n",
       "  <thead>\n",
       "    <tr style=\"text-align: right;\">\n",
       "      <th></th>\n",
       "      <th>media</th>\n",
       "      <th>desvio</th>\n",
       "      <th>media+desvio</th>\n",
       "      <th>media-desvio</th>\n",
       "    </tr>\n",
       "  </thead>\n",
       "  <tbody>\n",
       "    <tr>\n",
       "      <th>idd</th>\n",
       "      <td>5.263524</td>\n",
       "      <td>4.582311</td>\n",
       "      <td>9.845835</td>\n",
       "      <td>0.681213</td>\n",
       "    </tr>\n",
       "    <tr>\n",
       "      <th>func</th>\n",
       "      <td>0.299588</td>\n",
       "      <td>0.458110</td>\n",
       "      <td>0.757698</td>\n",
       "      <td>-0.158522</td>\n",
       "    </tr>\n",
       "    <tr>\n",
       "      <th>mes_perm</th>\n",
       "      <td>32.371149</td>\n",
       "      <td>24.559481</td>\n",
       "      <td>56.930630</td>\n",
       "      <td>7.811668</td>\n",
       "    </tr>\n",
       "    <tr>\n",
       "      <th>conci_banc</th>\n",
       "      <td>1.222916</td>\n",
       "      <td>0.778877</td>\n",
       "      <td>2.001793</td>\n",
       "      <td>0.444040</td>\n",
       "    </tr>\n",
       "    <tr>\n",
       "      <th>boleto</th>\n",
       "      <td>0.592219</td>\n",
       "      <td>0.491457</td>\n",
       "      <td>1.083676</td>\n",
       "      <td>0.100762</td>\n",
       "    </tr>\n",
       "    <tr>\n",
       "      <th>pagamento</th>\n",
       "      <td>1.425671</td>\n",
       "      <td>1.068104</td>\n",
       "      <td>2.493775</td>\n",
       "      <td>0.357567</td>\n",
       "    </tr>\n",
       "    <tr>\n",
       "      <th>receita_mensal</th>\n",
       "      <td>64.761692</td>\n",
       "      <td>30.090047</td>\n",
       "      <td>94.851740</td>\n",
       "      <td>34.671645</td>\n",
       "    </tr>\n",
       "  </tbody>\n",
       "</table>\n",
       "</div>"
      ],
      "text/plain": [
       "                    media     desvio  media+desvio  media-desvio\n",
       "idd              5.263524   4.582311      9.845835      0.681213\n",
       "func             0.299588   0.458110      0.757698     -0.158522\n",
       "mes_perm        32.371149  24.559481     56.930630      7.811668\n",
       "conci_banc       1.222916   0.778877      2.001793      0.444040\n",
       "boleto           0.592219   0.491457      1.083676      0.100762\n",
       "pagamento        1.425671   1.068104      2.493775      0.357567\n",
       "receita_mensal  64.761692  30.090047     94.851740     34.671645"
      ]
     },
     "execution_count": 88,
     "metadata": {},
     "output_type": "execute_result"
    }
   ],
   "source": [
    "medias_variaveis_1 = dados.mean()[1:]\n",
    "variaveis_com_churn = pd.DataFrame(dados.mean()[1:])\n",
    "variaveis_com_churn.rename(columns = {0: 'media'}, inplace = True)\n",
    "variaveis_com_churn['desvio'] =dados.std()[1:]\n",
    "variaveis_com_churn['media+desvio']=dados.mean()[1:] + dados.std()[1:]\n",
    "variaveis_com_churn['media-desvio']=dados.mean()[1:] - dados.std()[1:]\n",
    "variaveis_com_churn"
   ]
  },
  {
   "cell_type": "code",
   "execution_count": 89,
   "metadata": {},
   "outputs": [
    {
     "data": {
      "text/plain": [
       "[9.845834795526315,\n",
       " 0.7576984111561887,\n",
       " 56.93062968133668,\n",
       " 2.001793038661662,\n",
       " 1.083676148811582,\n",
       " 2.4937748843965113,\n",
       " 94.85173955827767]"
      ]
     },
     "execution_count": 89,
     "metadata": {},
     "output_type": "execute_result"
    }
   ],
   "source": [
    "media_mais_desvio = []\n",
    "\n",
    "for i in variaveis_com_churn['media+desvio']:\n",
    "    media_mais_desvio.append(i)\n",
    "media_mais_desvio"
   ]
  },
  {
   "cell_type": "code",
   "execution_count": 90,
   "metadata": {},
   "outputs": [
    {
     "data": {
      "text/plain": [
       "[0.6812133373715961,\n",
       " -0.15852192386384178,\n",
       " 7.811667635147767,\n",
       " 0.4440397030677147,\n",
       " 0.10076230071276843,\n",
       " 0.35756687337716464,\n",
       " 34.671645362920685]"
      ]
     },
     "execution_count": 90,
     "metadata": {},
     "output_type": "execute_result"
    }
   ],
   "source": [
    "media_menos_desvio = []\n",
    "\n",
    "for i in variaveis_com_churn['media-desvio']:\n",
    "    media_menos_desvio.append(i)\n",
    "media_menos_desvio"
   ]
  },
  {
   "cell_type": "code",
   "execution_count": 91,
   "metadata": {},
   "outputs": [
    {
     "data": {
      "text/plain": [
       "[0.029, -0.28, -0.044, 1.162, 0.483, -0.037, 0.001]"
      ]
     },
     "execution_count": 91,
     "metadata": {},
     "output_type": "execute_result"
    }
   ],
   "source": [
    "coeficientes_modelo = coeficientes_modelo[0].tolist()\n",
    "coeficientes_modelo"
   ]
  },
  {
   "cell_type": "code",
   "execution_count": 92,
   "metadata": {},
   "outputs": [
    {
     "data": {
      "text/plain": [
       "[4, 0, 4, 0, 0, 0, 200.0]"
      ]
     },
     "execution_count": 92,
     "metadata": {},
     "output_type": "execute_result"
    }
   ],
   "source": [
    "entrada"
   ]
  },
  {
   "cell_type": "code",
   "execution_count": 93,
   "metadata": {},
   "outputs": [
    {
     "name": "stdout",
     "output_type": "stream",
     "text": [
      "0\n",
      "Esse cliente não tem risco de churn\n"
     ]
    }
   ],
   "source": [
    "resultado = modelo.predict(entrada2)[0]\n",
    "print(resultado)\n",
    "\n",
    "if resultado == 0:\n",
    "    print(\"Esse cliente não tem risco de churn\")\n",
    "else:\n",
    "    j = 0\n",
    "    valores = []\n",
    "    erro_maior = {}\n",
    "    erro_menor = {}\n",
    "    for i in entrada:\n",
    "        #valores.append(i*entrada[j])\n",
    "        #valor = i*entrada[j]\n",
    "        if i > media_mais_desvio[j]:\n",
    "            erro_maior[j] = i\n",
    "        if i < media_menos_desvio[j]:\n",
    "            erro_menor[j] = i\n",
    "        j+=1\n",
    "    print(f'Os termos maiores que a media com o desvio padrão são: \\n {erro_maior}\\n' )\n",
    "    print(f'Os termos menores que a media com o desvio padrão são: \\n {erro_menor}')\n"
   ]
  },
  {
   "cell_type": "raw",
   "metadata": {},
   "source": [
    "-> Lembrando que os coeficientes são:\n",
    "0 - Idade\n",
    "1 - quantidade funcionários\n",
    "2 - Meses de permenencia\n",
    "3 - Faz conciliação Bancaria\n",
    "4 - Boleto\n",
    "5 - Forma de pagamento\n",
    "6 - Receita Mensal"
   ]
  },
  {
   "cell_type": "raw",
   "metadata": {},
   "source": [
    "Pela analise acima, nota-se que as variaveis fora dos limites da média e do desvio padrão são:\n",
    "-> Forma de pagamento\n",
    "-> Receita Mensal\n",
    "\n",
    "Quanto maior a receita da empresa, maior a chances de churn, portanto talvez com o aumento do faturamento fica inviavel a utilização do programa, podendo ser sugerido uma versão mais completa. "
   ]
  },
  {
   "cell_type": "markdown",
   "metadata": {},
   "source": [
    "## Conclusão: \n",
    "### Baseados nesse notebook, fiz o modelo de regressão logística, determinei quais variáveis mais afetam a decisão de churn nas empresas e gerei um arquivo executavel onde entra-se com os parametros e se devolve o resultado de churn.\n",
    "\n",
    "### Para os processos de decisão, acrescentei um termo que notifica quais são as variáveis que mais influenciam a decisão de churn, para cada situação, sendo que a equipe de negócios deverá tomar as devidas previdencias."
   ]
  }
 ],
 "metadata": {
  "colab": {
   "name": "desafio.ipynb",
   "provenance": []
  },
  "kernelspec": {
   "display_name": "Python 3 (ipykernel)",
   "language": "python",
   "name": "python3"
  },
  "language_info": {
   "codemirror_mode": {
    "name": "ipython",
    "version": 3
   },
   "file_extension": ".py",
   "mimetype": "text/x-python",
   "name": "python",
   "nbconvert_exporter": "python",
   "pygments_lexer": "ipython3",
   "version": "3.8.10"
  }
 },
 "nbformat": 4,
 "nbformat_minor": 1
}
