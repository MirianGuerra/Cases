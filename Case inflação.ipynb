{
 "cells": [
  {
   "cell_type": "markdown",
   "id": "f7c70969",
   "metadata": {},
   "source": [
    "# Relatório Inflação entre 2000 e 2021"
   ]
  },
  {
   "cell_type": "code",
   "execution_count": 1,
   "id": "cc2e0f96",
   "metadata": {},
   "outputs": [],
   "source": [
    "import pandas as pd\n",
    "%matplotlib inline\n",
    "import matplotlib.pyplot as plt\n",
    "plt.rc('figure', figsize = (14,6))\n",
    "import numpy as np"
   ]
  },
  {
   "cell_type": "code",
   "execution_count": 2,
   "id": "7628552c",
   "metadata": {},
   "outputs": [],
   "source": [
    "dados = pd.read_csv('mes_brasil.csv', sep = ',')"
   ]
  },
  {
   "cell_type": "code",
   "execution_count": 3,
   "id": "165a2b1d",
   "metadata": {},
   "outputs": [
    {
     "data": {
      "text/html": [
       "<div>\n",
       "<style scoped>\n",
       "    .dataframe tbody tr th:only-of-type {\n",
       "        vertical-align: middle;\n",
       "    }\n",
       "\n",
       "    .dataframe tbody tr th {\n",
       "        vertical-align: top;\n",
       "    }\n",
       "\n",
       "    .dataframe thead th {\n",
       "        text-align: right;\n",
       "    }\n",
       "</style>\n",
       "<table border=\"1\" class=\"dataframe\">\n",
       "  <thead>\n",
       "    <tr style=\"text-align: right;\">\n",
       "      <th></th>\n",
       "      <th>ano</th>\n",
       "      <th>mes</th>\n",
       "      <th>indice</th>\n",
       "      <th>variacao_mensal</th>\n",
       "      <th>variacao_trimestral</th>\n",
       "      <th>variacao_semestral</th>\n",
       "      <th>variacao_anual</th>\n",
       "      <th>variacao_doze_meses</th>\n",
       "    </tr>\n",
       "  </thead>\n",
       "  <tbody>\n",
       "    <tr>\n",
       "      <th>0</th>\n",
       "      <td>2000</td>\n",
       "      <td>5</td>\n",
       "      <td>1584.32</td>\n",
       "      <td>0.09</td>\n",
       "      <td>0.65</td>\n",
       "      <td>2.57</td>\n",
       "      <td>1.65</td>\n",
       "      <td>6.57</td>\n",
       "    </tr>\n",
       "    <tr>\n",
       "      <th>1</th>\n",
       "      <td>2000</td>\n",
       "      <td>6</td>\n",
       "      <td>1585.59</td>\n",
       "      <td>0.08</td>\n",
       "      <td>0.64</td>\n",
       "      <td>1.73</td>\n",
       "      <td>1.73</td>\n",
       "      <td>6.68</td>\n",
       "    </tr>\n",
       "    <tr>\n",
       "      <th>2</th>\n",
       "      <td>2000</td>\n",
       "      <td>7</td>\n",
       "      <td>1597.96</td>\n",
       "      <td>0.78</td>\n",
       "      <td>0.95</td>\n",
       "      <td>1.86</td>\n",
       "      <td>2.52</td>\n",
       "      <td>6.67</td>\n",
       "    </tr>\n",
       "    <tr>\n",
       "      <th>3</th>\n",
       "      <td>2000</td>\n",
       "      <td>8</td>\n",
       "      <td>1629.76</td>\n",
       "      <td>1.99</td>\n",
       "      <td>2.87</td>\n",
       "      <td>3.54</td>\n",
       "      <td>4.56</td>\n",
       "      <td>7.92</td>\n",
       "    </tr>\n",
       "    <tr>\n",
       "      <th>4</th>\n",
       "      <td>2000</td>\n",
       "      <td>9</td>\n",
       "      <td>1637.09</td>\n",
       "      <td>0.45</td>\n",
       "      <td>3.25</td>\n",
       "      <td>3.91</td>\n",
       "      <td>5.03</td>\n",
       "      <td>7.90</td>\n",
       "    </tr>\n",
       "    <tr>\n",
       "      <th>5</th>\n",
       "      <td>2000</td>\n",
       "      <td>10</td>\n",
       "      <td>1640.04</td>\n",
       "      <td>0.18</td>\n",
       "      <td>2.63</td>\n",
       "      <td>3.61</td>\n",
       "      <td>5.22</td>\n",
       "      <td>7.23</td>\n",
       "    </tr>\n",
       "    <tr>\n",
       "      <th>6</th>\n",
       "      <td>2000</td>\n",
       "      <td>11</td>\n",
       "      <td>1642.83</td>\n",
       "      <td>0.17</td>\n",
       "      <td>0.80</td>\n",
       "      <td>3.69</td>\n",
       "      <td>5.40</td>\n",
       "      <td>6.36</td>\n",
       "    </tr>\n",
       "    <tr>\n",
       "      <th>7</th>\n",
       "      <td>2000</td>\n",
       "      <td>12</td>\n",
       "      <td>1652.69</td>\n",
       "      <td>0.60</td>\n",
       "      <td>0.95</td>\n",
       "      <td>4.23</td>\n",
       "      <td>6.04</td>\n",
       "      <td>6.04</td>\n",
       "    </tr>\n",
       "    <tr>\n",
       "      <th>8</th>\n",
       "      <td>2001</td>\n",
       "      <td>1</td>\n",
       "      <td>1663.10</td>\n",
       "      <td>0.63</td>\n",
       "      <td>1.41</td>\n",
       "      <td>4.08</td>\n",
       "      <td>0.63</td>\n",
       "      <td>6.01</td>\n",
       "    </tr>\n",
       "    <tr>\n",
       "      <th>9</th>\n",
       "      <td>2001</td>\n",
       "      <td>2</td>\n",
       "      <td>1671.42</td>\n",
       "      <td>0.50</td>\n",
       "      <td>1.74</td>\n",
       "      <td>2.56</td>\n",
       "      <td>1.13</td>\n",
       "      <td>6.18</td>\n",
       "    </tr>\n",
       "  </tbody>\n",
       "</table>\n",
       "</div>"
      ],
      "text/plain": [
       "    ano  mes   indice  variacao_mensal  variacao_trimestral  \\\n",
       "0  2000    5  1584.32             0.09                 0.65   \n",
       "1  2000    6  1585.59             0.08                 0.64   \n",
       "2  2000    7  1597.96             0.78                 0.95   \n",
       "3  2000    8  1629.76             1.99                 2.87   \n",
       "4  2000    9  1637.09             0.45                 3.25   \n",
       "5  2000   10  1640.04             0.18                 2.63   \n",
       "6  2000   11  1642.83             0.17                 0.80   \n",
       "7  2000   12  1652.69             0.60                 0.95   \n",
       "8  2001    1  1663.10             0.63                 1.41   \n",
       "9  2001    2  1671.42             0.50                 1.74   \n",
       "\n",
       "   variacao_semestral  variacao_anual  variacao_doze_meses  \n",
       "0                2.57            1.65                 6.57  \n",
       "1                1.73            1.73                 6.68  \n",
       "2                1.86            2.52                 6.67  \n",
       "3                3.54            4.56                 7.92  \n",
       "4                3.91            5.03                 7.90  \n",
       "5                3.61            5.22                 7.23  \n",
       "6                3.69            5.40                 6.36  \n",
       "7                4.23            6.04                 6.04  \n",
       "8                4.08            0.63                 6.01  \n",
       "9                2.56            1.13                 6.18  "
      ]
     },
     "execution_count": 3,
     "metadata": {},
     "output_type": "execute_result"
    }
   ],
   "source": [
    "dados.head(10)"
   ]
  },
  {
   "cell_type": "code",
   "execution_count": 4,
   "id": "cb3e53a6",
   "metadata": {},
   "outputs": [],
   "source": [
    "anos = list(range(2000, 2022))"
   ]
  },
  {
   "cell_type": "code",
   "execution_count": 5,
   "id": "beb6dff2",
   "metadata": {},
   "outputs": [],
   "source": [
    "nomes = []\n",
    "for i in anos:\n",
    "    nome = \"ano_\" + str(i)\n",
    "    nomes.append(nome)"
   ]
  },
  {
   "cell_type": "code",
   "execution_count": 6,
   "id": "49ee2a23",
   "metadata": {},
   "outputs": [],
   "source": [
    "dic_anos = {}\n",
    "for i in anos:\n",
    "    selecao = dados['ano'] == i\n",
    "    dic_anos[i] = dados[selecao]"
   ]
  },
  {
   "cell_type": "code",
   "execution_count": 7,
   "id": "6c105236",
   "metadata": {},
   "outputs": [
    {
     "name": "stderr",
     "output_type": "stream",
     "text": [
      "/home/mirian/.local/lib/python3.8/site-packages/pandas/core/frame.py:4308: SettingWithCopyWarning: \n",
      "A value is trying to be set on a copy of a slice from a DataFrame\n",
      "\n",
      "See the caveats in the documentation: https://pandas.pydata.org/pandas-docs/stable/user_guide/indexing.html#returning-a-view-versus-a-copy\n",
      "  return super().drop(\n"
     ]
    }
   ],
   "source": [
    "# Arrumando index dos anos \n",
    "for i in anos:\n",
    "    dic_anos[i].reset_index(inplace = True)\n",
    "    dic_anos[i].drop(['index'], axis =1, inplace = True)"
   ]
  },
  {
   "cell_type": "markdown",
   "id": "39bc66f5",
   "metadata": {},
   "source": [
    "## Pergunta1: Quais anos tiveram a maior e a menor inflação?"
   ]
  },
  {
   "cell_type": "code",
   "execution_count": 8,
   "id": "5de83b38",
   "metadata": {},
   "outputs": [],
   "source": [
    "# como o ano 2000 só tem 7 meses cadastrados vamos fazer um tratamento especial pra esse ano\n",
    "anos_sem_2000 = list(range(2001, 2022))"
   ]
  },
  {
   "cell_type": "code",
   "execution_count": 9,
   "id": "a6591298",
   "metadata": {},
   "outputs": [
    {
     "data": {
      "text/plain": [
       "[113.75,\n",
       " 201.97,\n",
       " 156.82,\n",
       " 149.86,\n",
       " 122.22,\n",
       " 60.91,\n",
       " 98.49,\n",
       " 144.46,\n",
       " 107.38,\n",
       " 155.86,\n",
       " 181.26,\n",
       " 170.84,\n",
       " 175.12,\n",
       " 216.08,\n",
       " 389.94,\n",
       " 249.04,\n",
       " 123.15,\n",
       " 167.45,\n",
       " 181.06,\n",
       " 183.17,\n",
       " 523.38]"
      ]
     },
     "execution_count": 9,
     "metadata": {},
     "output_type": "execute_result"
    }
   ],
   "source": [
    "# Para responder essa pergunta vou subtrair os indices do mes de dezembro e janeiro para cada ano e plotar um gráfico de barras\n",
    "dif_indices_por_ano = []\n",
    "for i in anos_sem_2000:\n",
    "    var = (dic_anos[i]['indice'][11] - dic_anos[i]['indice'][0]).round(2)\n",
    "    dif_indices_por_ano.append(var)\n",
    "dif_indices_por_ano"
   ]
  },
  {
   "cell_type": "code",
   "execution_count": 10,
   "id": "451ff5e3",
   "metadata": {},
   "outputs": [],
   "source": [
    "dif_indice_2000 = []\n",
    "dif_indice_2000.append((dic_anos[2000]['indice'][6] - dic_anos[2000]['indice'][0]).round(2))\n",
    "dif_indice_2000\n",
    "dif_indices_completa_por_ano = dif_indice_2000 + dif_indices_por_ano\n"
   ]
  },
  {
   "cell_type": "code",
   "execution_count": 11,
   "id": "a366713f",
   "metadata": {},
   "outputs": [
    {
     "data": {
      "text/plain": [
       "<matplotlib.collections.PathCollection at 0x7f94d333d1f0>"
      ]
     },
     "execution_count": 11,
     "metadata": {},
     "output_type": "execute_result"
    },
    {
     "data": {
      "image/png": "[encoded data removed]",
      "text/plain": [
       "<Figure size 1008x432 with 1 Axes>"
      ]
     },
     "metadata": {
      "needs_background": "light"
     },
     "output_type": "display_data"
    }
   ],
   "source": [
    "plt.scatter(x = anos, y = dif_indices_completa_por_ano)"
   ]
  },
  {
   "cell_type": "code",
   "execution_count": 12,
   "id": "83ca4a63",
   "metadata": {},
   "outputs": [
    {
     "data": {
      "text/plain": [
       "(1999.0, 2022.0)"
      ]
     },
     "execution_count": 12,
     "metadata": {},
     "output_type": "execute_result"
    },
    {
     "data": {
      "image/png": "[encoded data removed]",
      "text/plain": [
       "<Figure size 1008x432 with 1 Axes>"
      ]
     },
     "metadata": {
      "needs_background": "light"
     },
     "output_type": "display_data"
    }
   ],
   "source": [
    "plt.bar(anos, dif_indices_completa_por_ano, color = 'orange', tick_label = anos)\n",
    "plt.ylabel('Diferença entre índices de Inflação')\n",
    "plt.xlabel('Anos')\n",
    "plt.title('Diferença entre os índices de inflação por ano')\n",
    "plt.xlim(1999, 2022)"
   ]
  },
  {
   "cell_type": "code",
   "execution_count": 13,
   "id": "2b00318a",
   "metadata": {},
   "outputs": [
    {
     "data": {
      "text/html": [
       "<div>\n",
       "<style scoped>\n",
       "    .dataframe tbody tr th:only-of-type {\n",
       "        vertical-align: middle;\n",
       "    }\n",
       "\n",
       "    .dataframe tbody tr th {\n",
       "        vertical-align: top;\n",
       "    }\n",
       "\n",
       "    .dataframe thead th {\n",
       "        text-align: right;\n",
       "    }\n",
       "</style>\n",
       "<table border=\"1\" class=\"dataframe\">\n",
       "  <thead>\n",
       "    <tr style=\"text-align: right;\">\n",
       "      <th></th>\n",
       "      <th>ano</th>\n",
       "      <th>mes</th>\n",
       "      <th>indice</th>\n",
       "      <th>variacao_mensal</th>\n",
       "      <th>variacao_trimestral</th>\n",
       "      <th>variacao_semestral</th>\n",
       "      <th>variacao_anual</th>\n",
       "      <th>variacao_doze_meses</th>\n",
       "    </tr>\n",
       "  </thead>\n",
       "  <tbody>\n",
       "    <tr>\n",
       "      <th>0</th>\n",
       "      <td>2021</td>\n",
       "      <td>1</td>\n",
       "      <td>5469.61</td>\n",
       "      <td>0.78</td>\n",
       "      <td>2.67</td>\n",
       "      <td>4.34</td>\n",
       "      <td>0.78</td>\n",
       "      <td>4.30</td>\n",
       "    </tr>\n",
       "    <tr>\n",
       "      <th>1</th>\n",
       "      <td>2021</td>\n",
       "      <td>2</td>\n",
       "      <td>5495.86</td>\n",
       "      <td>0.48</td>\n",
       "      <td>2.34</td>\n",
       "      <td>4.60</td>\n",
       "      <td>1.26</td>\n",
       "      <td>4.57</td>\n",
       "    </tr>\n",
       "    <tr>\n",
       "      <th>2</th>\n",
       "      <td>2021</td>\n",
       "      <td>3</td>\n",
       "      <td>5546.97</td>\n",
       "      <td>0.93</td>\n",
       "      <td>2.21</td>\n",
       "      <td>5.10</td>\n",
       "      <td>2.21</td>\n",
       "      <td>5.52</td>\n",
       "    </tr>\n",
       "    <tr>\n",
       "      <th>3</th>\n",
       "      <td>2021</td>\n",
       "      <td>4</td>\n",
       "      <td>5580.25</td>\n",
       "      <td>0.60</td>\n",
       "      <td>2.02</td>\n",
       "      <td>4.75</td>\n",
       "      <td>2.82</td>\n",
       "      <td>6.17</td>\n",
       "    </tr>\n",
       "    <tr>\n",
       "      <th>4</th>\n",
       "      <td>2021</td>\n",
       "      <td>5</td>\n",
       "      <td>5604.80</td>\n",
       "      <td>0.44</td>\n",
       "      <td>1.98</td>\n",
       "      <td>4.37</td>\n",
       "      <td>3.27</td>\n",
       "      <td>7.27</td>\n",
       "    </tr>\n",
       "    <tr>\n",
       "      <th>5</th>\n",
       "      <td>2021</td>\n",
       "      <td>6</td>\n",
       "      <td>5651.32</td>\n",
       "      <td>0.83</td>\n",
       "      <td>1.88</td>\n",
       "      <td>4.13</td>\n",
       "      <td>4.13</td>\n",
       "      <td>8.13</td>\n",
       "    </tr>\n",
       "    <tr>\n",
       "      <th>6</th>\n",
       "      <td>2021</td>\n",
       "      <td>7</td>\n",
       "      <td>5692.01</td>\n",
       "      <td>0.72</td>\n",
       "      <td>2.00</td>\n",
       "      <td>4.07</td>\n",
       "      <td>4.88</td>\n",
       "      <td>8.59</td>\n",
       "    </tr>\n",
       "    <tr>\n",
       "      <th>7</th>\n",
       "      <td>2021</td>\n",
       "      <td>8</td>\n",
       "      <td>5742.67</td>\n",
       "      <td>0.89</td>\n",
       "      <td>2.46</td>\n",
       "      <td>4.49</td>\n",
       "      <td>5.81</td>\n",
       "      <td>9.30</td>\n",
       "    </tr>\n",
       "    <tr>\n",
       "      <th>8</th>\n",
       "      <td>2021</td>\n",
       "      <td>9</td>\n",
       "      <td>5808.14</td>\n",
       "      <td>1.14</td>\n",
       "      <td>2.77</td>\n",
       "      <td>4.71</td>\n",
       "      <td>7.02</td>\n",
       "      <td>10.05</td>\n",
       "    </tr>\n",
       "    <tr>\n",
       "      <th>9</th>\n",
       "      <td>2021</td>\n",
       "      <td>10</td>\n",
       "      <td>5877.84</td>\n",
       "      <td>1.20</td>\n",
       "      <td>3.26</td>\n",
       "      <td>5.33</td>\n",
       "      <td>8.30</td>\n",
       "      <td>10.34</td>\n",
       "    </tr>\n",
       "    <tr>\n",
       "      <th>10</th>\n",
       "      <td>2021</td>\n",
       "      <td>11</td>\n",
       "      <td>5946.61</td>\n",
       "      <td>1.17</td>\n",
       "      <td>3.55</td>\n",
       "      <td>6.10</td>\n",
       "      <td>9.57</td>\n",
       "      <td>10.73</td>\n",
       "    </tr>\n",
       "    <tr>\n",
       "      <th>11</th>\n",
       "      <td>2021</td>\n",
       "      <td>12</td>\n",
       "      <td>5992.99</td>\n",
       "      <td>0.78</td>\n",
       "      <td>3.18</td>\n",
       "      <td>6.05</td>\n",
       "      <td>10.42</td>\n",
       "      <td>10.42</td>\n",
       "    </tr>\n",
       "  </tbody>\n",
       "</table>\n",
       "</div>"
      ],
      "text/plain": [
       "     ano  mes   indice  variacao_mensal  variacao_trimestral  \\\n",
       "0   2021    1  5469.61             0.78                 2.67   \n",
       "1   2021    2  5495.86             0.48                 2.34   \n",
       "2   2021    3  5546.97             0.93                 2.21   \n",
       "3   2021    4  5580.25             0.60                 2.02   \n",
       "4   2021    5  5604.80             0.44                 1.98   \n",
       "5   2021    6  5651.32             0.83                 1.88   \n",
       "6   2021    7  5692.01             0.72                 2.00   \n",
       "7   2021    8  5742.67             0.89                 2.46   \n",
       "8   2021    9  5808.14             1.14                 2.77   \n",
       "9   2021   10  5877.84             1.20                 3.26   \n",
       "10  2021   11  5946.61             1.17                 3.55   \n",
       "11  2021   12  5992.99             0.78                 3.18   \n",
       "\n",
       "    variacao_semestral  variacao_anual  variacao_doze_meses  \n",
       "0                 4.34            0.78                 4.30  \n",
       "1                 4.60            1.26                 4.57  \n",
       "2                 5.10            2.21                 5.52  \n",
       "3                 4.75            2.82                 6.17  \n",
       "4                 4.37            3.27                 7.27  \n",
       "5                 4.13            4.13                 8.13  \n",
       "6                 4.07            4.88                 8.59  \n",
       "7                 4.49            5.81                 9.30  \n",
       "8                 4.71            7.02                10.05  \n",
       "9                 5.33            8.30                10.34  \n",
       "10                6.10            9.57                10.73  \n",
       "11                6.05           10.42                10.42  "
      ]
     },
     "execution_count": 13,
     "metadata": {},
     "output_type": "execute_result"
    }
   ],
   "source": [
    "# Fazendo o mesmo gráfico pelo variação anual\n",
    "dic_anos[2021]"
   ]
  },
  {
   "cell_type": "code",
   "execution_count": 14,
   "id": "7677ff4b",
   "metadata": {},
   "outputs": [
    {
     "data": {
      "text/plain": [
       "[6.04,\n",
       " 7.51,\n",
       " 11.99,\n",
       " 9.86,\n",
       " 7.54,\n",
       " 5.88,\n",
       " 2.96,\n",
       " 4.36,\n",
       " 6.1,\n",
       " 4.18,\n",
       " 5.79,\n",
       " 6.56,\n",
       " 5.78,\n",
       " 5.85,\n",
       " 6.46,\n",
       " 10.71,\n",
       " 6.58,\n",
       " 2.94,\n",
       " 3.86,\n",
       " 3.91,\n",
       " 4.23,\n",
       " 10.42]"
      ]
     },
     "execution_count": 14,
     "metadata": {},
     "output_type": "execute_result"
    }
   ],
   "source": [
    "var_anual = [dic_anos[2000]['variacao_anual'][7]]\n",
    "for i in anos_sem_2000:\n",
    "    var_anual.append(dic_anos[i]['variacao_anual'][11])\n",
    "var_anual\n"
   ]
  },
  {
   "cell_type": "code",
   "execution_count": 15,
   "id": "03db57bf",
   "metadata": {},
   "outputs": [
    {
     "data": {
      "text/plain": [
       "(1999.0, 2022.0)"
      ]
     },
     "execution_count": 15,
     "metadata": {},
     "output_type": "execute_result"
    },
    {
     "data": {
      "image/png": "[encoded data removed]",
      "text/plain": [
       "<Figure size 1008x432 with 1 Axes>"
      ]
     },
     "metadata": {
      "needs_background": "light"
     },
     "output_type": "display_data"
    }
   ],
   "source": [
    "plt.bar(anos, var_anual, color = 'green', tick_label = anos)\n",
    "plt.ylabel('% de Variação Anual')\n",
    "plt.xlabel('Anos')\n",
    "plt.title('Variação Anual dos valores de Inflação')\n",
    "plt.xlim(1999, 2022)"
   ]
  },
  {
   "cell_type": "markdown",
   "id": "31cebf44",
   "metadata": {},
   "source": [
    "## Qual o ano com maior e menor índice de inflação?\n",
    "### RESPOSTA: Os anos com maiores índices de inflação foram 2002, 2015 e 2021\n",
    "### Os anos com menores índices de inflação foram: 2016 e 2017"
   ]
  },
  {
   "cell_type": "markdown",
   "id": "a4901796",
   "metadata": {},
   "source": [
    "## Pergunta2: Houveram períodos de deflação?"
   ]
  },
  {
   "cell_type": "code",
   "execution_count": 17,
   "id": "1179ea56",
   "metadata": {},
   "outputs": [
    {
     "data": {
      "text/plain": [
       "[0, 1, 2, 3, 4, 5, 6, 7, 8, 9, 10, 11]"
      ]
     },
     "execution_count": 17,
     "metadata": {},
     "output_type": "execute_result"
    }
   ],
   "source": [
    "meses = list(range(0,12))\n",
    "meses"
   ]
  },
  {
   "cell_type": "code",
   "execution_count": 18,
   "id": "ba30cc73",
   "metadata": {},
   "outputs": [
    {
     "data": {
      "text/plain": [
       "[[2003, 6],\n",
       " [2006, 5],\n",
       " [2006, 6],\n",
       " [2010, 6],\n",
       " [2010, 7],\n",
       " [2017, 6],\n",
       " [2018, 11],\n",
       " [2020, 3],\n",
       " [2020, 4]]"
      ]
     },
     "execution_count": 18,
     "metadata": {},
     "output_type": "execute_result"
    }
   ],
   "source": [
    "deflacao = []\n",
    "for ano in anos_sem_2000:\n",
    "    for mes in meses:\n",
    "        var = dic_anos[ano]['variacao_mensal'][mes]\n",
    "        if var <= 0:\n",
    "            deflacao.append([ano, mes])\n",
    "deflacao"
   ]
  },
  {
   "cell_type": "code",
   "execution_count": 19,
   "id": "71bb096a",
   "metadata": {},
   "outputs": [
    {
     "data": {
      "text/html": [
       "<div>\n",
       "<style scoped>\n",
       "    .dataframe tbody tr th:only-of-type {\n",
       "        vertical-align: middle;\n",
       "    }\n",
       "\n",
       "    .dataframe tbody tr th {\n",
       "        vertical-align: top;\n",
       "    }\n",
       "\n",
       "    .dataframe thead th {\n",
       "        text-align: right;\n",
       "    }\n",
       "</style>\n",
       "<table border=\"1\" class=\"dataframe\">\n",
       "  <thead>\n",
       "    <tr style=\"text-align: right;\">\n",
       "      <th></th>\n",
       "      <th>0</th>\n",
       "      <th>1</th>\n",
       "    </tr>\n",
       "  </thead>\n",
       "  <tbody>\n",
       "    <tr>\n",
       "      <th>0</th>\n",
       "      <td>2003</td>\n",
       "      <td>6</td>\n",
       "    </tr>\n",
       "    <tr>\n",
       "      <th>1</th>\n",
       "      <td>2006</td>\n",
       "      <td>5</td>\n",
       "    </tr>\n",
       "    <tr>\n",
       "      <th>2</th>\n",
       "      <td>2006</td>\n",
       "      <td>6</td>\n",
       "    </tr>\n",
       "    <tr>\n",
       "      <th>3</th>\n",
       "      <td>2010</td>\n",
       "      <td>6</td>\n",
       "    </tr>\n",
       "    <tr>\n",
       "      <th>4</th>\n",
       "      <td>2010</td>\n",
       "      <td>7</td>\n",
       "    </tr>\n",
       "    <tr>\n",
       "      <th>5</th>\n",
       "      <td>2017</td>\n",
       "      <td>6</td>\n",
       "    </tr>\n",
       "    <tr>\n",
       "      <th>6</th>\n",
       "      <td>2018</td>\n",
       "      <td>11</td>\n",
       "    </tr>\n",
       "    <tr>\n",
       "      <th>7</th>\n",
       "      <td>2020</td>\n",
       "      <td>3</td>\n",
       "    </tr>\n",
       "    <tr>\n",
       "      <th>8</th>\n",
       "      <td>2020</td>\n",
       "      <td>4</td>\n",
       "    </tr>\n",
       "  </tbody>\n",
       "</table>\n",
       "</div>"
      ],
      "text/plain": [
       "      0   1\n",
       "0  2003   6\n",
       "1  2006   5\n",
       "2  2006   6\n",
       "3  2010   6\n",
       "4  2010   7\n",
       "5  2017   6\n",
       "6  2018  11\n",
       "7  2020   3\n",
       "8  2020   4"
      ]
     },
     "execution_count": 19,
     "metadata": {},
     "output_type": "execute_result"
    }
   ],
   "source": [
    "df_deflacao = pd.DataFrame(deflacao)\n",
    "df_deflacao"
   ]
  },
  {
   "cell_type": "markdown",
   "id": "e5ddf06c",
   "metadata": {},
   "source": [
    "### RESPOSTA: Houveram 9 meses com defleção, como mostra o dataframe acima"
   ]
  },
  {
   "cell_type": "markdown",
   "id": "fd272182",
   "metadata": {},
   "source": [
    "## Pergunta 3: Quais meses mais colaboram para a inflação?"
   ]
  },
  {
   "cell_type": "code",
   "execution_count": 20,
   "id": "590ebe4a",
   "metadata": {},
   "outputs": [],
   "source": [
    "#meses_nomes = {0: [], 1:[] , 2:[], 3:'abr', 4:'mai', 5:'jun', 6:'jul', 7:'ago', 8:'set', 9:'out', 10: 'nov', 11:'dez'}\n",
    "#for i in meses:\n",
    "#    globals()[i] = []"
   ]
  },
  {
   "cell_type": "code",
   "execution_count": 21,
   "id": "6f2a8de5",
   "metadata": {},
   "outputs": [],
   "source": [
    "# colocando os dados de variacao mensal de cada ano em uma lista com o nome do respectivo mes\n",
    "jan = []\n",
    "for ano in anos_sem_2000:\n",
    "        var = dic_anos[ano]['variacao_mensal'][0]\n",
    "        jan.append(var)\n",
    "\n",
    "fev = []\n",
    "for ano in anos_sem_2000:\n",
    "    var = dic_anos[ano]['variacao_mensal'][1]\n",
    "    fev.append(var)\n",
    "\n",
    "mar = []\n",
    "for ano in anos_sem_2000:\n",
    "    var = dic_anos[ano]['variacao_mensal'][2]\n",
    "    mar.append(var)\n",
    "    \n",
    "abr = []\n",
    "for ano in anos_sem_2000:\n",
    "    var = dic_anos[ano]['variacao_mensal'][3]\n",
    "    abr.append(var)\n",
    "\n",
    "mai = []\n",
    "for ano in anos_sem_2000:\n",
    "    var = dic_anos[ano]['variacao_mensal'][4]\n",
    "    mai.append(var)\n",
    "    \n",
    "jun = []\n",
    "for ano in anos_sem_2000:\n",
    "    var = dic_anos[ano]['variacao_mensal'][5]\n",
    "    jun.append(var)\n",
    "    \n",
    "jul = []\n",
    "for ano in anos_sem_2000:\n",
    "    var = dic_anos[ano]['variacao_mensal'][6]\n",
    "    jul.append(var)\n",
    "\n",
    "ago = []\n",
    "for ano in anos_sem_2000:\n",
    "    var = dic_anos[ano]['variacao_mensal'][7]\n",
    "    ago.append(var)\n",
    "\n",
    "sete = []\n",
    "for ano in anos_sem_2000:\n",
    "    var = dic_anos[ano]['variacao_mensal'][8]\n",
    "    sete.append(var)\n",
    "\n",
    "out = []\n",
    "for ano in anos_sem_2000:\n",
    "    var = dic_anos[ano]['variacao_mensal'][9]\n",
    "    out.append(var)\n",
    "    \n",
    "nov = []\n",
    "for ano in anos_sem_2000:\n",
    "    var = dic_anos[ano]['variacao_mensal'][10]\n",
    "    nov.append(var)\n",
    "    \n",
    "dez = []\n",
    "for ano in anos_sem_2000:\n",
    "        var = dic_anos[ano]['variacao_mensal'][11]\n",
    "        dez.append(var)"
   ]
  },
  {
   "cell_type": "code",
   "execution_count": 22,
   "id": "5408deb4",
   "metadata": {},
   "outputs": [
    {
     "data": {
      "text/plain": [
       "<Figure size 1200x900 with 0 Axes>"
      ]
     },
     "metadata": {},
     "output_type": "display_data"
    }
   ],
   "source": [
    "area = plt.figure(figsize = (12,9), dpi = 100)\n"
   ]
  },
  {
   "cell_type": "code",
   "execution_count": 23,
   "id": "034399b1",
   "metadata": {},
   "outputs": [],
   "source": [
    "plot_jan = area.add_subplot(4,3,1)\n",
    "plot_fev = area.add_subplot(4,3,2)\n",
    "plot_mar = area.add_subplot(4,3,3)\n",
    "plot_abr = area.add_subplot(4,3,4)\n",
    "plot_mai = area.add_subplot(4,3,5)\n",
    "plot_jun = area.add_subplot(4,3,6)\n",
    "plot_jul = area.add_subplot(4,3,7)\n",
    "plot_ago = area.add_subplot(4,3,8)\n",
    "plot_sete = area.add_subplot(4,3,9)\n",
    "plot_out = area.add_subplot(4,3,10)\n",
    "plot_nov = area.add_subplot(4,3,11)\n",
    "plot_dez = area.add_subplot(4,3,12)\n"
   ]
  },
  {
   "cell_type": "code",
   "execution_count": 27,
   "id": "3e9ca767",
   "metadata": {},
   "outputs": [
    {
     "data": {
      "text/plain": [
       "Text(0.5, 1.0, 'Dezembro')"
      ]
     },
     "execution_count": 27,
     "metadata": {},
     "output_type": "execute_result"
    }
   ],
   "source": [
    "plot_jan.bar(anos_sem_2000, jan, color = 'gold')\n",
    "plot_jan.axis([1999, 2022, -1,2.5])\n",
    "plot_jan.set_title(\"Janeiro\", position = (0.5, -0.9))\n",
    "plot_jan.get_xaxis().set_visible(False)\n",
    "\n",
    "plot_fev.bar(anos_sem_2000, fev, color = 'orange')\n",
    "plot_fev.axis([1999, 2022, -1,2.5])\n",
    "plot_fev.set_title(\"Fevereiro\", position = (0.5, -0.9))\n",
    "plot_fev.get_xaxis().set_visible(False)\n",
    "\n",
    "plot_mar.bar(anos_sem_2000, mar, color = 'pink')\n",
    "plot_mar.axis([1999, 2022, -1,2.5])\n",
    "plot_mar.set_title(\"Março\", position = (0.5, -0.9))\n",
    "plot_mar.get_xaxis().set_visible(False)\n",
    "\n",
    "plot_abr.bar(anos_sem_2000, abr, color = 'red')\n",
    "plot_abr.axis([1999, 2022, -1,2.5])\n",
    "plot_abr.set_title(\"Abril\", position = (0.5, 0.9))\n",
    "plot_abr.get_xaxis().set_visible(False)\n",
    "\n",
    "plot_mai.bar(anos_sem_2000, mai, color = 'coral')\n",
    "plot_mai.axis([1999, 2022, -1,2.5])\n",
    "plot_mai.set_title(\"Maio\", position = (0.5, -0.9))\n",
    "plot_mai.get_xaxis().set_visible(False)\n",
    "\n",
    "plot_jun.bar(anos_sem_2000, jun, color = 'green')\n",
    "plot_jun.axis([1999, 2022, -1,2.5])\n",
    "plot_jun.set_title(\"Junho\", position = (0.5, -0.9))\n",
    "plot_jun.get_xaxis().set_visible(False)\n",
    "\n",
    "plot_jul.bar(anos_sem_2000, jul, color = 'aqua')\n",
    "plot_jul.axis([1999, 2022, -1,2.5])\n",
    "plot_jul.set_title(\"Julho\", position = (0.5, -0.9))\n",
    "plot_jul.get_xaxis().set_visible(False)\n",
    "\n",
    "plot_ago.bar(anos_sem_2000, ago, color = 'blue')\n",
    "plot_ago.axis([1999, 2022, -1,2.5])\n",
    "plot_ago.set_title(\"Agosto\", position = (0.5, -0.9))\n",
    "plot_ago.get_xaxis().set_visible(False)\n",
    "\n",
    "plot_sete.bar(anos_sem_2000, sete, color = 'purple')\n",
    "plot_sete.axis([1999, 2022, -1,2.5])\n",
    "plot_sete.set_title(\"Setembro\", position = (0.5, -0.9))\n",
    "plot_sete.get_xaxis().set_visible(False)\n",
    "\n",
    "plot_out.bar(anos_sem_2000, out, color = 'brown')\n",
    "plot_out.axis([1999, 2022, -1,2.5])\n",
    "plot_out.set_title(\"Outubro\", position = (0.5, -0.9))\n",
    "\n",
    "plot_nov.bar(anos_sem_2000, nov, color = 'gray')\n",
    "plot_nov.axis([1999, 2022, -1,2.5])\n",
    "plot_nov.set_title(\"Novembro\", position = (0.5, -0.9))\n",
    "\n",
    "plot_dez.bar(anos_sem_2000, dez, color = 'black')\n",
    "plot_dez.axis([1999, 2022, -1,2.5])\n",
    "plot_dez.set_title(\"Dezembro\", position = (0.5, -0.9))\n"
   ]
  },
  {
   "cell_type": "code",
   "execution_count": 28,
   "id": "f1766684",
   "metadata": {},
   "outputs": [
    {
     "data": {
      "image/png": "[encoded data removed]",
      "text/plain": [
       "<Figure size 1200x900 with 12 Axes>"
      ]
     },
     "execution_count": 28,
     "metadata": {},
     "output_type": "execute_result"
    }
   ],
   "source": [
    "area"
   ]
  },
  {
   "cell_type": "markdown",
   "id": "d6a53179",
   "metadata": {},
   "source": [
    "### RESPOSTA: Analisando os gráficos percebe-se que os meses de janeiro, feveiro e dezembro apresentam as maiores médias de inflação.\n"
   ]
  },
  {
   "cell_type": "code",
   "execution_count": null,
   "id": "2a2177b6",
   "metadata": {},
   "outputs": [],
   "source": []
  }
 ],
 "metadata": {
  "kernelspec": {
   "display_name": "Python 3 (ipykernel)",
   "language": "python",
   "name": "python3"
  },
  "language_info": {
   "codemirror_mode": {
    "name": "ipython",
    "version": 3
   },
   "file_extension": ".py",
   "mimetype": "text/x-python",
   "name": "python",
   "nbconvert_exporter": "python",
   "pygments_lexer": "ipython3",
   "version": "3.8.10"
  }
 },
 "nbformat": 4,
 "nbformat_minor": 5
}
